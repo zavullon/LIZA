{
 "cells": [
  {
   "attachments": {
    "master_203_pic.jpg": {
     "image/jpeg": "[encoded data removed]"
    }
   },
   "cell_type": "markdown",
   "metadata": {},
   "source": [
    "![master_203_pic.jpg](attachment:master_203_pic.jpg)"
   ]
  },
  {
   "cell_type": "markdown",
   "metadata": {},
   "source": [
    "## LAB 2 rules"
   ]
  },
  {
   "cell_type": "markdown",
   "metadata": {},
   "source": [
    "Assignment has to be done individually. Grades are between 0-20. The assignment counts for 50% of the final grade. You will be asked to build a whole machine learning pipeline and submit your predictions through the ENS data challenge competition interface. You will also have to submit your final notebook and relevant documents with regards to the following planning.\n",
    "\n",
    "- **Competition start date** : **07 March 2022 15:30**\n",
    "- **Submissions dead line** : **01 April 2022, 00:59**\n",
    "- **Work and notebook submission** : **08 April 2022, 23:59**\n",
    "\n",
    "Final work submissions are made by email at vienne.thibaud@gmail.com. Zip your whole project with underlying folders, notebook and possible report. Email subject should start with [203_lab2]."
   ]
  },
  {
   "cell_type": "markdown",
   "metadata": {},
   "source": [
    "## Grades"
   ]
  },
  {
   "cell_type": "markdown",
   "metadata": {},
   "source": [
    "Your work will be marked out of 20 according to 2 criteria :\n",
    "\n",
    "- **Criteria 1 : Predictive model performance and ranking on ENS data challenge leaderboard ( / 7.5 points).**<br/>\n",
    "- **Criteria 2 : Relevance of the reported notebook ( / 12.5 points).**<br/>\n",
    "\n",
    "First criteria grade will be a mixture between your predictive model performance on the competition interface and your competition ranking. Criteria 2 refers to the submitted work relevance. At least you should provide a commented notebook but feel free to provide a small report. More precisely, second criteria grades will be assigned with regards to the following points : \n",
    "\n",
    "**Data exploration and features engineering ( / 4 pts)** : \n",
    "\n",
    "> - Richness of exploration, analysis and charts provided.<br/>\n",
    "> - Relevance of interpretations and justifications provided.<br/>\n",
    "> - Relevance of implemented features, justifications and interpretations in data cleaning and features engineering.\n",
    "> - Personal initiatives.<br/>\n",
    "> - Your conclusions for following steps.<br/>\n",
    "\n",
    "**Machine learning pipeline ( / 6 pts)** : \n",
    "> - Relevance of implemented features, justifications and interpretations in machine learning algorithms.\n",
    "> - Relevance of justifications and interpretations in models evaluation procedure, results and models diagnostic.\n",
    "> - Personal initiatives.\n",
    "> - Your conclusions.\n",
    "\n",
    "**Notebook quality and participation ( / 2.5 pts)** : \n",
    "\n",
    "> - Code clearness (structure of the code, comments, written functions…)\n",
    "> - Notebook clearness (structure of notebook, markdown...).\n",
    "> - Participation on the forum.\n",
    "> - ..."
   ]
  },
  {
   "cell_type": "markdown",
   "metadata": {},
   "source": [
    "## Notebook description"
   ]
  },
  {
   "cell_type": "markdown",
   "metadata": {},
   "source": [
    "This notebook will be used during the first 3 inclass hours of the competition. Using it, we will try to create a first supervised machine learning model to **recover missing values in financial time series**. Moreover,it can be used as a template to structure your work and so success this lab. It is composed of common machine learning steps :\n",
    "\n",
    "**Step 0 - Prerequisites** : this is where you will code all your prerequisites including python modules to import and your own functions. It also covers the competition purpose and the description of data.<br/><br/>\n",
    "**Step 1 - Exploration** : It is a common part in a machine learning pipeline. In this section, you will import datasets, discover the available features, provide some data mining observations, investigate missing values and possible outliers. You can also try to explore the dynamics behing the modelization. An exhaustive exploration is more likely to yield powerful predictive models.<br/><br/>\n",
    "**Step 2 - Features Engineering** : According to conclusions you get from exploration, you will process the provided data (cleaning, create new features, features selection...).<br/><br/>\n",
    "**Step 3 - Machine learning experiments** : In this part, you will test different machine learning algorithms and configurations. It is your sandbox before running the final machine learning model. You will also have to evaluate your results and interpret it.<br/><br/>\n",
    "**Step 4 - Final run** : According to the previous steps results and your own interpretation, run your best machine learning algorithm and make predictions for the test set. Then export your results and make a submission on the ENS data challenge platform. Conclude.<br/><br/>"
   ]
  },
  {
   "cell_type": "markdown",
   "metadata": {},
   "source": [
    "## How to success this lab?"
   ]
  },
  {
   "cell_type": "markdown",
   "metadata": {},
   "source": [
    "- Be organized. Work on a regular basis. The lab 2 requires time to yield good results.\n",
    "- Take time to explore data. It will help you to understand features and reach better scores.\n",
    "- Ask yourself questions. Be critical with results you get.\n",
    "- Diversify efforts on all parts of machine learning pipeline (exploration, cleaning, features engineering/selection, machine learning...).\n",
    "- Take initiatives. Try and test! \n",
    "- Keep trusting in yourself! you have all the needed knowledge to success this assignement! :)"
   ]
  },
  {
   "cell_type": "markdown",
   "metadata": {},
   "source": [
    "# Step 0 - Prerequisites "
   ]
  },
  {
   "cell_type": "markdown",
   "metadata": {},
   "source": [
    "## Aim of the competition"
   ]
  },
  {
   "cell_type": "markdown",
   "metadata": {},
   "source": [
    "When computers are responsible for all trading decisions through algorithms, it is very important that their input data be of the best quality possible. However, sometimes values may be missing or contain outliers.\n",
    "\n",
    "Futures contracts are a promise to deliver some underlying asset (let’s say cotton) at a given expiry date and at a predetermined price; they are for instance useful to a company for locking a price for a future time when they will need the underlying asset (it could be a garment manufacturer, for instance, for cotton).\n",
    "\n",
    "The goal of this challenge is to recover missing values in financial time series covering 300 futures contracts."
   ]
  },
  {
   "cell_type": "markdown",
   "metadata": {},
   "source": [
    "## About data"
   ]
  },
  {
   "cell_type": "markdown",
   "metadata": {},
   "source": [
    "Dimension : Less than 1,000,000 rows, including 200,000 bid-ask spreads to predict.\n",
    "\n",
    "\n",
    "> - **product_id** and **liquidity_rank** define a unique futures contract. The dataset contains around 100 product_id (corresponding for instance to a specific type of crude oil). For each product_id several liquidity ranks can exist: liquidity_rank 0 refers to the contract with the closest expiry date (which is often the most traded one), 1 to the next contract to expire, etc. Thus, a contract of rank 1 becomes a contract of rank 0 when the previous contract of rank 0 expires.\n",
    "> - **dt_close** represents the day number (they are therefore chronological) for each data sample. For a given dt_close there is 1 entry per (product_id, liquidity_rank) pair.\n",
    "> - **dt_expiry** similarly represents the date of the futures contract expiry.\n",
    "> - **normal_trading_day** is set to 0 when the market is closed or the market activity is reduced.\n",
    "> - **open**, **close** represent contract prices, resp. at market opening and close.\n",
    "> - **high**, **low** represent the highest and lowest price of the contract during the day.\n",
    "> - **volume** is the number of contracts exchanged during the day, up to a factor that depends only on product_id.\n",
    "> - **open_interest** is the number of active contracts at the end of the day, with the same factor applied as for the volume.\n",
    "> **spread** is the “daily bid-ask spread”, which is the value we want to predict.\n",
    "> **tick_size** is a proxy for 1 unit of spread (this is not directly price difference).\n",
    "> - **fixed** is set to 1 when one or more features have been fixed for various reason (outliers, missing values…).\n",
    "\n",
    "Prices are all normalized in some way (the values are thus not in currency units), but they are consistent within each product_id."
   ]
  },
  {
   "cell_type": "markdown",
   "metadata": {},
   "source": [
    "### Metric\n",
    "\n",
    "**Root mean square error (RMSE)** between the predicted daily bid-ask spread and the real one, measured over every missing spread.\n",
    "\n",
    "### Benchmark\n",
    "\n",
    "Whereas classical time series problems only allow the use of past data for predictions, participants can exploit the complete time series “to fill the gap”.\n",
    "\n",
    "A very simple benchmark would be:\n",
    "\n",
    "> **df['spread'].interpolate(method='linear')**"
   ]
  },
  {
   "cell_type": "markdown",
   "metadata": {},
   "source": [
    "## Load modules\n",
    "\n",
    "In this cell, you can put all modules you use. You can use it to provide a clear code."
   ]
  },
  {
   "cell_type": "code",
   "execution_count": 1,
   "metadata": {
    "execution": {
     "iopub.execute_input": "2022-04-09T21:09:47.788952Z",
     "iopub.status.busy": "2022-04-09T21:09:47.787867Z",
     "iopub.status.idle": "2022-04-09T21:09:48.535427Z",
     "shell.execute_reply": "2022-04-09T21:09:48.535012Z"
    }
   },
   "outputs": [],
   "source": [
    "import pandas as pd\n",
    "import numpy as np\n",
    "import matplotlib.pyplot as plt\n",
    "import seaborn as sns"
   ]
  },
  {
   "cell_type": "markdown",
   "metadata": {},
   "source": [
    "## Your functions\n",
    "\n",
    "In order to have a clear code, you can put all your own functions in this cell."
   ]
  },
  {
   "cell_type": "code",
   "execution_count": 2,
   "metadata": {
    "execution": {
     "iopub.execute_input": "2022-04-09T21:09:48.541092Z",
     "iopub.status.busy": "2022-04-09T21:09:48.540675Z",
     "iopub.status.idle": "2022-04-09T21:09:48.542885Z",
     "shell.execute_reply": "2022-04-09T21:09:48.542471Z"
    }
   },
   "outputs": [],
   "source": [
    "def export_ens(df_test, pred_test, save=True, path_save=\"y_test_prediction.csv\"):\n",
    "    \"\"\"\n",
    "    Export submissions with the good ENS data challenge format.\n",
    "    df_test : (pandas dataframe) test set\n",
    "    proba_test : (numpy ndarray) prediction as a numpy ndarray you get using method .predict()\n",
    "    save : (bool) if set to True, it will save csv submission in path_save path.\n",
    "    path_save : (str) path where to save submission.\n",
    "    return : dataframe for submission\n",
    "    \"\"\"\n",
    "    df_submit = pd.Series(pred_test[:,0], index=df_test.index, name=\"spread\")\n",
    "    df_submit.to_csv(path_save, index=True)\n",
    "    return df_submit\n",
    "\n",
    "def check_test(result, expected, display_error):\n",
    "    \"\"\"\n",
    "    Testing your results.\n",
    "    \"\"\"\n",
    "    if result == expected:\n",
    "        print(\"1 test passed.\")\n",
    "    else:\n",
    "        print(display_error)"
   ]
  },
  {
   "cell_type": "markdown",
   "metadata": {},
   "source": [
    "# Step 1 - Data Exploration\n",
    "\n",
    "Data exploration is a common part in a machine learning pipeline. In this section, you will import datasets, discover  features, provide data mining observations, investigate missing values and possible outliers. An exhaustive exploration is more likely to yield prowerful predictive models.\n",
    "\n",
    "- Read the train dataset inputs and assign to the variable **df_train**.\n",
    "- Read the train dataset labels and assign to the variable **y_train**.\n",
    "- Read the test dataset inputs and assign to the variable **df_test**.\n",
    "- Concat **df_train** and **y_train** to create **df_full**.\n",
    "- Assign number of rows in train dataset and assign it to variable **n_rows_train**.\n",
    "- Assign number of rows in test dataset and assign it to variable **n_rows_test**."
   ]
  },
  {
   "cell_type": "markdown",
   "metadata": {},
   "source": [
    "## Load datasets"
   ]
  },
  {
   "cell_type": "code",
   "execution_count": 3,
   "metadata": {
    "execution": {
     "iopub.execute_input": "2022-04-09T21:09:48.546626Z",
     "iopub.status.busy": "2022-04-09T21:09:48.546210Z",
     "iopub.status.idle": "2022-04-09T21:09:49.446290Z",
     "shell.execute_reply": "2022-04-09T21:09:49.445830Z"
    }
   },
   "outputs": [],
   "source": [
    "df_train = pd.read_csv(r'/root/LIZA/data/input_training_imet9ZU.csv')\n",
    "y_train = pd.read_csv(r'/root/LIZA/data/output_training_yCN1f2d.csv')\n",
    "df_test = pd.read_csv(r'/root/LIZA/data/input_test_4AhEauI.csv')\n",
    "df_full = pd.merge(df_train, y_train)\n",
    "n_rows_train = df_train.shape[0]\n",
    "n_rows_test = df_test.shape[0]"
   ]
  },
  {
   "cell_type": "code",
   "execution_count": 4,
   "metadata": {
    "execution": {
     "iopub.execute_input": "2022-04-09T21:09:49.449786Z",
     "iopub.status.busy": "2022-04-09T21:09:49.449365Z",
     "iopub.status.idle": "2022-04-09T21:09:49.453571Z",
     "shell.execute_reply": "2022-04-09T21:09:49.453927Z"
    }
   },
   "outputs": [
    {
     "name": "stdout",
     "output_type": "stream",
     "text": [
      "1 test passed.\n",
      "1 test passed.\n"
     ]
    }
   ],
   "source": [
    "check_test(n_rows_train, 629611, \"wrong number of rows\")\n",
    "check_test(n_rows_test, 230304, \"wrong number of rows\")"
   ]
  },
  {
   "cell_type": "markdown",
   "metadata": {},
   "source": [
    "## Take a look on first rows\n",
    "\n",
    "Take a look on the **df_train** first 5 rows using method .head()."
   ]
  },
  {
   "cell_type": "code",
   "execution_count": 5,
   "metadata": {
    "execution": {
     "iopub.execute_input": "2022-04-09T21:09:49.464255Z",
     "iopub.status.busy": "2022-04-09T21:09:49.463278Z",
     "iopub.status.idle": "2022-04-09T21:09:49.472678Z",
     "shell.execute_reply": "2022-04-09T21:09:49.473029Z"
    }
   },
   "outputs": [
    {
     "data": {
      "text/html": [
       "<div>\n",
       "<style scoped>\n",
       "    .dataframe tbody tr th:only-of-type {\n",
       "        vertical-align: middle;\n",
       "    }\n",
       "\n",
       "    .dataframe tbody tr th {\n",
       "        vertical-align: top;\n",
       "    }\n",
       "\n",
       "    .dataframe thead th {\n",
       "        text-align: right;\n",
       "    }\n",
       "</style>\n",
       "<table border=\"1\" class=\"dataframe\">\n",
       "  <thead>\n",
       "    <tr style=\"text-align: right;\">\n",
       "      <th></th>\n",
       "      <th>ID</th>\n",
       "      <th>dt_close</th>\n",
       "      <th>product_id</th>\n",
       "      <th>liquidity_rank</th>\n",
       "      <th>normal_trading_day</th>\n",
       "      <th>dt_expiry</th>\n",
       "      <th>open</th>\n",
       "      <th>high</th>\n",
       "      <th>low</th>\n",
       "      <th>close</th>\n",
       "      <th>open_interest</th>\n",
       "      <th>volume</th>\n",
       "      <th>tick_size</th>\n",
       "      <th>fixed</th>\n",
       "    </tr>\n",
       "  </thead>\n",
       "  <tbody>\n",
       "    <tr>\n",
       "      <th>0</th>\n",
       "      <td>0</td>\n",
       "      <td>8862</td>\n",
       "      <td>401920</td>\n",
       "      <td>0</td>\n",
       "      <td>1</td>\n",
       "      <td>8952</td>\n",
       "      <td>2710.0</td>\n",
       "      <td>2721.0</td>\n",
       "      <td>2624.0</td>\n",
       "      <td>2635.0</td>\n",
       "      <td>2814</td>\n",
       "      <td>402</td>\n",
       "      <td>11</td>\n",
       "      <td>0</td>\n",
       "    </tr>\n",
       "    <tr>\n",
       "      <th>1</th>\n",
       "      <td>1</td>\n",
       "      <td>8862</td>\n",
       "      <td>401920</td>\n",
       "      <td>1</td>\n",
       "      <td>1</td>\n",
       "      <td>8995</td>\n",
       "      <td>2610.0</td>\n",
       "      <td>2638.0</td>\n",
       "      <td>2547.0</td>\n",
       "      <td>2560.0</td>\n",
       "      <td>905</td>\n",
       "      <td>107</td>\n",
       "      <td>11</td>\n",
       "      <td>0</td>\n",
       "    </tr>\n",
       "    <tr>\n",
       "      <th>2</th>\n",
       "      <td>2</td>\n",
       "      <td>8862</td>\n",
       "      <td>401920</td>\n",
       "      <td>2</td>\n",
       "      <td>1</td>\n",
       "      <td>9039</td>\n",
       "      <td>2530.0</td>\n",
       "      <td>2550.0</td>\n",
       "      <td>2468.0</td>\n",
       "      <td>2478.0</td>\n",
       "      <td>719</td>\n",
       "      <td>41</td>\n",
       "      <td>11</td>\n",
       "      <td>0</td>\n",
       "    </tr>\n",
       "    <tr>\n",
       "      <th>3</th>\n",
       "      <td>3</td>\n",
       "      <td>8862</td>\n",
       "      <td>401920</td>\n",
       "      <td>3</td>\n",
       "      <td>1</td>\n",
       "      <td>9104</td>\n",
       "      <td>2497.0</td>\n",
       "      <td>2508.0</td>\n",
       "      <td>2437.0</td>\n",
       "      <td>2443.0</td>\n",
       "      <td>466</td>\n",
       "      <td>25</td>\n",
       "      <td>11</td>\n",
       "      <td>0</td>\n",
       "    </tr>\n",
       "    <tr>\n",
       "      <th>4</th>\n",
       "      <td>4</td>\n",
       "      <td>8862</td>\n",
       "      <td>401920</td>\n",
       "      <td>4</td>\n",
       "      <td>1</td>\n",
       "      <td>9213</td>\n",
       "      <td>2474.0</td>\n",
       "      <td>2505.0</td>\n",
       "      <td>2443.0</td>\n",
       "      <td>2452.0</td>\n",
       "      <td>286</td>\n",
       "      <td>11</td>\n",
       "      <td>11</td>\n",
       "      <td>0</td>\n",
       "    </tr>\n",
       "  </tbody>\n",
       "</table>\n",
       "</div>"
      ],
      "text/plain": [
       "   ID  dt_close  product_id  liquidity_rank  normal_trading_day  dt_expiry  \\\n",
       "0   0      8862      401920               0                   1       8952   \n",
       "1   1      8862      401920               1                   1       8995   \n",
       "2   2      8862      401920               2                   1       9039   \n",
       "3   3      8862      401920               3                   1       9104   \n",
       "4   4      8862      401920               4                   1       9213   \n",
       "\n",
       "     open    high     low   close  open_interest  volume  tick_size  fixed  \n",
       "0  2710.0  2721.0  2624.0  2635.0           2814     402         11      0  \n",
       "1  2610.0  2638.0  2547.0  2560.0            905     107         11      0  \n",
       "2  2530.0  2550.0  2468.0  2478.0            719      41         11      0  \n",
       "3  2497.0  2508.0  2437.0  2443.0            466      25         11      0  \n",
       "4  2474.0  2505.0  2443.0  2452.0            286      11         11      0  "
      ]
     },
     "execution_count": 1,
     "metadata": {},
     "output_type": "execute_result"
    }
   ],
   "source": [
    "df_train.head(5)"
   ]
  },
  {
   "cell_type": "markdown",
   "metadata": {},
   "source": [
    "## Set ID as index\n",
    "\n",
    "the column **ID** is the identifier of the osbervations. It is used to retrieve a given prediction with its label. Let's set the column **ID** as the index of the dataframe with the method **set_index()**.\n",
    "\n",
    "- Set the column **ID** as the index of **df_train**.\n",
    "- Set the column **ID** as the index of **df_target_train**.\n",
    "- Set the column **ID** as the index of **df_test**."
   ]
  },
  {
   "cell_type": "code",
   "execution_count": 6,
   "metadata": {
    "execution": {
     "iopub.execute_input": "2022-04-09T21:09:49.476056Z",
     "iopub.status.busy": "2022-04-09T21:09:49.475642Z",
     "iopub.status.idle": "2022-04-09T21:09:49.508372Z",
     "shell.execute_reply": "2022-04-09T21:09:49.507999Z"
    }
   },
   "outputs": [],
   "source": [
    "df_train = df_train.set_index(['ID'])\n",
    "y_train = y_train.set_index('ID')\n",
    "df_test = df_test.set_index('ID')"
   ]
  },
  {
   "cell_type": "code",
   "execution_count": 7,
   "metadata": {
    "execution": {
     "iopub.execute_input": "2022-04-09T21:09:49.511840Z",
     "iopub.status.busy": "2022-04-09T21:09:49.511429Z",
     "iopub.status.idle": "2022-04-09T21:09:49.514063Z",
     "shell.execute_reply": "2022-04-09T21:09:49.513648Z"
    }
   },
   "outputs": [
    {
     "name": "stdout",
     "output_type": "stream",
     "text": [
      "1 test passed.\n",
      "1 test passed.\n"
     ]
    }
   ],
   "source": [
    "check_test(df_train.shape[1], 13, \"wrong number of columns\")\n",
    "check_test(y_train.shape, (629611, 1), \"wrong number of columns\")"
   ]
  },
  {
   "cell_type": "markdown",
   "metadata": {},
   "source": [
    "## Look at the distribution of the target\n",
    "\n",
    "Let's take a look on the column label (spread) in the train dataset. Take a look on the disribution of the label by plotting an histogram with matplotlib.\n",
    "\n",
    "- Plot the histogram of the serie **y_train**. You can use the parameter **bins** to change the number of slots.\n",
    "- Describe the serie **y_train** using the method **.describe()**."
   ]
  },
  {
   "cell_type": "code",
   "execution_count": 8,
   "metadata": {
    "execution": {
     "iopub.execute_input": "2022-04-09T21:09:49.517037Z",
     "iopub.status.busy": "2022-04-09T21:09:49.516635Z",
     "iopub.status.idle": "2022-04-09T21:09:49.812866Z",
     "shell.execute_reply": "2022-04-09T21:09:49.812501Z"
    }
   },
   "outputs": [
    {
     "data": {
      "image/png": "[encoded data removed]",
      "text/plain": [
       "<Figure size 432x288 with 1 Axes>"
      ]
     },
     "metadata": {
      "needs_background": "light"
     },
     "output_type": "display_data"
    },
    {
     "data": {
      "text/html": [
       "<div>\n",
       "<style scoped>\n",
       "    .dataframe tbody tr th:only-of-type {\n",
       "        vertical-align: middle;\n",
       "    }\n",
       "\n",
       "    .dataframe tbody tr th {\n",
       "        vertical-align: top;\n",
       "    }\n",
       "\n",
       "    .dataframe thead th {\n",
       "        text-align: right;\n",
       "    }\n",
       "</style>\n",
       "<table border=\"1\" class=\"dataframe\">\n",
       "  <thead>\n",
       "    <tr style=\"text-align: right;\">\n",
       "      <th></th>\n",
       "      <th>spread</th>\n",
       "    </tr>\n",
       "  </thead>\n",
       "  <tbody>\n",
       "    <tr>\n",
       "      <th>count</th>\n",
       "      <td>629611.000000</td>\n",
       "    </tr>\n",
       "    <tr>\n",
       "      <th>mean</th>\n",
       "      <td>2.844209</td>\n",
       "    </tr>\n",
       "    <tr>\n",
       "      <th>std</th>\n",
       "      <td>2.535074</td>\n",
       "    </tr>\n",
       "    <tr>\n",
       "      <th>min</th>\n",
       "      <td>1.000000</td>\n",
       "    </tr>\n",
       "    <tr>\n",
       "      <th>25%</th>\n",
       "      <td>1.138524</td>\n",
       "    </tr>\n",
       "    <tr>\n",
       "      <th>50%</th>\n",
       "      <td>1.810767</td>\n",
       "    </tr>\n",
       "    <tr>\n",
       "      <th>75%</th>\n",
       "      <td>3.241183</td>\n",
       "    </tr>\n",
       "    <tr>\n",
       "      <th>max</th>\n",
       "      <td>10.000000</td>\n",
       "    </tr>\n",
       "  </tbody>\n",
       "</table>\n",
       "</div>"
      ],
      "text/plain": [
       "              spread\n",
       "count  629611.000000\n",
       "mean        2.844209\n",
       "std         2.535074\n",
       "min         1.000000\n",
       "25%         1.138524\n",
       "50%         1.810767\n",
       "75%         3.241183\n",
       "max        10.000000"
      ]
     },
     "execution_count": 1,
     "metadata": {},
     "output_type": "execute_result"
    }
   ],
   "source": [
    "# Plot the histogram\n",
    "hist = y_train.plot.hist(bins=20)\n",
    "plt.show()\n",
    "\n",
    "# Describe the serie of label with the method .describe()\n",
    "y_train.describe()"
   ]
  },
  {
   "cell_type": "markdown",
   "metadata": {},
   "source": [
    "## Bid-ask spread with respect to the liquidity rank\n"
   ]
  },
  {
   "cell_type": "code",
   "execution_count": 9,
   "metadata": {
    "execution": {
     "iopub.execute_input": "2022-04-09T21:09:49.817661Z",
     "iopub.status.busy": "2022-04-09T21:09:49.817253Z",
     "iopub.status.idle": "2022-04-09T21:09:50.269335Z",
     "shell.execute_reply": "2022-04-09T21:09:50.269693Z"
    }
   },
   "outputs": [
    {
     "data": {
      "image/png": "[encoded data removed]",
      "text/plain": [
       "<Figure size 1080x576 with 1 Axes>"
      ]
     },
     "metadata": {
      "needs_background": "light"
     },
     "output_type": "display_data"
    }
   ],
   "source": [
    "plt.figure(figsize=[15, 8])\n",
    "ax = sns.boxplot(x='liquidity_rank', y='spread', data=df_full)\n",
    "plt.title(\"Distribution of the target per liquidity rank\")\n",
    "plt.show()"
   ]
  },
  {
   "cell_type": "markdown",
   "metadata": {},
   "source": [
    "## Tick size with respect to the liquidity rank"
   ]
  },
  {
   "cell_type": "code",
   "execution_count": 10,
   "metadata": {
    "execution": {
     "iopub.execute_input": "2022-04-09T21:09:50.274469Z",
     "iopub.status.busy": "2022-04-09T21:09:50.274062Z",
     "iopub.status.idle": "2022-04-09T21:09:50.584402Z",
     "shell.execute_reply": "2022-04-09T21:09:50.583965Z"
    }
   },
   "outputs": [
    {
     "data": {
      "image/png": "[encoded data removed]",
      "text/plain": [
       "<Figure size 1080x576 with 1 Axes>"
      ]
     },
     "metadata": {
      "needs_background": "light"
     },
     "output_type": "display_data"
    }
   ],
   "source": [
    "plt.figure(figsize=[15, 8])\n",
    "ax = sns.boxplot(x='liquidity_rank', y='tick_size', data=df_full)\n",
    "plt.title(\"Distribution of the ticket per liquidity rank\")\n",
    "plt.show()"
   ]
  },
  {
   "cell_type": "markdown",
   "metadata": {},
   "source": [
    "# Step 2 - Features engineering and selection\n",
    "\n",
    "According to the conclusions you get from step 1 exploration, process your data (features engineering, features selection, dimensionality reduction...). Feel free to create several different datasets if you want to explore different kind of dataframes."
   ]
  },
  {
   "cell_type": "markdown",
   "metadata": {},
   "source": [
    "## Compute the mean spread and volatility spread per product\n",
    "\n",
    "_(Here is an example of fetures engineering + interpretation you can perform to understand your features)._\n",
    "\n",
    "As seen above, there is a relationship between the bid-ask spread, the product and the liquidity rank. We will use past and future observations to retrieve the bid-ask spreads.\n",
    "\n",
    "- Create the mean target per product by grouping observations on product and liquidity rank on **df_full**.\n",
    "- Add a new column **mean_target_per_product** to train and test datasets using the merge function."
   ]
  },
  {
   "cell_type": "code",
   "execution_count": 11,
   "metadata": {
    "execution": {
     "iopub.execute_input": "2022-04-09T21:09:50.589035Z",
     "iopub.status.busy": "2022-04-09T21:09:50.588621Z",
     "iopub.status.idle": "2022-04-09T21:09:50.699172Z",
     "shell.execute_reply": "2022-04-09T21:09:50.698623Z"
    }
   },
   "outputs": [],
   "source": [
    "# compute mean_target_per_product\n",
    "mean_target_per_product = df_full.groupby(by = [\"product_id\", \"liquidity_rank\"])['spread'].mean()\n",
    "mean_target_per_product.name = \"mean_target_per_product\"\n",
    "\n",
    "# merge on df_train and df_test\n",
    "df_train = df_train.merge(mean_target_per_product, how=\"left\", right_index=True, left_on=[\"product_id\", \"liquidity_rank\"])\n",
    "df_test = df_test.merge(mean_target_per_product, how=\"left\", right_index=True, left_on=[\"product_id\", \"liquidity_rank\"])"
   ]
  },
  {
   "cell_type": "code",
   "execution_count": 12,
   "metadata": {
    "execution": {
     "iopub.execute_input": "2022-04-09T21:09:50.703854Z",
     "iopub.status.busy": "2022-04-09T21:09:50.703429Z",
     "iopub.status.idle": "2022-04-09T21:09:50.771594Z",
     "shell.execute_reply": "2022-04-09T21:09:50.771226Z"
    }
   },
   "outputs": [],
   "source": [
    "# compute std_target_per_product\n",
    "std_target_per_liquidity = df_full.groupby(by = [ \"liquidity_rank\"])['spread'].std()\n",
    "std_target_per_liquidity.name = \"std_target_per_liquidity\"\n",
    "\n",
    "# merge on df_train and df_test\n",
    "df_train = df_train.merge(std_target_per_liquidity, how=\"left\", right_index=True, left_on=[\"liquidity_rank\"])\n",
    "df_test = df_test.merge(std_target_per_liquidity, how=\"left\", right_index=True, left_on=[\"liquidity_rank\"])"
   ]
  },
  {
   "cell_type": "markdown",
   "metadata": {},
   "source": [
    "#### Compute maturity"
   ]
  },
  {
   "cell_type": "code",
   "execution_count": 13,
   "metadata": {
    "execution": {
     "iopub.execute_input": "2022-04-09T21:09:50.775611Z",
     "iopub.status.busy": "2022-04-09T21:09:50.775193Z",
     "iopub.status.idle": "2022-04-09T21:09:50.785945Z",
     "shell.execute_reply": "2022-04-09T21:09:50.785583Z"
    }
   },
   "outputs": [],
   "source": [
    "df_full['maturity'] = (df_full['dt_expiry']- df_full['dt_close'])/365\n",
    "df_train['maturity'] = (df_train['dt_expiry']- df_train['dt_close'])/365\n",
    "df_test['maturity'] = (df_test['dt_expiry']- df_test['dt_close'])/365"
   ]
  },
  {
   "cell_type": "markdown",
   "metadata": {},
   "source": [
    "## Maturity with respect to the liquidity rank"
   ]
  },
  {
   "cell_type": "code",
   "execution_count": 14,
   "metadata": {
    "execution": {
     "iopub.execute_input": "2022-04-09T21:09:50.790418Z",
     "iopub.status.busy": "2022-04-09T21:09:50.790007Z",
     "iopub.status.idle": "2022-04-09T21:09:51.092603Z",
     "shell.execute_reply": "2022-04-09T21:09:51.092965Z"
    },
    "scrolled": true
   },
   "outputs": [
    {
     "data": {
      "image/png": "[encoded data removed]",
      "text/plain": [
       "<Figure size 1080x576 with 1 Axes>"
      ]
     },
     "metadata": {
      "needs_background": "light"
     },
     "output_type": "display_data"
    }
   ],
   "source": [
    "plt.figure(figsize=[15, 8])\n",
    "ax = sns.boxplot(x='liquidity_rank', y='maturity', data=df_full)\n",
    "plt.title(\"Distribution of the maturity per liquidity rank\")\n",
    "plt.show()"
   ]
  },
  {
   "cell_type": "markdown",
   "metadata": {},
   "source": [
    "#### Compute Price variance usinf open, close, high and low prices"
   ]
  },
  {
   "cell_type": "code",
   "execution_count": 15,
   "metadata": {
    "execution": {
     "iopub.execute_input": "2022-04-09T21:09:51.097523Z",
     "iopub.status.busy": "2022-04-09T21:09:51.097118Z",
     "iopub.status.idle": "2022-04-09T21:09:51.198720Z",
     "shell.execute_reply": "2022-04-09T21:09:51.198274Z"
    }
   },
   "outputs": [],
   "source": [
    "df_full['hml'] = (np.log(df_full['high'])- np.log(df_full['open']))*(np.log(df_full['high'])- np.log(df_full['close'])) - (np.log(df_full['low'])- np.log(df_full['open']))*(np.log(df_full['low'])- np.log(df_full['close']))*100"
   ]
  },
  {
   "cell_type": "code",
   "execution_count": 16,
   "metadata": {
    "execution": {
     "iopub.execute_input": "2022-04-09T21:09:51.205095Z",
     "iopub.status.busy": "2022-04-09T21:09:51.204674Z",
     "iopub.status.idle": "2022-04-09T21:09:51.342269Z",
     "shell.execute_reply": "2022-04-09T21:09:51.341828Z"
    }
   },
   "outputs": [],
   "source": [
    "df_train['hml'] = (np.log(df_train['high'])- np.log(df_train['open']))*(np.log(df_train['high'])- np.log(df_train['close'])) - (np.log(df_train['low'])- np.log(df_train['open']))*(np.log(df_train['low'])- np.log(df_train['close']))*100\n",
    "df_test['hml'] = (np.log(df_test['high'])- np.log(df_test['open']))*(np.log(df_test['high'])- np.log(df_test['close'])) - (np.log(df_test['low'])- np.log(df_test['open']))*(np.log(df_test['low'])- np.log(df_test['close']))*100"
   ]
  },
  {
   "cell_type": "code",
   "execution_count": 17,
   "metadata": {
    "execution": {
     "iopub.execute_input": "2022-04-09T21:09:51.345517Z",
     "iopub.status.busy": "2022-04-09T21:09:51.345103Z",
     "iopub.status.idle": "2022-04-09T21:09:51.370064Z",
     "shell.execute_reply": "2022-04-09T21:09:51.369620Z"
    }
   },
   "outputs": [
    {
     "data": {
      "text/plain": [
       "count    629611.000000\n",
       "mean         -0.008997\n",
       "std           0.372184\n",
       "min        -255.932670\n",
       "25%          -0.005781\n",
       "50%          -0.001249\n",
       "75%          -0.000005\n",
       "max           0.314726\n",
       "Name: hml, dtype: float64"
      ]
     },
     "execution_count": 1,
     "metadata": {},
     "output_type": "execute_result"
    }
   ],
   "source": [
    "df_train['hml'].describe()"
   ]
  },
  {
   "cell_type": "code",
   "execution_count": 18,
   "metadata": {
    "execution": {
     "iopub.execute_input": "2022-04-09T21:09:51.373470Z",
     "iopub.status.busy": "2022-04-09T21:09:51.373061Z",
     "iopub.status.idle": "2022-04-09T21:09:51.440591Z",
     "shell.execute_reply": "2022-04-09T21:09:51.439765Z"
    }
   },
   "outputs": [],
   "source": [
    "df_train.drop(df_train.loc[df_train['hml']==df_train['hml'].min()].index, inplace=True)"
   ]
  },
  {
   "cell_type": "code",
   "execution_count": 19,
   "metadata": {
    "execution": {
     "iopub.execute_input": "2022-04-09T21:09:51.443905Z",
     "iopub.status.busy": "2022-04-09T21:09:51.443504Z",
     "iopub.status.idle": "2022-04-09T21:09:51.468317Z",
     "shell.execute_reply": "2022-04-09T21:09:51.467952Z"
    }
   },
   "outputs": [
    {
     "data": {
      "text/plain": [
       "count    629610.000000\n",
       "mean         -0.008591\n",
       "std           0.185724\n",
       "min         -69.546794\n",
       "25%          -0.005781\n",
       "50%          -0.001249\n",
       "75%          -0.000005\n",
       "max           0.314726\n",
       "Name: hml, dtype: float64"
      ]
     },
     "execution_count": 1,
     "metadata": {},
     "output_type": "execute_result"
    }
   ],
   "source": [
    "df_train['hml'].describe()"
   ]
  },
  {
   "cell_type": "code",
   "execution_count": 20,
   "metadata": {
    "execution": {
     "iopub.execute_input": "2022-04-09T21:09:51.471611Z",
     "iopub.status.busy": "2022-04-09T21:09:51.471209Z",
     "iopub.status.idle": "2022-04-09T21:09:51.531852Z",
     "shell.execute_reply": "2022-04-09T21:09:51.531400Z"
    }
   },
   "outputs": [],
   "source": [
    "df_full.drop(df_full.loc[df_full['hml']==df_full['hml'].min()].index, inplace=True)"
   ]
  },
  {
   "cell_type": "code",
   "execution_count": 21,
   "metadata": {
    "execution": {
     "iopub.execute_input": "2022-04-09T21:09:51.536402Z",
     "iopub.status.busy": "2022-04-09T21:09:51.535960Z",
     "iopub.status.idle": "2022-04-09T21:09:51.607965Z",
     "shell.execute_reply": "2022-04-09T21:09:51.607585Z"
    }
   },
   "outputs": [],
   "source": [
    "mean_hml = df_full.groupby('product_id')['hml'].mean()\n",
    "mean_hml.name = 'mean_hml'\n",
    "\n",
    "df_train = df_train.merge(mean_hml, how=\"left\", right_index=True, left_on=[\"product_id\"])\n",
    "df_test = df_test.merge(mean_hml, how=\"left\", right_index=True, left_on=[\"product_id\"])"
   ]
  },
  {
   "cell_type": "code",
   "execution_count": 22,
   "metadata": {
    "execution": {
     "iopub.execute_input": "2022-04-09T21:09:51.614719Z",
     "iopub.status.busy": "2022-04-09T21:09:51.614293Z",
     "iopub.status.idle": "2022-04-09T21:09:51.724507Z",
     "shell.execute_reply": "2022-04-09T21:09:51.724135Z"
    }
   },
   "outputs": [],
   "source": [
    "import numpy as np\n",
    "import matplotlib.pyplot as plt\n",
    "from sklearn.metrics import mean_squared_log_error\n",
    "from sklearn.preprocessing import LabelEncoder, OneHotEncoder\n",
    "from sklearn.model_selection import train_test_split\n",
    "from sklearn.preprocessing import MinMaxScaler\n",
    "from math import sqrt\n",
    "from math import log\n",
    "\n",
    "\n",
    "def one_hot_encoder(df, col_to_encode, col_is_int=True):\n",
    "    \"\"\"\n",
    "    Performs One Hot Encoding with sklearn.\n",
    "    df : pandas dataframe containing column to encode\n",
    "    col_to_encode : (str) column name\n",
    "    col_is_int : (bool) whether or not column is integer.\n",
    "    \"\"\"\n",
    "    # Create the mapping\n",
    "    if col_is_int: \n",
    "        integer_encoded = df[col_to_encode].reshape(-1, 1)\n",
    "    else:\n",
    "        values = df[col_to_encode].tolist()\n",
    "        label_encoder = LabelEncoder()\n",
    "        integer_encoded = label_encoder.fit_transform(values)\n",
    "    \n",
    "    # One hot encoder\n",
    "    ohe = OneHotEncoder(sparse=False)\n",
    "    integer_encoded = integer_encoded.reshape(len(integer_encoded), 1)\n",
    "    df_temp = pd.DataFrame(ohe.fit_transform(integer_encoded), index=df.index)\n",
    "    df_temp.columns = [\"%s_%s\" % (col_to_encode, col) for col in df_temp.columns]\n",
    "    df_results = pd.concat([df, df_temp], axis=1)\n",
    "    return df_results"
   ]
  },
  {
   "cell_type": "code",
   "execution_count": 23,
   "metadata": {
    "execution": {
     "iopub.execute_input": "2022-04-09T21:09:51.767710Z",
     "iopub.status.busy": "2022-04-09T21:09:51.767297Z",
     "iopub.status.idle": "2022-04-09T21:09:51.946705Z",
     "shell.execute_reply": "2022-04-09T21:09:51.946275Z"
    }
   },
   "outputs": [],
   "source": [
    "df_train = one_hot_encoder(df_train, \"liquidity_rank\", False)"
   ]
  },
  {
   "cell_type": "code",
   "execution_count": 24,
   "metadata": {
    "execution": {
     "iopub.execute_input": "2022-04-09T21:09:51.964879Z",
     "iopub.status.busy": "2022-04-09T21:09:51.964455Z",
     "iopub.status.idle": "2022-04-09T21:09:52.026106Z",
     "shell.execute_reply": "2022-04-09T21:09:52.025730Z"
    }
   },
   "outputs": [],
   "source": [
    "df_test = one_hot_encoder(df_test, \"liquidity_rank\", False)"
   ]
  },
  {
   "cell_type": "code",
   "execution_count": 25,
   "metadata": {
    "execution": {
     "iopub.execute_input": "2022-04-09T21:09:52.030041Z",
     "iopub.status.busy": "2022-04-09T21:09:52.029613Z",
     "iopub.status.idle": "2022-04-09T21:09:52.220969Z",
     "shell.execute_reply": "2022-04-09T21:09:52.221298Z"
    }
   },
   "outputs": [],
   "source": [
    "diff = df_full.sort_values(['product_id', 'liquidity_rank', 'dt_close'])\n",
    "diff = diff[['product_id', 'liquidity_rank', 'dt_close','spread']]\n",
    "diff['differ'] = diff['spread'].diff()\n",
    "diff['differ']  = diff['differ'].fillna(0)"
   ]
  },
  {
   "cell_type": "code",
   "execution_count": 26,
   "metadata": {
    "execution": {
     "iopub.execute_input": "2022-04-09T21:09:52.224763Z",
     "iopub.status.busy": "2022-04-09T21:09:52.224353Z",
     "iopub.status.idle": "2022-04-09T21:09:52.232248Z",
     "shell.execute_reply": "2022-04-09T21:09:52.231865Z"
    }
   },
   "outputs": [],
   "source": [
    "diff = diff[['product_id', 'liquidity_rank', 'dt_close','differ']]"
   ]
  },
  {
   "cell_type": "code",
   "execution_count": 27,
   "metadata": {
    "execution": {
     "iopub.execute_input": "2022-04-09T21:09:52.234874Z",
     "iopub.status.busy": "2022-04-09T21:09:52.234474Z",
     "iopub.status.idle": "2022-04-09T21:09:52.236478Z",
     "shell.execute_reply": "2022-04-09T21:09:52.236124Z"
    }
   },
   "outputs": [],
   "source": [
    "#df_train = df_train.merge(diff, how=\"left\", on=[\"product_id\", \"liquidity_rank\", 'dt_close'])"
   ]
  },
  {
   "cell_type": "code",
   "execution_count": 28,
   "metadata": {
    "execution": {
     "iopub.execute_input": "2022-04-09T21:09:52.239850Z",
     "iopub.status.busy": "2022-04-09T21:09:52.239448Z",
     "iopub.status.idle": "2022-04-09T21:09:52.260631Z",
     "shell.execute_reply": "2022-04-09T21:09:52.260952Z"
    }
   },
   "outputs": [],
   "source": [
    "mean_diff_per_product = diff.groupby(by = [\"product_id\", \"liquidity_rank\"])['differ'].mean()\n",
    "mean_diff_per_product.name = \"mean_diff_per_product\""
   ]
  },
  {
   "cell_type": "code",
   "execution_count": 29,
   "metadata": {
    "execution": {
     "iopub.execute_input": "2022-04-09T21:09:52.264950Z",
     "iopub.status.busy": "2022-04-09T21:09:52.264544Z",
     "iopub.status.idle": "2022-04-09T21:09:52.345954Z",
     "shell.execute_reply": "2022-04-09T21:09:52.345539Z"
    }
   },
   "outputs": [],
   "source": [
    "#df_train = df_train.merge(diff, how=\"left\", on=[\"product_id\", \"liquidity_rank\", 'dt_close'])\n",
    "df_train = df_train.merge(mean_diff_per_product, how=\"left\", right_index=True, left_on=[\"product_id\", \"liquidity_rank\"])\n",
    "df_test = df_test.merge(mean_diff_per_product, how=\"left\", right_index=True, left_on=[\"product_id\", \"liquidity_rank\"])"
   ]
  },
  {
   "cell_type": "code",
   "execution_count": 30,
   "metadata": {
    "execution": {
     "iopub.execute_input": "2022-04-09T21:09:52.350068Z",
     "iopub.status.busy": "2022-04-09T21:09:52.349650Z",
     "iopub.status.idle": "2022-04-09T21:09:52.426969Z",
     "shell.execute_reply": "2022-04-09T21:09:52.427294Z"
    }
   },
   "outputs": [],
   "source": [
    "mean_diff_per_date = diff.groupby(by = [\"dt_close\"])['differ'].mean()\n",
    "mean_diff_per_date.name = \"mean_diff_per_date\"\n",
    "df_train = df_train.merge(mean_diff_per_date, how=\"left\", right_index=True, left_on=[\"dt_close\"])\n",
    "df_test = df_test.merge(mean_diff_per_date, how=\"left\", right_index=True, left_on=[\"dt_close\"])"
   ]
  },
  {
   "cell_type": "code",
   "execution_count": 31,
   "metadata": {
    "execution": {
     "iopub.execute_input": "2022-04-09T21:09:52.431425Z",
     "iopub.status.busy": "2022-04-09T21:09:52.431025Z",
     "iopub.status.idle": "2022-04-09T21:09:52.528919Z",
     "shell.execute_reply": "2022-04-09T21:09:52.529287Z"
    }
   },
   "outputs": [],
   "source": [
    "std_diff_per_product = diff.groupby(by = [\"product_id\", \"liquidity_rank\"])['differ'].std()\n",
    "std_diff_per_product.name = \"std_diff_per_product\"\n",
    "df_train = df_train.merge(std_diff_per_product, how=\"left\", right_index=True, left_on=[\"product_id\", \"liquidity_rank\"])\n",
    "df_test = df_test.merge(std_diff_per_product, how=\"left\", right_index=True, left_on=[\"product_id\", \"liquidity_rank\"])"
   ]
  },
  {
   "cell_type": "code",
   "execution_count": 32,
   "metadata": {
    "execution": {
     "iopub.execute_input": "2022-04-09T21:09:52.533958Z",
     "iopub.status.busy": "2022-04-09T21:09:52.533355Z",
     "iopub.status.idle": "2022-04-09T21:09:52.614073Z",
     "shell.execute_reply": "2022-04-09T21:09:52.613534Z"
    }
   },
   "outputs": [],
   "source": [
    "std_diff_per_date = diff.groupby(by = [\"dt_close\"])['differ'].std()\n",
    "std_diff_per_date.name = \"std_diff_per_date\"\n",
    "df_train = df_train.merge(std_diff_per_date, how=\"left\", right_index=True, left_on=[\"dt_close\"])\n",
    "df_test = df_test.merge(std_diff_per_date, how=\"left\", right_index=True, left_on=[\"dt_close\"])"
   ]
  },
  {
   "cell_type": "code",
   "execution_count": 33,
   "metadata": {
    "execution": {
     "iopub.execute_input": "2022-04-09T21:09:52.617078Z",
     "iopub.status.busy": "2022-04-09T21:09:52.616656Z",
     "iopub.status.idle": "2022-04-09T21:09:52.618631Z",
     "shell.execute_reply": "2022-04-09T21:09:52.618279Z"
    }
   },
   "outputs": [],
   "source": [
    "#df_test[\"id2\"] = df_test.index"
   ]
  },
  {
   "cell_type": "code",
   "execution_count": 34,
   "metadata": {
    "execution": {
     "iopub.execute_input": "2022-04-09T21:09:52.620943Z",
     "iopub.status.busy": "2022-04-09T21:09:52.620524Z",
     "iopub.status.idle": "2022-04-09T21:09:52.622491Z",
     "shell.execute_reply": "2022-04-09T21:09:52.622077Z"
    }
   },
   "outputs": [],
   "source": [
    "#df_test.sort_values(['product_id', 'liquidity_rank', 'dt_close'])"
   ]
  },
  {
   "cell_type": "code",
   "execution_count": 35,
   "metadata": {
    "execution": {
     "iopub.execute_input": "2022-04-09T21:09:52.624807Z",
     "iopub.status.busy": "2022-04-09T21:09:52.624398Z",
     "iopub.status.idle": "2022-04-09T21:09:52.626527Z",
     "shell.execute_reply": "2022-04-09T21:09:52.626166Z"
    }
   },
   "outputs": [],
   "source": [
    "#df_test = pd.merge_asof( df_test, diff.sort_values('dt_close'),  on='dt_close', by = [\"product_id\", \"liquidity_rank\"])"
   ]
  },
  {
   "cell_type": "code",
   "execution_count": 36,
   "metadata": {
    "execution": {
     "iopub.execute_input": "2022-04-09T21:09:52.628802Z",
     "iopub.status.busy": "2022-04-09T21:09:52.628396Z",
     "iopub.status.idle": "2022-04-09T21:09:52.630348Z",
     "shell.execute_reply": "2022-04-09T21:09:52.629941Z"
    }
   },
   "outputs": [],
   "source": [
    "#df_test = df_test.set_index('id2')"
   ]
  },
  {
   "cell_type": "markdown",
   "metadata": {},
   "source": [
    "## Features selection\n",
    "\n",
    "Before running a machine learning algorithm, we have to select the features relevant with our modelization.\n",
    "- In this section, select a set of features you want to use in your machine learning pipeline. Assign this list in the variable **features**. For example, you can start with features [\"liquidity_rank\", \"normal_trading_day\", \"open_interest\", \"mean_target_per_product\"].\n",
    "- Make sure that you have removed the feature **ID** from this list as it is not relevant for the model.\n",
    "\n",
    "Note : You can access a dataframe columns using the dataframe's attribute **.columns**"
   ]
  },
  {
   "cell_type": "code",
   "execution_count": 37,
   "metadata": {
    "execution": {
     "iopub.execute_input": "2022-04-09T21:09:52.633740Z",
     "iopub.status.busy": "2022-04-09T21:09:52.633337Z",
     "iopub.status.idle": "2022-04-09T21:09:54.033600Z",
     "shell.execute_reply": "2022-04-09T21:09:54.033990Z"
    }
   },
   "outputs": [
    {
     "data": {
      "image/png": "[encoded data removed]",
      "text/plain": [
       "<Figure size 432x288 with 2 Axes>"
      ]
     },
     "metadata": {
      "needs_background": "light"
     },
     "output_type": "display_data"
    }
   ],
   "source": [
    "import seaborn as sn\n",
    "import matplotlib.pyplot as plt\n",
    "\n",
    "corrMatrix = df_train.corr()\n",
    "sn.heatmap(corrMatrix, annot=False)\n",
    "plt.show()"
   ]
  },
  {
   "cell_type": "code",
   "execution_count": 38,
   "metadata": {
    "execution": {
     "iopub.execute_input": "2022-04-09T21:09:54.037069Z",
     "iopub.status.busy": "2022-04-09T21:09:54.036631Z",
     "iopub.status.idle": "2022-04-09T21:09:54.038591Z",
     "shell.execute_reply": "2022-04-09T21:09:54.038204Z"
    }
   },
   "outputs": [],
   "source": [
    "features_test = pd.DataFrame(df_test)\n",
    "#features_test = pd.DataFrame(df_test, columns= ['mean_diff_per_product','std_diff_per_product','mean_diff_per_date','std_diff_per_date','hml','liquidity_rank_1', 'liquidity_rank_2','liquidity_rank_3','liquidity_rank_4','liquidity_rank_5','liquidity_rank_6','liquidity_rank_7','liquidity_rank_8','liquidity_rank_9','liquidity_rank_10','liquidity_rank_11',\"volume\", \"fixed\", \"product_id\", \"normal_trading_day\", \"open_interest\", \"mean_target_per_product\", \"std_target_per_liquidity\",  'maturity', 'tick_size', 'mean_hml', 'high', 'low', 'dt_close'])\n",
    "#features_test = pd.DataFrame(df_test, columns= ['mean_diff_per_product','std_diff_per_product','mean_diff_per_date','std_diff_per_date','hml','volume',  'fixed', \"product_id\",  \"open_interest\", \"mean_target_per_product\",  'maturity', 'tick_size', 'mean_hml', 'high', 'low', 'dt_close'])\n",
    "#features_test = pd.DataFrame(df_test, columns= ['volume',   \"open_interest\", \"mean_target_per_product\",  'maturity'])\n",
    "#features_test = pd.DataFrame(df_test, columns= [\"volume\",  \"hml\", \"fixed\", \"product_id\", \"normal_trading_day\", \"open_interest\", \"mean_target_per_product\", \"std_target_per_liquidity\",  'maturity', 'tick_size', 'mean_hml'])"
   ]
  },
  {
   "cell_type": "code",
   "execution_count": 39,
   "metadata": {
    "execution": {
     "iopub.execute_input": "2022-04-09T21:09:54.041208Z",
     "iopub.status.busy": "2022-04-09T21:09:54.040784Z",
     "iopub.status.idle": "2022-04-09T21:09:54.042448Z",
     "shell.execute_reply": "2022-04-09T21:09:54.042779Z"
    }
   },
   "outputs": [],
   "source": [
    "features_train = pd.DataFrame(df_train)\n",
    "#features_train = pd.DataFrame(df_train, columns= ['mean_diff_per_product','std_diff_per_product','mean_diff_per_date','std_diff_per_date','hml','liquidity_rank_1', 'liquidity_rank_2','liquidity_rank_3','liquidity_rank_4','liquidity_rank_5','liquidity_rank_6','liquidity_rank_7','liquidity_rank_8','liquidity_rank_9','liquidity_rank_10','liquidity_rank_11', \"volume\",  \"fixed\", \"product_id\", \"normal_trading_day\", \"open_interest\", \"mean_target_per_product\", \"std_target_per_liquidity\",  'maturity', 'tick_size', 'mean_hml', 'high', 'low', 'dt_close'])\n",
    "#features_train = pd.DataFrame(df_train, columns= ['mean_diff_per_date','std_diff_per_product','std_diff_per_date','mean_diff_per_product','hml','volume',  \"fixed\", \"product_id\",\"open_interest\", \"mean_target_per_product\",  'maturity', 'tick_size', 'mean_hml', 'high', 'low', 'dt_close'])\n",
    "#features_train = pd.DataFrame(df_train, columns= ['volume',  \"open_interest\", \"mean_target_per_product\",  'maturity'])\n",
    "#features_train = pd.DataFrame(df_train, columns= [\"volume\",  \"hml\", \"fixed\", \"product_id\", \"normal_trading_day\", \"open_interest\", \"mean_target_per_product\", \"std_target_per_liquidity\",  'maturity', 'tick_size', 'mean_hml'])"
   ]
  },
  {
   "cell_type": "code",
   "execution_count": 40,
   "metadata": {
    "execution": {
     "iopub.execute_input": "2022-04-09T21:09:54.045496Z",
     "iopub.status.busy": "2022-04-09T21:09:54.045086Z",
     "iopub.status.idle": "2022-04-09T21:09:54.047541Z",
     "shell.execute_reply": "2022-04-09T21:09:54.047130Z"
    }
   },
   "outputs": [
    {
     "name": "stdout",
     "output_type": "stream",
     "text": [
      "1 test passed.\n"
     ]
    }
   ],
   "source": [
    "check_test(\"ID\" not in features_test, True, \"error : column ID still in the features.\")"
   ]
  },
  {
   "cell_type": "markdown",
   "metadata": {},
   "source": [
    "## Other things you can try\n",
    "\n",
    "There are a lot ot experiments you can try to process your data. If you lack in ideas, here are some you can try :\n",
    "\n",
    "- Create new insights from the raw data. \n",
    "- Perform features selection / dimensionality reduction to enhance the features.\n",
    "- ...\n",
    "\n",
    "Once again, feel completly free to provide your own process, interpretations and conclusions..."
   ]
  },
  {
   "cell_type": "markdown",
   "metadata": {},
   "source": [
    "# Step 3 - Machine learning algorithms experiments\n",
    "\n",
    "In this part, you will test different machine learning algorithms and configurations. It is your sandbox before running the final machine learning model. You will also have to evaluate your results and interpret it."
   ]
  },
  {
   "cell_type": "markdown",
   "metadata": {},
   "source": [
    "## Validation procedure\n",
    "\n",
    "In this section, we will split our dataset into a train set and a validation set. Asn an example, we will use the simple **train_test_split** approach. However, you are free to choose the validation procedure. Justify your choices.\n",
    "\n",
    "- Using the train-test split approach, split your train dataframe. Assign the resulting dataframes to variables **x_train**, **x_val**, **y_train** and **y_val**."
   ]
  },
  {
   "cell_type": "code",
   "execution_count": 41,
   "metadata": {
    "execution": {
     "iopub.execute_input": "2022-04-09T21:09:54.050879Z",
     "iopub.status.busy": "2022-04-09T21:09:54.050470Z",
     "iopub.status.idle": "2022-04-09T21:09:54.265799Z",
     "shell.execute_reply": "2022-04-09T21:09:54.265447Z"
    }
   },
   "outputs": [],
   "source": [
    "from sklearn.model_selection import train_test_split\n",
    "\n",
    "x_train, x_val, y_train, y_val = train_test_split(features_train, df_full['spread'])\n",
    "x_test = features_test"
   ]
  },
  {
   "cell_type": "markdown",
   "metadata": {},
   "source": [
    "## Vanilla linear regression\n",
    "\n",
    "Let us test a first linear regression model with default parameters and all the features.\n",
    "\n",
    "- Train a simple linear regression and assign the resulting model to the variable **model**.\n",
    "- Use the model to make predictions on the train set samples. Assign the resulting serie to **pred_train**.\n",
    "- Use the model to make predictions on the validation set samples. Assign the resulting serie to **pred_val**."
   ]
  },
  {
   "cell_type": "code",
   "execution_count": 42,
   "metadata": {
    "execution": {
     "iopub.execute_input": "2022-04-09T21:09:54.269279Z",
     "iopub.status.busy": "2022-04-09T21:09:54.268879Z",
     "iopub.status.idle": "2022-04-09T21:09:54.639142Z",
     "shell.execute_reply": "2022-04-09T21:09:54.638667Z"
    }
   },
   "outputs": [],
   "source": [
    "from sklearn.linear_model import LinearRegression\n",
    "from sklearn.model_selection import cross_val_predict\n",
    "\n",
    "reg = LinearRegression()\n",
    "model = reg.fit(x_train, y_train)\n",
    "pred_train = model.predict(x_train)\n",
    "pred_val = model.predict(x_val)"
   ]
  },
  {
   "cell_type": "markdown",
   "metadata": {},
   "source": [
    "## Evaluate the results of the vanilla linear regression\n",
    "\n",
    "Classification metrics for this lab is the MSE (Mean Squared Error). Sklearn provides an implementation of this metrics [here](https://scikit-learn.org/stable/modules/generated/sklearn.metrics.mean_squared_error.html). According to you, are you in an underfitting or an overfitting situation?"
   ]
  },
  {
   "cell_type": "code",
   "execution_count": 43,
   "metadata": {
    "execution": {
     "iopub.execute_input": "2022-04-09T21:09:54.643438Z",
     "iopub.status.busy": "2022-04-09T21:09:54.643023Z",
     "iopub.status.idle": "2022-04-09T21:09:54.647977Z",
     "shell.execute_reply": "2022-04-09T21:09:54.647628Z"
    }
   },
   "outputs": [
    {
     "name": "stdout",
     "output_type": "stream",
     "text": [
      "RMSE score on train dataset : 1.2966862280554183\n",
      "RMSE score on validation dataset : 1.2893923944736083\n"
     ]
    }
   ],
   "source": [
    "from sklearn.metrics import mean_squared_error\n",
    "from math import sqrt\n",
    "\n",
    "def compute_rmse(y_true, y_pred):\n",
    "    return sqrt(mean_squared_error(y_true, y_pred))\n",
    "\n",
    "rmse_train = compute_rmse(y_train, pred_train)\n",
    "rmse_val = compute_rmse(y_val, pred_val)\n",
    "\n",
    "print(\"RMSE score on train dataset : %s\" % rmse_train)\n",
    "print(\"RMSE score on validation dataset : %s\" % rmse_val)"
   ]
  },
  {
   "cell_type": "markdown",
   "metadata": {},
   "source": [
    "## Random Forest model"
   ]
  },
  {
   "cell_type": "code",
   "execution_count": 44,
   "metadata": {
    "execution": {
     "iopub.execute_input": "2022-04-09T21:09:54.653968Z",
     "iopub.status.busy": "2022-04-09T21:09:54.653538Z",
     "iopub.status.idle": "2022-04-09T21:12:40.917481Z",
     "shell.execute_reply": "2022-04-09T21:12:40.917027Z"
    }
   },
   "outputs": [
    {
     "name": "stdout",
     "output_type": "stream",
     "text": [
      "depth = 22 | RMSE train = 0.3104035584727129 | RMSE val = 0.6925223120813525\n",
      "depth = 23 | RMSE train = 0.2956264155528569 | RMSE val = 0.693350758784499\n",
      "depth = 24 | RMSE train = 0.2841752735952215 | RMSE val = 0.6930875234671814\n",
      "depth = 25 | RMSE train = 0.2765322586782565 | RMSE val = 0.6911385817398724\n"
     ]
    }
   ],
   "source": [
    "from sklearn.tree import DecisionTreeRegressor\n",
    "from sklearn.ensemble import RandomForestRegressor\n",
    "import math\n",
    "\n",
    "# Prerequisites :\n",
    "depths = range(22, 26)\n",
    "all_rmse_train = []\n",
    "all_rmse_val = []\n",
    "experiments  = []\n",
    "all_rmse_train_tree = []\n",
    "all_rmse_train_forest = []\n",
    "all_rmse_val_tree = []\n",
    "all_rmse_val_forest = []\n",
    "\n",
    "\n",
    "for depth in depths: \n",
    "        # Random Forest\n",
    "        clf_forest = RandomForestRegressor(n_estimators=100, max_depth=depth, n_jobs=-1)\n",
    "        model_forest = clf_forest.fit(x_train, y_train)\n",
    "\n",
    "        pred_train = pd.Series(model_forest.predict(x_train), index=y_train.index)\n",
    "        pred_val = pd.Series(model_forest.predict(x_val), index=y_val.index)\n",
    "\n",
    "\n",
    "        # Compute MSLE evaluation metrics\n",
    "        rmse_train = compute_rmse(y_train, pred_train)\n",
    "        rmse_val = compute_rmse(y_val, pred_val)\n",
    "        all_rmse_train.append(rmse_train)\n",
    "        all_rmse_val.append(rmse_val)\n",
    "\n",
    "        print(\"depth = %s | RMSE train = %s | RMSE val = %s\" % (depth, rmse_train, rmse_val))"
   ]
  },
  {
   "cell_type": "code",
   "execution_count": 45,
   "metadata": {
    "execution": {
     "iopub.execute_input": "2022-04-09T21:12:40.933844Z",
     "iopub.status.busy": "2022-04-09T21:12:40.933400Z",
     "iopub.status.idle": "2022-04-09T21:12:41.053550Z",
     "shell.execute_reply": "2022-04-09T21:12:41.053180Z"
    }
   },
   "outputs": [
    {
     "data": {
      "image/png": "[encoded data removed]",
      "text/plain": [
       "<Figure size 864x360 with 1 Axes>"
      ]
     },
     "metadata": {
      "needs_background": "light"
     },
     "output_type": "display_data"
    }
   ],
   "source": [
    "fig = plt.figure(figsize=[12, 5])\n",
    "plt.plot(depths, all_rmse_train, color=\"y\", label=\"Random Forest - train\")                                                \n",
    "plt.xlabel(\"tree depth\")\n",
    "plt.ylabel(\"RMSLE\")\n",
    "plt.title(\"Learning curves - playing on tree depth\")\n",
    "plt.legend(loc=\"lower left\", prop={'size': 8})\n",
    "plt.show()"
   ]
  },
  {
   "cell_type": "code",
   "execution_count": 46,
   "metadata": {
    "execution": {
     "iopub.execute_input": "2022-04-09T21:12:41.075987Z",
     "iopub.status.busy": "2022-04-09T21:12:41.074420Z",
     "iopub.status.idle": "2022-04-09T21:12:41.174923Z",
     "shell.execute_reply": "2022-04-09T21:12:41.174496Z"
    }
   },
   "outputs": [
    {
     "data": {
      "image/png": "[encoded data removed]",
      "text/plain": [
       "<Figure size 864x360 with 1 Axes>"
      ]
     },
     "metadata": {
      "needs_background": "light"
     },
     "output_type": "display_data"
    }
   ],
   "source": [
    "fig = plt.figure(figsize=[12, 5])\n",
    "plt.plot(depths, all_rmse_val, color=\"r\", label=\"Random Forest - validation\")                                                  \n",
    "plt.xlabel(\"tree depth\")\n",
    "plt.ylabel(\"RMSLE\")\n",
    "plt.title(\"Learning curves - playing on tree depth\")\n",
    "plt.legend(loc=\"lower left\", prop={'size': 8})\n",
    "plt.show()"
   ]
  },
  {
   "cell_type": "code",
   "execution_count": 47,
   "metadata": {
    "execution": {
     "iopub.execute_input": "2022-04-09T21:12:41.182517Z",
     "iopub.status.busy": "2022-04-09T21:12:41.182078Z",
     "iopub.status.idle": "2022-04-09T21:18:49.559971Z",
     "shell.execute_reply": "2022-04-09T21:18:49.559576Z"
    }
   },
   "outputs": [
    {
     "name": "stdout",
     "output_type": "stream",
     "text": [
      "estimator = 100 | RMSE train = 0.28392266617225365 | RMSE val = 0.6921413834591132\n",
      "estimator = 200 | RMSE train = 0.2816653779221205 | RMSE val = 0.6908155875058128\n",
      "estimator = 300 | RMSE train = 0.2808977221170905 | RMSE val = 0.6895873919359864\n",
      "estimator = 400 | RMSE train = 0.2807583864582607 | RMSE val = 0.6897640002535305\n"
     ]
    }
   ],
   "source": [
    "estimators = range(100, 450, 100)\n",
    "all_rmse_train = []\n",
    "all_rmse_val = []\n",
    "experiments  = []\n",
    "all_rmse_train_tree = []\n",
    "all_rmse_train_forest = []\n",
    "all_rmse_val_tree = []\n",
    "all_rmse_val_forest = []\n",
    "\n",
    "\n",
    "for estimator in estimators: \n",
    "\n",
    "    # Random Forest\n",
    "    clf_forest = RandomForestRegressor(n_estimators=estimator, max_depth=24, n_jobs=-1)\n",
    "    model_forest = clf_forest.fit(x_train, y_train)\n",
    "    \n",
    "    pred_train = pd.Series(model_forest.predict(x_train), index=y_train.index)\n",
    "    pred_val = pd.Series(model_forest.predict(x_val), index=y_val.index)\n",
    "\n",
    "\n",
    "        # Compute MSLE evaluation metrics\n",
    "    rmse_train = compute_rmse(y_train, pred_train)\n",
    "    rmse_val = compute_rmse(y_val, pred_val)\n",
    "    all_rmse_train.append(rmse_train)\n",
    "    all_rmse_val.append(rmse_val)\n",
    "    print(\"estimator = %s | RMSE train = %s | RMSE val = %s\" % (estimator, rmse_train, rmse_val))"
   ]
  },
  {
   "cell_type": "code",
   "execution_count": 48,
   "metadata": {
    "execution": {
     "iopub.execute_input": "2022-04-09T21:18:49.597849Z",
     "iopub.status.busy": "2022-04-09T21:18:49.597412Z",
     "iopub.status.idle": "2022-04-09T21:18:49.692662Z",
     "shell.execute_reply": "2022-04-09T21:18:49.693011Z"
    }
   },
   "outputs": [
    {
     "data": {
      "image/png": "[encoded data removed]",
      "text/plain": [
       "<Figure size 864x360 with 1 Axes>"
      ]
     },
     "metadata": {
      "needs_background": "light"
     },
     "output_type": "display_data"
    }
   ],
   "source": [
    "fig = plt.figure(figsize=[12, 5])\n",
    "\n",
    "plt.plot(estimators, all_rmse_train, color=\"y\", label=\"Random Forest - train\")\n",
    "                                              \n",
    "plt.xlabel(\"tree estimators\")\n",
    "plt.ylabel(\"RMSLE\")\n",
    "plt.title(\"Learning curves - playing on tree estimators\")\n",
    "plt.legend(loc=\"lower left\", prop={'size': 8})\n",
    "plt.show()"
   ]
  },
  {
   "cell_type": "code",
   "execution_count": 49,
   "metadata": {
    "execution": {
     "iopub.execute_input": "2022-04-09T21:18:49.728574Z",
     "iopub.status.busy": "2022-04-09T21:18:49.720668Z",
     "iopub.status.idle": "2022-04-09T21:18:49.821585Z",
     "shell.execute_reply": "2022-04-09T21:18:49.821231Z"
    },
    "scrolled": true
   },
   "outputs": [
    {
     "data": {
      "image/png": "[encoded data removed]",
      "text/plain": [
       "<Figure size 864x360 with 1 Axes>"
      ]
     },
     "metadata": {
      "needs_background": "light"
     },
     "output_type": "display_data"
    }
   ],
   "source": [
    "fig = plt.figure(figsize=[12, 5])\n",
    "plt.plot(estimators, all_rmse_val, color=\"r\", label=\"Random Forest - validation\")\n",
    "plt.xlabel(\"tree estimators\")\n",
    "plt.ylabel(\"RMSLE\")\n",
    "plt.title(\"Learning curves - playing on tree estimators\")\n",
    "plt.legend(loc=\"lower left\", prop={'size': 8})\n",
    "plt.show()"
   ]
  },
  {
   "cell_type": "markdown",
   "metadata": {},
   "source": [
    "### Select Features by comparing feature importance"
   ]
  },
  {
   "cell_type": "code",
   "execution_count": 50,
   "metadata": {
    "execution": {
     "iopub.execute_input": "2022-04-09T21:18:49.829795Z",
     "iopub.status.busy": "2022-04-09T21:18:49.829377Z",
     "iopub.status.idle": "2022-04-09T21:21:13.289402Z",
     "shell.execute_reply": "2022-04-09T21:21:13.288951Z"
    },
    "scrolled": false
   },
   "outputs": [
    {
     "name": "stdout",
     "output_type": "stream",
     "text": [
      "RMSE train : 0.280190364878589\n",
      "RMSE validation : 0.6894572567281024\n",
      "dt_close 0.04884821183083601\n",
      "product_id 0.0035531830983889573\n",
      "liquidity_rank 0.0017588150463879678\n",
      "normal_trading_day 0.0006324894890706302\n",
      "dt_expiry 0.031204532763248416\n",
      "open 0.008601727385681362\n",
      "high 0.013298021008734612\n",
      "low 0.00817644268042649\n",
      "close 0.009470364883811864\n",
      "open_interest 0.024481080032863218\n",
      "volume 0.02882849648533388\n",
      "tick_size 0.006649010734097454\n",
      "fixed 0.003532052817235936\n",
      "mean_target_per_product 0.7249800532788425\n",
      "std_target_per_liquidity 0.0012159333068352913\n",
      "maturity 0.024260519544185732\n",
      "hml 0.010789843887872437\n",
      "mean_hml 0.005839808471292131\n",
      "liquidity_rank_0 0.00015403588244725902\n",
      "liquidity_rank_1 0.0023484157516215636\n",
      "liquidity_rank_2 0.00029784333358529307\n",
      "liquidity_rank_3 0.000275435205799539\n",
      "liquidity_rank_4 0.00017265158919531128\n",
      "liquidity_rank_5 0.0004575035517558818\n",
      "liquidity_rank_6 0.00010920207779864821\n",
      "liquidity_rank_7 7.635831749958195e-05\n",
      "liquidity_rank_8 2.0178468701365377e-08\n",
      "liquidity_rank_9 3.6819939143669505e-08\n",
      "liquidity_rank_10 1.561807093133762e-08\n",
      "liquidity_rank_11 9.212911716585877e-09\n",
      "mean_diff_per_product 0.007972966196255789\n",
      "mean_diff_per_date 0.009548612077761863\n",
      "std_diff_per_product 0.011185463067180665\n",
      "std_diff_per_date 0.011280844374563292\n"
     ]
    },
    {
     "data": {
      "image/png": "[encoded data removed]",
      "text/plain": [
       "<Figure size 432x288 with 1 Axes>"
      ]
     },
     "metadata": {
      "needs_background": "light"
     },
     "output_type": "display_data"
    }
   ],
   "source": [
    "clf_forest = RandomForestRegressor(n_estimators=400, max_depth=24, n_jobs=-1)\n",
    "model_forest = clf_forest.fit(x_train, y_train)\n",
    "\n",
    "pred_train = pd.Series(model_forest.predict(x_train), index=y_train.index)\n",
    "pred_val = pd.Series(model_forest.predict(x_val), index=y_val.index)\n",
    "\n",
    "rmse_train = compute_rmse(y_train, pred_train)\n",
    "rmse_val = compute_rmse(y_val, pred_val)\n",
    "\n",
    "print(\"RMSE train : %s\" % rmse_train)\n",
    "print(\"RMSE validation : %s\" % rmse_val)\n",
    "\n",
    "importances = model_forest.feature_importances_\n",
    "\n",
    "for name, importance in zip(x_train.columns, clf_forest.feature_importances_):\n",
    "    print(name, importance)\n",
    "\n",
    "x_values = list(range(len(importances)))\n",
    "plt.bar(x_values, importances, orientation = 'vertical', color = 'r', edgecolor = 'k', linewidth = 1.2)\n",
    "plt.xticks(x_values, features_train, rotation='vertical')\n",
    "plt.ylabel('Importance'); plt.xlabel('Variable'); plt.title('Variable Importances');\n",
    "plt.show()"
   ]
  },
  {
   "cell_type": "code",
   "execution_count": 51,
   "metadata": {
    "execution": {
     "iopub.execute_input": "2022-04-09T21:21:13.295678Z",
     "iopub.status.busy": "2022-04-09T21:21:13.295243Z",
     "iopub.status.idle": "2022-04-09T21:21:13.591264Z",
     "shell.execute_reply": "2022-04-09T21:21:13.590446Z"
    }
   },
   "outputs": [],
   "source": [
    "features_train = pd.DataFrame(df_train, columns= ['mean_diff_per_product','std_diff_per_product','mean_diff_per_date','std_diff_per_date','hml','liquidity_rank_1', 'liquidity_rank_2','liquidity_rank_3','liquidity_rank_4','liquidity_rank_5','liquidity_rank_6','liquidity_rank_7','liquidity_rank_8','liquidity_rank_9','liquidity_rank_10','liquidity_rank_11', \"volume\",  \"fixed\", \"product_id\", \"normal_trading_day\", \"open_interest\", \"mean_target_per_product\", \"std_target_per_liquidity\",  'maturity', 'tick_size', 'mean_hml', 'high', 'low', 'dt_close'])\n",
    "features_test = pd.DataFrame(df_test, columns= ['mean_diff_per_product','std_diff_per_product','mean_diff_per_date','std_diff_per_date','hml','liquidity_rank_1', 'liquidity_rank_2','liquidity_rank_3','liquidity_rank_4','liquidity_rank_5','liquidity_rank_6','liquidity_rank_7','liquidity_rank_8','liquidity_rank_9','liquidity_rank_10','liquidity_rank_11', \"volume\",  \"fixed\", \"product_id\", \"normal_trading_day\", \"open_interest\", \"mean_target_per_product\", \"std_target_per_liquidity\",  'maturity', 'tick_size', 'mean_hml', 'high', 'low', 'dt_close'])\n",
    "\n",
    "x_train, x_val, y_train, y_val = train_test_split(features_train, df_full['spread'])\n",
    "x_test = features_test"
   ]
  },
  {
   "cell_type": "markdown",
   "metadata": {},
   "source": [
    "## XGBoost Model"
   ]
  },
  {
   "cell_type": "code",
   "execution_count": 52,
   "metadata": {
    "execution": {
     "iopub.execute_input": "2022-04-09T21:21:13.594484Z",
     "iopub.status.busy": "2022-04-09T21:21:13.594072Z",
     "iopub.status.idle": "2022-04-09T21:21:13.726540Z",
     "shell.execute_reply": "2022-04-09T21:21:13.726125Z"
    }
   },
   "outputs": [
    {
     "name": "stderr",
     "output_type": "stream",
     "text": [
      "/usr/local/lib/python3.6/dist-packages/pkg_resources/__init__.py:119: PkgResourcesDeprecationWarning: 0.18ubuntu0.18.04.1 is an invalid version and will not be supported in a future release\n",
      "  PkgResourcesDeprecationWarning,\n"
     ]
    }
   ],
   "source": [
    "from xgboost import XGBClassifier, XGBRegressor\n",
    "from sklearn.model_selection import GridSearchCV"
   ]
  },
  {
   "cell_type": "code",
   "execution_count": 53,
   "metadata": {
    "execution": {
     "iopub.execute_input": "2022-04-09T21:21:13.734503Z",
     "iopub.status.busy": "2022-04-09T21:21:13.734081Z",
     "iopub.status.idle": "2022-04-09T21:34:17.070384Z",
     "shell.execute_reply": "2022-04-09T21:34:17.070778Z"
    }
   },
   "outputs": [
    {
     "name": "stdout",
     "output_type": "stream",
     "text": [
      "depth = 10 |estimator = 100 | RMSE train = 0.49531931747542307 | RMSE val = 0.7283121777418604\n",
      "depth = 10 |estimator = 200 | RMSE train = 0.4004932976223569 | RMSE val = 0.7227088966811681\n",
      "depth = 10 |estimator = 300 | RMSE train = 0.336631164971201 | RMSE val = 0.7200271992741043\n",
      "depth = 11 |estimator = 100 | RMSE train = 0.42004902545025674 | RMSE val = 0.7218690059330347\n",
      "depth = 11 |estimator = 200 | RMSE train = 0.3294056334352703 | RMSE val = 0.7186672010116817\n",
      "depth = 11 |estimator = 300 | RMSE train = 0.26506601705961214 | RMSE val = 0.7172887643190922\n",
      "depth = 12 |estimator = 100 | RMSE train = 0.35262332298777743 | RMSE val = 0.7222071764642322\n",
      "depth = 12 |estimator = 200 | RMSE train = 0.25180378597559067 | RMSE val = 0.7206286296973119\n",
      "depth = 12 |estimator = 300 | RMSE train = 0.19609063833588494 | RMSE val = 0.7199354467676071\n",
      "depth = 13 |estimator = 100 | RMSE train = 0.2760706050797966 | RMSE val = 0.721629540355326\n",
      "depth = 13 |estimator = 200 | RMSE train = 0.1866927774469221 | RMSE val = 0.7209756430159178\n",
      "depth = 13 |estimator = 300 | RMSE train = 0.1422431048520337 | RMSE val = 0.7207273494081661\n",
      "depth = 14 |estimator = 100 | RMSE train = 0.22292351487673176 | RMSE val = 0.7221280602906938\n",
      "depth = 14 |estimator = 200 | RMSE train = 0.14079629224464077 | RMSE val = 0.7215523928665807\n",
      "depth = 14 |estimator = 300 | RMSE train = 0.0975787763418247 | RMSE val = 0.7214213315529932\n"
     ]
    }
   ],
   "source": [
    "depths = range(10, 15)\n",
    "estimators = range(100,350,100)\n",
    "all_rmse_train = []\n",
    "all_rmse_val = []\n",
    "experiments  = []\n",
    "all_rmse_train_tree = []\n",
    "all_rmse_train_forest = []\n",
    "all_rmse_val_tree = []\n",
    "all_rmse_val_forest = []\n",
    "\n",
    "\n",
    "for depth in depths: \n",
    "    for estimator in estimators:\n",
    "        # Random Forest\n",
    "        clf_xgb = XGBRegressor(objective='reg:squarederror', n_estimators=estimator, max_depth=depth)\n",
    "        model_xgb = clf_xgb.fit(x_train, y_train)\n",
    "\n",
    "        pred_train = pd.Series(model_xgb.predict(x_train), index=y_train.index)\n",
    "        pred_val = pd.Series(model_xgb.predict(x_val), index=y_val.index)\n",
    "\n",
    "\n",
    "        # Compute MSLE evaluation metrics\n",
    "        rmse_train = compute_rmse(y_train, pred_train)\n",
    "        rmse_val = compute_rmse(y_val, pred_val)\n",
    "\n",
    "        print(\"depth = %s |estimator = %s | RMSE train = %s | RMSE val = %s\" % (depth, estimator, rmse_train, rmse_val))"
   ]
  },
  {
   "cell_type": "code",
   "execution_count": 54,
   "metadata": {
    "execution": {
     "iopub.execute_input": "2022-04-09T21:34:17.073988Z",
     "iopub.status.busy": "2022-04-09T21:34:17.073188Z",
     "iopub.status.idle": "2022-04-09T21:34:58.169638Z",
     "shell.execute_reply": "2022-04-09T21:34:58.170022Z"
    },
    "scrolled": true
   },
   "outputs": [
    {
     "name": "stdout",
     "output_type": "stream",
     "text": [
      "RMSE score on train dataset : 0.4004932976223569\n",
      "RMSE score on validation dataset : 0.7227088966811681\n"
     ]
    }
   ],
   "source": [
    "model = XGBRegressor(objective='reg:squarederror', max_depth = 10, n_estimators=200)\n",
    "model_xgb = model.fit(x_train, y_train)\n",
    "\n",
    "pred_train = model_xgb.predict(x_train)\n",
    "pred_val = model_xgb.predict(x_val)\n",
    "pred_test = model_xgb.predict(x_test)\n",
    "\n",
    "rmse_train = compute_rmse(y_train, pred_train)\n",
    "rmse_val = compute_rmse(y_val, pred_val)\n",
    "\n",
    "print(\"RMSE score on train dataset : %s\" % rmse_train)\n",
    "print(\"RMSE score on validation dataset : %s\" % rmse_val)"
   ]
  },
  {
   "cell_type": "markdown",
   "metadata": {},
   "source": [
    "## Neural Network"
   ]
  },
  {
   "cell_type": "code",
   "execution_count": 55,
   "metadata": {
    "execution": {
     "iopub.execute_input": "2022-04-09T21:34:58.179482Z",
     "iopub.status.busy": "2022-04-09T21:34:58.178959Z",
     "iopub.status.idle": "2022-04-09T21:41:42.695858Z",
     "shell.execute_reply": "2022-04-09T21:41:42.696260Z"
    }
   },
   "outputs": [
    {
     "name": "stderr",
     "output_type": "stream",
     "text": [
      "Using TensorFlow backend.\n",
      "/usr/local/lib/python3.6/dist-packages/tensorflow/python/framework/dtypes.py:516: FutureWarning: Passing (type, 1) or '1type' as a synonym of type is deprecated; in a future version of numpy, it will be understood as (type, (1,)) / '(1,)type'.\n",
      "  _np_qint8 = np.dtype([(\"qint8\", np.int8, 1)])\n",
      "/usr/local/lib/python3.6/dist-packages/tensorflow/python/framework/dtypes.py:517: FutureWarning: Passing (type, 1) or '1type' as a synonym of type is deprecated; in a future version of numpy, it will be understood as (type, (1,)) / '(1,)type'.\n",
      "  _np_quint8 = np.dtype([(\"quint8\", np.uint8, 1)])\n",
      "/usr/local/lib/python3.6/dist-packages/tensorflow/python/framework/dtypes.py:518: FutureWarning: Passing (type, 1) or '1type' as a synonym of type is deprecated; in a future version of numpy, it will be understood as (type, (1,)) / '(1,)type'.\n",
      "  _np_qint16 = np.dtype([(\"qint16\", np.int16, 1)])\n",
      "/usr/local/lib/python3.6/dist-packages/tensorflow/python/framework/dtypes.py:519: FutureWarning: Passing (type, 1) or '1type' as a synonym of type is deprecated; in a future version of numpy, it will be understood as (type, (1,)) / '(1,)type'.\n",
      "  _np_quint16 = np.dtype([(\"quint16\", np.uint16, 1)])\n",
      "/usr/local/lib/python3.6/dist-packages/tensorflow/python/framework/dtypes.py:520: FutureWarning: Passing (type, 1) or '1type' as a synonym of type is deprecated; in a future version of numpy, it will be understood as (type, (1,)) / '(1,)type'.\n",
      "  _np_qint32 = np.dtype([(\"qint32\", np.int32, 1)])\n",
      "/usr/local/lib/python3.6/dist-packages/tensorflow/python/framework/dtypes.py:525: FutureWarning: Passing (type, 1) or '1type' as a synonym of type is deprecated; in a future version of numpy, it will be understood as (type, (1,)) / '(1,)type'.\n",
      "  np_resource = np.dtype([(\"resource\", np.ubyte, 1)])\n",
      "/usr/local/lib/python3.6/dist-packages/tensorboard/compat/tensorflow_stub/dtypes.py:541: FutureWarning: Passing (type, 1) or '1type' as a synonym of type is deprecated; in a future version of numpy, it will be understood as (type, (1,)) / '(1,)type'.\n",
      "  _np_qint8 = np.dtype([(\"qint8\", np.int8, 1)])\n",
      "/usr/local/lib/python3.6/dist-packages/tensorboard/compat/tensorflow_stub/dtypes.py:542: FutureWarning: Passing (type, 1) or '1type' as a synonym of type is deprecated; in a future version of numpy, it will be understood as (type, (1,)) / '(1,)type'.\n",
      "  _np_quint8 = np.dtype([(\"quint8\", np.uint8, 1)])\n",
      "/usr/local/lib/python3.6/dist-packages/tensorboard/compat/tensorflow_stub/dtypes.py:543: FutureWarning: Passing (type, 1) or '1type' as a synonym of type is deprecated; in a future version of numpy, it will be understood as (type, (1,)) / '(1,)type'.\n",
      "  _np_qint16 = np.dtype([(\"qint16\", np.int16, 1)])\n",
      "/usr/local/lib/python3.6/dist-packages/tensorboard/compat/tensorflow_stub/dtypes.py:544: FutureWarning: Passing (type, 1) or '1type' as a synonym of type is deprecated; in a future version of numpy, it will be understood as (type, (1,)) / '(1,)type'.\n",
      "  _np_quint16 = np.dtype([(\"quint16\", np.uint16, 1)])\n",
      "/usr/local/lib/python3.6/dist-packages/tensorboard/compat/tensorflow_stub/dtypes.py:545: FutureWarning: Passing (type, 1) or '1type' as a synonym of type is deprecated; in a future version of numpy, it will be understood as (type, (1,)) / '(1,)type'.\n",
      "  _np_qint32 = np.dtype([(\"qint32\", np.int32, 1)])\n",
      "/usr/local/lib/python3.6/dist-packages/tensorboard/compat/tensorflow_stub/dtypes.py:550: FutureWarning: Passing (type, 1) or '1type' as a synonym of type is deprecated; in a future version of numpy, it will be understood as (type, (1,)) / '(1,)type'.\n",
      "  np_resource = np.dtype([(\"resource\", np.ubyte, 1)])\n"
     ]
    },
    {
     "name": "stdout",
     "output_type": "stream",
     "text": [
      "WARNING:tensorflow:From /usr/local/lib/python3.6/dist-packages/keras/backend/tensorflow_backend.py:422: The name tf.global_variables is deprecated. Please use tf.compat.v1.global_variables instead.\n",
      "\n",
      "Train on 472207 samples, validate on 157403 samples\n",
      "Epoch 1/3\n",
      "472207/472207 [==============================] - 134s 284us/step - loss: 14.4936 - mean_squared_logarithmic_error: 1.6834 - val_loss: 14.5837 - val_mean_squared_logarithmic_error: 1.6874\n",
      "Epoch 2/3\n",
      "472207/472207 [==============================] - 134s 283us/step - loss: 14.4936 - mean_squared_logarithmic_error: 1.6834 - val_loss: 14.5837 - val_mean_squared_logarithmic_error: 1.6874\n",
      "Epoch 3/3\n",
      "472207/472207 [==============================] - 134s 285us/step - loss: 14.4936 - mean_squared_logarithmic_error: 1.6834 - val_loss: 14.5837 - val_mean_squared_logarithmic_error: 1.6874\n"
     ]
    }
   ],
   "source": [
    "import keras\n",
    "import tensorflow as tf\n",
    "from keras.layers import Dense\n",
    "from keras.models import Sequential\n",
    "\n",
    "model = Sequential()\n",
    "model.add(Dense(2500, input_dim=len(x_train.columns), activation='relu', name='layer_input'))\n",
    "model.add(Dense(1000, activation='relu', name='layer_1'))\n",
    "model.add(Dense(500, activation='relu', name='layer_2'))\n",
    "model.add(Dense(100, activation='relu', name='layer_3'))\n",
    "model.add(Dense(30, activation='relu', name='layer_4'))\n",
    "model.add(Dense(1, activation='relu', name='layer_output')) \n",
    "\n",
    "optimizer=\"adam\"\n",
    "loss=\"mean_squared_error\"\n",
    "metrics = ['mean_squared_logarithmic_error']\n",
    "model.compile(loss=loss, optimizer=optimizer, metrics=metrics)\n",
    "\n",
    "\n",
    "epochs = 3\n",
    "batch_size = None\n",
    "model_trained = model.fit(x_train, y_train, epochs=epochs, batch_size=batch_size, validation_data=(x_val, y_val))"
   ]
  },
  {
   "cell_type": "code",
   "execution_count": 56,
   "metadata": {
    "execution": {
     "iopub.execute_input": "2022-04-09T21:41:42.701588Z",
     "iopub.status.busy": "2022-04-09T21:41:42.701148Z",
     "iopub.status.idle": "2022-04-09T21:42:06.605444Z",
     "shell.execute_reply": "2022-04-09T21:42:06.604968Z"
    }
   },
   "outputs": [
    {
     "name": "stdout",
     "output_type": "stream",
     "text": [
      "RMSE score on train dataset : 3.8070460699314133\n",
      "RMSE score on validation dataset : 3.818864452231701\n"
     ]
    }
   ],
   "source": [
    "pred_train = model.predict(x_train)\n",
    "pred_val = model.predict(x_val)\n",
    "\n",
    "\n",
    "rmse_train = compute_rmse(y_train, pred_train)\n",
    "rmse_val = compute_rmse(y_val, pred_val)\n",
    "\n",
    "print(\"RMSE score on train dataset : %s\" % rmse_train)\n",
    "print(\"RMSE score on validation dataset : %s\" % rmse_val)"
   ]
  },
  {
   "cell_type": "code",
   "execution_count": 57,
   "metadata": {
    "execution": {
     "iopub.execute_input": "2022-04-09T21:42:06.608851Z",
     "iopub.status.busy": "2022-04-09T21:42:06.608420Z",
     "iopub.status.idle": "2022-04-09T21:42:06.621323Z",
     "shell.execute_reply": "2022-04-09T21:42:06.621657Z"
    }
   },
   "outputs": [],
   "source": [
    "from sklearn.cluster import KMeans"
   ]
  },
  {
   "cell_type": "code",
   "execution_count": 58,
   "metadata": {
    "execution": {
     "iopub.execute_input": "2022-04-09T21:42:06.626362Z",
     "iopub.status.busy": "2022-04-09T21:42:06.625950Z",
     "iopub.status.idle": "2022-04-09T21:42:12.458202Z",
     "shell.execute_reply": "2022-04-09T21:42:12.458579Z"
    }
   },
   "outputs": [
    {
     "data": {
      "text/plain": [
       "KMeans(max_iter=2000, n_clusters=5)"
      ]
     },
     "execution_count": 1,
     "metadata": {},
     "output_type": "execute_result"
    }
   ],
   "source": [
    "kmeans = KMeans(n_clusters = 5, max_iter = 2000, algorithm = 'auto')\n",
    "kmeans.fit(x_train)"
   ]
  },
  {
   "cell_type": "code",
   "execution_count": null,
   "metadata": {},
   "outputs": [],
   "source": []
  },
  {
   "cell_type": "markdown",
   "metadata": {},
   "source": [
    "# Step 4 - Final run\n",
    "\n",
    "According to previous steps results and your own interpretation, run your best machine learning algorithm and make  predictions on the test set. Then export your results in and make submission on Kaggle platform."
   ]
  },
  {
   "cell_type": "markdown",
   "metadata": {},
   "source": [
    "## Run your best model and make prediction on test set\n",
    "\n",
    "For this first experiment, use the vanilla linear regresson we have experimented in step 3. Make predictions on the test set and assign the results to variable **pred_test**."
   ]
  },
  {
   "cell_type": "code",
   "execution_count": 59,
   "metadata": {
    "execution": {
     "iopub.execute_input": "2022-04-09T21:42:12.461047Z",
     "iopub.status.busy": "2022-04-09T21:42:12.460605Z",
     "iopub.status.idle": "2022-04-09T21:42:12.518009Z",
     "shell.execute_reply": "2022-04-09T21:42:12.518421Z"
    }
   },
   "outputs": [],
   "source": [
    "features_train = pd.DataFrame(df_train, columns= ['mean_diff_per_product','std_diff_per_product','mean_diff_per_date','std_diff_per_date','hml','liquidity_rank_1', 'liquidity_rank_2','liquidity_rank_3','liquidity_rank_4','liquidity_rank_5','liquidity_rank_6','liquidity_rank_7','liquidity_rank_8','liquidity_rank_9','liquidity_rank_10','liquidity_rank_11', \"volume\",  \"fixed\", \"product_id\", \"normal_trading_day\", \"open_interest\", \"mean_target_per_product\", \"std_target_per_liquidity\",  'maturity', 'tick_size', 'mean_hml', 'high', 'low', 'dt_close'])\n",
    "features_test = pd.DataFrame(df_test, columns= ['mean_diff_per_product','std_diff_per_product','mean_diff_per_date','std_diff_per_date','hml','liquidity_rank_1', 'liquidity_rank_2','liquidity_rank_3','liquidity_rank_4','liquidity_rank_5','liquidity_rank_6','liquidity_rank_7','liquidity_rank_8','liquidity_rank_9','liquidity_rank_10','liquidity_rank_11', \"volume\",  \"fixed\", \"product_id\", \"normal_trading_day\", \"open_interest\", \"mean_target_per_product\", \"std_target_per_liquidity\",  'maturity', 'tick_size', 'mean_hml', 'high', 'low', 'dt_close'])"
   ]
  },
  {
   "cell_type": "code",
   "execution_count": 60,
   "metadata": {
    "execution": {
     "iopub.execute_input": "2022-04-09T21:42:12.520397Z",
     "iopub.status.busy": "2022-04-09T21:42:12.519966Z",
     "iopub.status.idle": "2022-04-09T21:42:12.675432Z",
     "shell.execute_reply": "2022-04-09T21:42:12.675899Z"
    }
   },
   "outputs": [],
   "source": [
    "x_train, x_val, y_train, y_val = train_test_split(features_train, df_full['spread'])\n",
    "x_test = features_test"
   ]
  },
  {
   "cell_type": "code",
   "execution_count": 61,
   "metadata": {
    "execution": {
     "iopub.execute_input": "2022-04-09T21:42:12.682949Z",
     "iopub.status.busy": "2022-04-09T21:42:12.681983Z",
     "iopub.status.idle": "2022-04-09T21:44:03.183897Z",
     "shell.execute_reply": "2022-04-09T21:44:03.183493Z"
    },
    "scrolled": true
   },
   "outputs": [
    {
     "name": "stdout",
     "output_type": "stream",
     "text": [
      "RMSE train : 0.28070785168773554\n",
      "RMSE validation : 0.6898705005965726\n"
     ]
    }
   ],
   "source": [
    "clf_forest = RandomForestRegressor(n_estimators=400, max_depth=24, n_jobs=-1)\n",
    "model_forest = clf_forest.fit(x_train, y_train)\n",
    "\n",
    "pred_train = pd.Series(model_forest.predict(x_train), index=y_train.index)\n",
    "pred_val = pd.Series(model_forest.predict(x_val), index=y_val.index)\n",
    "\n",
    "rmse_train = compute_rmse(y_train, pred_train)\n",
    "rmse_val = compute_rmse(y_val, pred_val)\n",
    "\n",
    "print(\"RMSE train : %s\" % rmse_train)\n",
    "print(\"RMSE validation : %s\" % rmse_val)\n"
   ]
  },
  {
   "cell_type": "code",
   "execution_count": 62,
   "metadata": {
    "execution": {
     "iopub.execute_input": "2022-04-09T21:44:03.190342Z",
     "iopub.status.busy": "2022-04-09T21:44:03.187008Z",
     "iopub.status.idle": "2022-04-09T21:44:03.233913Z",
     "shell.execute_reply": "2022-04-09T21:44:03.234258Z"
    }
   },
   "outputs": [],
   "source": [
    "x_test = x_test.apply(lambda x: x.fillna(x.mean()),axis=0)"
   ]
  },
  {
   "cell_type": "code",
   "execution_count": 63,
   "metadata": {
    "execution": {
     "iopub.execute_input": "2022-04-09T21:44:03.239629Z",
     "iopub.status.busy": "2022-04-09T21:44:03.239189Z",
     "iopub.status.idle": "2022-04-09T21:44:04.909401Z",
     "shell.execute_reply": "2022-04-09T21:44:04.908961Z"
    },
    "pycharm": {
     "name": "#%%\n"
    }
   },
   "outputs": [],
   "source": [
    "pred_test = model_forest.predict(x_test)\n",
    "pred_test = pred_test.reshape(-1,1)\n",
    "pred_test.shape\n",
    "df_submit = export_ens(df_test, pred_test, True, r\"/root/LIZA/results/OrlovaE.csv\")"
   ]
  }
 ],
 "metadata": {
  "anaconda-cloud": {},
  "kernelspec": {
   "display_name": "Python 3",
   "language": "python",
   "name": "python3"
  },
  "language_info": {
   "codemirror_mode": {
    "name": "ipython",
    "version": 3
   },
   "file_extension": ".py",
   "mimetype": "text/x-python",
   "name": "python",
   "nbconvert_exporter": "python",
   "pygments_lexer": "ipython3",
   "version": "3.6.9"
  }
 },
 "nbformat": 4,
 "nbformat_minor": 1
}
