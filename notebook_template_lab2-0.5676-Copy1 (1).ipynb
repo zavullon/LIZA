{
 "cells": [
  {
   "cell_type": "markdown",
   "metadata": {},
   "source": [
    "## Load modules\n",
    "\n",
    "In this cell, you can put all modules you use. You can use it to provide a clear code."
   ]
  },
  {
   "cell_type": "code",
   "execution_count": 1,
   "metadata": {},
   "outputs": [],
   "source": [
    "import pandas as pd\n",
    "import numpy as np\n",
    "import matplotlib.pyplot as plt\n",
    "import seaborn as sns"
   ]
  },
  {
   "cell_type": "markdown",
   "metadata": {},
   "source": [
    "## Your functions\n",
    "\n",
    "In order to have a clear code, you can put all your own functions in this cell."
   ]
  },
  {
   "cell_type": "code",
   "execution_count": 2,
   "metadata": {},
   "outputs": [],
   "source": [
    "def export_ens(df_test, pred_test, save=True, path_save=\"y_test_prediction.csv\"):\n",
    "    \"\"\"\n",
    "    Export submissions with the good ENS data challenge format.\n",
    "    df_test : (pandas dataframe) test set\n",
    "    proba_test : (numpy ndarray) prediction as a numpy ndarray you get using method .predict()\n",
    "    save : (bool) if set to True, it will save csv submission in path_save path.\n",
    "    path_save : (str) path where to save submission.\n",
    "    return : dataframe for submission\n",
    "    \"\"\"\n",
    "    df_submit = pd.Series(pred_test[:,0], index=df_test.index, name=\"spread\")\n",
    "    df_submit.to_csv(path_save, index=True)\n",
    "    return df_submit\n",
    "\n",
    "def check_test(result, expected, display_error):\n",
    "    \"\"\"\n",
    "    Testing your results.\n",
    "    \"\"\"\n",
    "    if result == expected:\n",
    "        print(\"1 test passed.\")\n",
    "    else:\n",
    "        print(display_error)"
   ]
  },
  {
   "cell_type": "markdown",
   "metadata": {},
   "source": [
    "## Load datasets"
   ]
  },
  {
   "cell_type": "code",
   "execution_count": 3,
   "metadata": {},
   "outputs": [],
   "source": [
    "df_train = pd.read_csv(r'/home/egor/Загрузки/lab2/data/input_training_imet9ZU.csv')\n",
    "y_train = pd.read_csv(r'/home/egor/Загрузки/lab2/data/output_training_yCN1f2d.csv')\n",
    "df_test = pd.read_csv(r'/home/egor/Загрузки/lab2/data/input_test_4AhEauI.csv')\n",
    "df_full = pd.merge(df_train, y_train)\n",
    "n_rows_train = df_train.shape[0]\n",
    "n_rows_test = df_test.shape[0]"
   ]
  },
  {
   "cell_type": "code",
   "execution_count": 4,
   "metadata": {},
   "outputs": [
    {
     "name": "stdout",
     "output_type": "stream",
     "text": [
      "1 test passed.\n",
      "1 test passed.\n"
     ]
    }
   ],
   "source": [
    "check_test(n_rows_train, 629611, \"wrong number of rows\")\n",
    "check_test(n_rows_test, 230304, \"wrong number of rows\")"
   ]
  },
  {
   "cell_type": "code",
   "execution_count": 5,
   "metadata": {},
   "outputs": [],
   "source": [
    "df_full['maturity'] = (df_full['dt_expiry']- df_full['dt_close'])\n",
    "df_train['maturity'] = (df_train['dt_expiry']- df_train['dt_close'])\n",
    "df_test['maturity'] = (df_test['dt_expiry']- df_test['dt_close'])"
   ]
  },
  {
   "cell_type": "code",
   "execution_count": 6,
   "metadata": {},
   "outputs": [],
   "source": [
    "df_full['hml'] = (np.log(df_full['high'])- np.log(df_full['open']))*(np.log(df_full['high'])- np.log(df_full['close'])) - (np.log(df_full['low'])- np.log(df_full['open']))*(np.log(df_full['low'])- np.log(df_full['close']))*100"
   ]
  },
  {
   "cell_type": "code",
   "execution_count": 7,
   "metadata": {},
   "outputs": [],
   "source": [
    "df_train['hml'] = (np.log(df_train['high'])- np.log(df_train['open']))*(np.log(df_train['high'])- np.log(df_train['close'])) - (np.log(df_train['low'])- np.log(df_train['open']))*(np.log(df_train['low'])- np.log(df_train['close']))*100\n",
    "df_test['hml'] = (np.log(df_test['high'])- np.log(df_test['open']))*(np.log(df_test['high'])- np.log(df_test['close'])) - (np.log(df_test['low'])- np.log(df_test['open']))*(np.log(df_test['low'])- np.log(df_test['close']))*100"
   ]
  },
  {
   "cell_type": "markdown",
   "metadata": {},
   "source": [
    "## Take a look on first rows\n",
    "\n",
    "Take a look on the **df_train** first 5 rows using method .head()."
   ]
  },
  {
   "cell_type": "code",
   "execution_count": 8,
   "metadata": {},
   "outputs": [
    {
     "data": {
      "text/plain": "   ID  dt_close  product_id  liquidity_rank  normal_trading_day  dt_expiry  \\\n0   0      8862      401920               0                   1       8952   \n1   1      8862      401920               1                   1       8995   \n2   2      8862      401920               2                   1       9039   \n3   3      8862      401920               3                   1       9104   \n4   4      8862      401920               4                   1       9213   \n\n     open    high     low   close  open_interest  volume  tick_size  fixed  \\\n0  2710.0  2721.0  2624.0  2635.0           2814     402         11      0   \n1  2610.0  2638.0  2547.0  2560.0            905     107         11      0   \n2  2530.0  2550.0  2468.0  2478.0            719      41         11      0   \n3  2497.0  2508.0  2437.0  2443.0            466      25         11      0   \n4  2474.0  2505.0  2443.0  2452.0            286      11         11      0   \n\n   maturity       hml  \n0        90 -0.013361  \n1       133 -0.012119  \n2       177 -0.009807  \n3       242 -0.005865  \n4       351 -0.004370  ",
      "text/html": "<div>\n<style scoped>\n    .dataframe tbody tr th:only-of-type {\n        vertical-align: middle;\n    }\n\n    .dataframe tbody tr th {\n        vertical-align: top;\n    }\n\n    .dataframe thead th {\n        text-align: right;\n    }\n</style>\n<table border=\"1\" class=\"dataframe\">\n  <thead>\n    <tr style=\"text-align: right;\">\n      <th></th>\n      <th>ID</th>\n      <th>dt_close</th>\n      <th>product_id</th>\n      <th>liquidity_rank</th>\n      <th>normal_trading_day</th>\n      <th>dt_expiry</th>\n      <th>open</th>\n      <th>high</th>\n      <th>low</th>\n      <th>close</th>\n      <th>open_interest</th>\n      <th>volume</th>\n      <th>tick_size</th>\n      <th>fixed</th>\n      <th>maturity</th>\n      <th>hml</th>\n    </tr>\n  </thead>\n  <tbody>\n    <tr>\n      <th>0</th>\n      <td>0</td>\n      <td>8862</td>\n      <td>401920</td>\n      <td>0</td>\n      <td>1</td>\n      <td>8952</td>\n      <td>2710.0</td>\n      <td>2721.0</td>\n      <td>2624.0</td>\n      <td>2635.0</td>\n      <td>2814</td>\n      <td>402</td>\n      <td>11</td>\n      <td>0</td>\n      <td>90</td>\n      <td>-0.013361</td>\n    </tr>\n    <tr>\n      <th>1</th>\n      <td>1</td>\n      <td>8862</td>\n      <td>401920</td>\n      <td>1</td>\n      <td>1</td>\n      <td>8995</td>\n      <td>2610.0</td>\n      <td>2638.0</td>\n      <td>2547.0</td>\n      <td>2560.0</td>\n      <td>905</td>\n      <td>107</td>\n      <td>11</td>\n      <td>0</td>\n      <td>133</td>\n      <td>-0.012119</td>\n    </tr>\n    <tr>\n      <th>2</th>\n      <td>2</td>\n      <td>8862</td>\n      <td>401920</td>\n      <td>2</td>\n      <td>1</td>\n      <td>9039</td>\n      <td>2530.0</td>\n      <td>2550.0</td>\n      <td>2468.0</td>\n      <td>2478.0</td>\n      <td>719</td>\n      <td>41</td>\n      <td>11</td>\n      <td>0</td>\n      <td>177</td>\n      <td>-0.009807</td>\n    </tr>\n    <tr>\n      <th>3</th>\n      <td>3</td>\n      <td>8862</td>\n      <td>401920</td>\n      <td>3</td>\n      <td>1</td>\n      <td>9104</td>\n      <td>2497.0</td>\n      <td>2508.0</td>\n      <td>2437.0</td>\n      <td>2443.0</td>\n      <td>466</td>\n      <td>25</td>\n      <td>11</td>\n      <td>0</td>\n      <td>242</td>\n      <td>-0.005865</td>\n    </tr>\n    <tr>\n      <th>4</th>\n      <td>4</td>\n      <td>8862</td>\n      <td>401920</td>\n      <td>4</td>\n      <td>1</td>\n      <td>9213</td>\n      <td>2474.0</td>\n      <td>2505.0</td>\n      <td>2443.0</td>\n      <td>2452.0</td>\n      <td>286</td>\n      <td>11</td>\n      <td>11</td>\n      <td>0</td>\n      <td>351</td>\n      <td>-0.004370</td>\n    </tr>\n  </tbody>\n</table>\n</div>"
     },
     "execution_count": 8,
     "metadata": {},
     "output_type": "execute_result"
    }
   ],
   "source": [
    "df_train.head(5)"
   ]
  },
  {
   "cell_type": "code",
   "execution_count": 9,
   "metadata": {},
   "outputs": [],
   "source": [
    "df_train = df_train.set_index(['ID'])\n",
    "y_train = y_train.set_index('ID')\n",
    "df_test = df_test.set_index('ID')"
   ]
  },
  {
   "cell_type": "code",
   "execution_count": 10,
   "metadata": {},
   "outputs": [],
   "source": [
    "mean_target_per_product = df_full.groupby(by = [\"product_id\", \"liquidity_rank\"])['spread'].mean()\n",
    "mean_target_per_product.name = \"mean_target_per_product\"\n",
    "\n",
    "df_train = df_train.merge(mean_target_per_product, how=\"left\", right_index=True, left_on=[\"product_id\", \"liquidity_rank\"])\n",
    "df_test = df_test.merge(mean_target_per_product, how=\"left\", right_index=True, left_on=[\"product_id\", \"liquidity_rank\"])"
   ]
  },
  {
   "cell_type": "code",
   "execution_count": 11,
   "metadata": {},
   "outputs": [],
   "source": [
    "\n",
    "std_target_per_liquidity = df_full.groupby(by = [ \"liquidity_rank\"])['spread'].std()\n",
    "std_target_per_liquidity.name = \"std_target_per_liquidity\"\n",
    "\n",
    "df_train = df_train.merge(std_target_per_liquidity, how=\"left\", right_index=True, left_on=[\"liquidity_rank\"])\n",
    "df_test = df_test.merge(std_target_per_liquidity, how=\"left\", right_index=True, left_on=[\"liquidity_rank\"])"
   ]
  },
  {
   "cell_type": "code",
   "execution_count": 12,
   "metadata": {},
   "outputs": [],
   "source": [
    "mean_hml = df_full.groupby('product_id')['hml'].mean()\n",
    "mean_hml.name = 'mean_hml'\n",
    "\n",
    "df_train = df_train.merge(mean_hml, how=\"left\", right_index=True, left_on=[\"product_id\"])\n",
    "df_test = df_test.merge(mean_hml, how=\"left\", right_index=True, left_on=[\"product_id\"])"
   ]
  },
  {
   "cell_type": "code",
   "execution_count": 13,
   "metadata": {},
   "outputs": [],
   "source": [
    "#features_test = pd.DataFrame(df_test)\n",
    "features_test = pd.DataFrame(df_test, columns= ['liquidity_rank',\"volume\", \"fixed\", \"product_id\", \"normal_trading_day\", \"open_interest\", \"mean_target_per_product\", \"std_target_per_liquidity\",  'maturity', 'tick_size', 'mean_hml', 'high', 'low', 'dt_close'])\n",
    "#features_test = pd.DataFrame(df_test, columns= [\"volume\",  \"hml\", \"fixed\", \"product_id\", \"normal_trading_day\", \"open_interest\", \"mean_target_per_product\", \"std_target_per_liquidity\",  'maturity', 'tick_size', 'mean_hml'])"
   ]
  },
  {
   "cell_type": "code",
   "execution_count": 14,
   "metadata": {},
   "outputs": [],
   "source": [
    "#features_train = pd.DataFrame(df_train)\n",
    "features_train = pd.DataFrame(df_train, columns= ['liquidity_rank', \"volume\",  \"fixed\", \"product_id\", \"normal_trading_day\", \"open_interest\", \"mean_target_per_product\", \"std_target_per_liquidity\",  'maturity', 'tick_size', 'mean_hml', 'high', 'low', 'dt_close'])\n",
    "#features_train = pd.DataFrame(df_train, columns= [\"volume\",  \"hml\", \"fixed\", \"product_id\", \"normal_trading_day\", \"open_interest\", \"mean_target_per_product\", \"std_target_per_liquidity\",  'maturity', 'tick_size', 'mean_hml'])"
   ]
  },
  {
   "cell_type": "code",
   "execution_count": 15,
   "metadata": {},
   "outputs": [],
   "source": [
    "from sklearn.model_selection import train_test_split\n",
    "\n",
    "x_train, x_val, y_train, y_val = train_test_split(features_train, df_full['spread'])\n",
    "x_test = features_test"
   ]
  },
  {
   "cell_type": "code",
   "execution_count": 16,
   "metadata": {},
   "outputs": [],
   "source": [
    "from sklearn.metrics import mean_squared_error\n",
    "from math import sqrt\n",
    "\n",
    "def compute_rmse(y_true, y_pred):\n",
    "    return sqrt(mean_squared_error(y_true, y_pred))"
   ]
  },
  {
   "cell_type": "code",
   "execution_count": null,
   "metadata": {
    "pycharm": {
     "is_executing": true
    }
   },
   "outputs": [
    {
     "name": "stdout",
     "output_type": "stream",
     "text": [
      "depth = 24 |estimator = 200 | RMSE train = 0.283437991113077 | RMSE val = 0.6869452285266047\n",
      "depth = 24 |estimator = 220 | RMSE train = 0.28480885274226003 | RMSE val = 0.6864889681749878\n",
      "depth = 24 |estimator = 240 | RMSE train = 0.2840707069412716 | RMSE val = 0.6864725688391989\n"
     ]
    }
   ],
   "source": [
    "from sklearn.ensemble import RandomForestRegressor\n",
    "import math\n",
    "\n",
    "# Prerequisites :\n",
    "depths = range(24, 31)\n",
    "estimators = range(200,420,20)\n",
    "all_rmse_train = []\n",
    "all_rmse_val = []\n",
    "experiments  = []\n",
    "all_rmse_train_tree = []\n",
    "all_rmse_train_forest = []\n",
    "all_rmse_val_tree = []\n",
    "all_rmse_val_forest = []\n",
    "\n",
    "\n",
    "for depth in depths:\n",
    "    for estimator in estimators:\n",
    "        # Random Forest\n",
    "        clf_forest = RandomForestRegressor(n_estimators=estimator, max_depth=depth, n_jobs=-1)\n",
    "        model_forest = clf_forest.fit(x_train, y_train)\n",
    "\n",
    "        pred_train = pd.Series(model_forest.predict(x_train), index=y_train.index)\n",
    "        pred_val = pd.Series(model_forest.predict(x_val), index=y_val.index)\n",
    "\n",
    "\n",
    "        # Compute MSLE evaluation metrics\n",
    "        rmse_train = compute_rmse(y_train, pred_train)\n",
    "        rmse_val = compute_rmse(y_val, pred_val)\n",
    "\n",
    "        print(\"depth = %s |estimator = %s | RMSE train = %s | RMSE val = %s\" % (depth, estimator, rmse_train, rmse_val))"
   ]
  },
  {
   "cell_type": "code",
   "execution_count": null,
   "metadata": {},
   "outputs": [],
   "source": []
  },
  {
   "cell_type": "code",
   "execution_count": null,
   "metadata": {},
   "outputs": [],
   "source": []
  }
 ],
 "metadata": {
  "anaconda-cloud": {},
  "kernelspec": {
   "display_name": "Python 3",
   "language": "python",
   "name": "python3"
  },
  "language_info": {
   "codemirror_mode": {
    "name": "ipython",
    "version": 3
   },
   "file_extension": ".py",
   "mimetype": "text/x-python",
   "name": "python",
   "nbconvert_exporter": "python",
   "pygments_lexer": "ipython3",
   "version": "3.7.6"
  }
 },
 "nbformat": 4,
 "nbformat_minor": 1
}