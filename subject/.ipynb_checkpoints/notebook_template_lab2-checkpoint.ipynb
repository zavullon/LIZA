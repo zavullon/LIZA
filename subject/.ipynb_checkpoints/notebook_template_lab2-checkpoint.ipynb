{
 "cells": [
  {
   "attachments": {
    "master_203_pic.jpg": {
     "image/jpeg": "[encoded data removed]"
    }
   },
   "cell_type": "markdown",
   "metadata": {},
   "source": [
    "![master_203_pic.jpg](attachment:master_203_pic.jpg)"
   ]
  },
  {
   "cell_type": "markdown",
   "metadata": {},
   "source": [
    "## LAB 2 rules"
   ]
  },
  {
   "cell_type": "markdown",
   "metadata": {},
   "source": [
    "Assignment has to be done individually. Grades are between 0-20. The assignment counts for 50% of the final grade. You will be asked to build a whole machine learning pipeline and submit your predictions through the ENS data challenge competition interface. You will also have to submit your final notebook and relevant documents with regards to the following planning.\n",
    "\n",
    "- **Competition start date** : **07 March 2022 15:30**\n",
    "- **Submissions dead line** : **01 April 2022, 00:59**\n",
    "- **Work and notebook submission** : **08 April 2022, 23:59**\n",
    "\n",
    "Final work submissions are made by email at vienne.thibaud@gmail.com. Zip your whole project with underlying folders, notebook and possible report. Email subject should start with [203_lab2]."
   ]
  },
  {
   "cell_type": "markdown",
   "metadata": {},
   "source": [
    "## Grades"
   ]
  },
  {
   "cell_type": "markdown",
   "metadata": {},
   "source": [
    "Your work will be marked out of 20 according to 2 criteria :\n",
    "\n",
    "- **Criteria 1 : Predictive model performance and ranking on ENS data challenge leaderboard ( / 7.5 points).**<br/>\n",
    "- **Criteria 2 : Relevance of the reported notebook ( / 12.5 points).**<br/>\n",
    "\n",
    "First criteria grade will be a mixture between your predictive model performance on the competition interface and your competition ranking. Criteria 2 refers to the submitted work relevance. At least you should provide a commented notebook but feel free to provide a small report. More precisely, second criteria grades will be assigned with regards to the following points : \n",
    "\n",
    "**Data exploration and features engineering ( / 4 pts)** : \n",
    "\n",
    "> - Richness of exploration, analysis and charts provided.<br/>\n",
    "> - Relevance of interpretations and justifications provided.<br/>\n",
    "> - Relevance of implemented features, justifications and interpretations in data cleaning and features engineering.\n",
    "> - Personal initiatives.<br/>\n",
    "> - Your conclusions for following steps.<br/>\n",
    "\n",
    "**Machine learning pipeline ( / 6 pts)** : \n",
    "> - Relevance of implemented features, justifications and interpretations in machine learning algorithms.\n",
    "> - Relevance of justifications and interpretations in models evaluation procedure, results and models diagnostic.\n",
    "> - Personal initiatives.\n",
    "> - Your conclusions.\n",
    "\n",
    "**Notebook quality and participation ( / 2.5 pts)** : \n",
    "\n",
    "> - Code clearness (structure of the code, comments, written functions…)\n",
    "> - Notebook clearness (structure of notebook, markdown...).\n",
    "> - Participation on the forum.\n",
    "> - ..."
   ]
  },
  {
   "cell_type": "markdown",
   "metadata": {},
   "source": [
    "## Notebook description"
   ]
  },
  {
   "cell_type": "markdown",
   "metadata": {},
   "source": [
    "This notebook will be used during the first 3 inclass hours of the competition. Using it, we will try to create a first supervised machine learning model to **recover missing values in financial time series**. Moreover,it can be used as a template to structure your work and so success this lab. It is composed of common machine learning steps :\n",
    "\n",
    "**Step 0 - Prerequisites** : this is where you will code all your prerequisites including python modules to import and your own functions. It also covers the competition purpose and the description of data.<br/><br/>\n",
    "**Step 1 - Exploration** : It is a common part in a machine learning pipeline. In this section, you will import datasets, discover the available features, provide some data mining observations, investigate missing values and possible outliers. You can also try to explore the dynamics behing the modelization. An exhaustive exploration is more likely to yield powerful predictive models.<br/><br/>\n",
    "**Step 2 - Features Engineering** : According to conclusions you get from exploration, you will process the provided data (cleaning, create new features, features selection...).<br/><br/>\n",
    "**Step 3 - Machine learning experiments** : In this part, you will test different machine learning algorithms and configurations. It is your sandbox before running the final machine learning model. You will also have to evaluate your results and interpret it.<br/><br/>\n",
    "**Step 4 - Final run** : According to the previous steps results and your own interpretation, run your best machine learning algorithm and make predictions for the test set. Then export your results and make a submission on the ENS data challenge platform. Conclude.<br/><br/>"
   ]
  },
  {
   "cell_type": "markdown",
   "metadata": {},
   "source": [
    "## How to success this lab?"
   ]
  },
  {
   "cell_type": "markdown",
   "metadata": {},
   "source": [
    "- Be organized. Work on a regular basis. The lab 2 requires time to yield good results.\n",
    "- Take time to explore data. It will help you to understand features and reach better scores.\n",
    "- Ask yourself questions. Be critical with results you get.\n",
    "- Diversify efforts on all parts of machine learning pipeline (exploration, cleaning, features engineering/selection, machine learning...).\n",
    "- Take initiatives. Try and test! \n",
    "- Keep trusting in yourself! you have all the needed knowledge to success this assignement! :)"
   ]
  },
  {
   "cell_type": "markdown",
   "metadata": {},
   "source": [
    "# Step 0 - Prerequisites "
   ]
  },
  {
   "cell_type": "markdown",
   "metadata": {},
   "source": [
    "## Aim of the competition"
   ]
  },
  {
   "cell_type": "markdown",
   "metadata": {},
   "source": [
    "When computers are responsible for all trading decisions through algorithms, it is very important that their input data be of the best quality possible. However, sometimes values may be missing or contain outliers.\n",
    "\n",
    "Futures contracts are a promise to deliver some underlying asset (let’s say cotton) at a given expiry date and at a predetermined price; they are for instance useful to a company for locking a price for a future time when they will need the underlying asset (it could be a garment manufacturer, for instance, for cotton).\n",
    "\n",
    "The goal of this challenge is to recover missing values in financial time series covering 300 futures contracts."
   ]
  },
  {
   "cell_type": "markdown",
   "metadata": {},
   "source": [
    "## About data"
   ]
  },
  {
   "cell_type": "markdown",
   "metadata": {},
   "source": [
    "Dimension : Less than 1,000,000 rows, including 200,000 bid-ask spreads to predict.\n",
    "\n",
    "\n",
    "> - **product_id** and **liquidity_rank** define a unique futures contract. The dataset contains around 100 product_id (corresponding for instance to a specific type of crude oil). For each product_id several liquidity ranks can exist: liquidity_rank 0 refers to the contract with the closest expiry date (which is often the most traded one), 1 to the next contract to expire, etc. Thus, a contract of rank 1 becomes a contract of rank 0 when the previous contract of rank 0 expires.\n",
    "> - **dt_close** represents the day number (they are therefore chronological) for each data sample. For a given dt_close there is 1 entry per (product_id, liquidity_rank) pair.\n",
    "> - **dt_expiry** similarly represents the date of the futures contract expiry.\n",
    "> - **normal_trading_day** is set to 0 when the market is closed or the market activity is reduced.\n",
    "> - **open**, **close** represent contract prices, resp. at market opening and close.\n",
    "> - **high**, **low** represent the highest and lowest price of the contract during the day.\n",
    "> - **volume** is the number of contracts exchanged during the day, up to a factor that depends only on product_id.\n",
    "> - **open_interest** is the number of active contracts at the end of the day, with the same factor applied as for the volume.\n",
    "> **spread** is the “daily bid-ask spread”, which is the value we want to predict.\n",
    "> **tick_size** is a proxy for 1 unit of spread (this is not directly price difference).\n",
    "> - **fixed** is set to 1 when one or more features have been fixed for various reason (outliers, missing values…).\n",
    "\n",
    "Prices are all normalized in some way (the values are thus not in currency units), but they are consistent within each product_id."
   ]
  },
  {
   "cell_type": "markdown",
   "metadata": {},
   "source": [
    "### Metric\n",
    "\n",
    "**Root mean square error (RMSE)** between the predicted daily bid-ask spread and the real one, measured over every missing spread.\n",
    "\n",
    "### Benchmark\n",
    "\n",
    "Whereas classical time series problems only allow the use of past data for predictions, participants can exploit the complete time series “to fill the gap”.\n",
    "\n",
    "A very simple benchmark would be:\n",
    "\n",
    "> **df['spread'].interpolate(method='linear')**"
   ]
  },
  {
   "cell_type": "markdown",
   "metadata": {},
   "source": [
    "## Load modules\n",
    "\n",
    "In this cell, you can put all modules you use. You can use it to provide a clear code."
   ]
  },
  {
   "cell_type": "code",
   "execution_count": null,
   "metadata": {},
   "outputs": [],
   "source": [
    "import pandas as pd\n",
    "import numpy as np\n",
    "import matplotlib.pyplot as plt\n",
    "import seaborn as sns"
   ]
  },
  {
   "cell_type": "markdown",
   "metadata": {},
   "source": [
    "## Your functions\n",
    "\n",
    "In order to have a clear code, you can put all your own functions in this cell."
   ]
  },
  {
   "cell_type": "code",
   "execution_count": null,
   "metadata": {},
   "outputs": [],
   "source": [
    "def export_ens(df_test, pred_test, save=True, path_save=\"y_test_prediction.csv\"):\n",
    "    \"\"\"\n",
    "    Export submissions with the good ENS data challenge format.\n",
    "    df_test : (pandas dataframe) test set\n",
    "    proba_test : (numpy ndarray) prediction as a numpy ndarray you get using method .predict()\n",
    "    save : (bool) if set to True, it will save csv submission in path_save path.\n",
    "    path_save : (str) path where to save submission.\n",
    "    return : dataframe for submission\n",
    "    \"\"\"\n",
    "    df_submit = pd.Series(pred_test[:,0], index=df_test.index, name=\"spread\")\n",
    "    df_submit.to_csv(path_save, index=True)\n",
    "    return df_submit\n",
    "\n",
    "def check_test(result, expected, display_error):\n",
    "    \"\"\"\n",
    "    Testing your results.\n",
    "    \"\"\"\n",
    "    if result == expected:\n",
    "        print(\"1 test passed.\")\n",
    "    else:\n",
    "        print(display_error)"
   ]
  },
  {
   "cell_type": "markdown",
   "metadata": {},
   "source": [
    "# Step 1 - Data Exploration\n",
    "\n",
    "Data exploration is a common part in a machine learning pipeline. In this section, you will import datasets, discover  features, provide data mining observations, investigate missing values and possible outliers. An exhaustive exploration is more likely to yield prowerful predictive models.\n",
    "\n",
    "- Read the train dataset inputs and assign to the variable **df_train**.\n",
    "- Read the train dataset labels and assign to the variable **y_train**.\n",
    "- Read the test dataset inputs and assign to the variable **df_test**.\n",
    "- Concat **df_train** and **y_train** to create **df_full**.\n",
    "- Assign number of rows in train dataset and assign it to variable **n_rows_train**.\n",
    "- Assign number of rows in test dataset and assign it to variable **n_rows_test**."
   ]
  },
  {
   "cell_type": "markdown",
   "metadata": {},
   "source": [
    "## Load datasets"
   ]
  },
  {
   "cell_type": "code",
   "execution_count": null,
   "metadata": {},
   "outputs": [],
   "source": [
    "df_train = <FILL IN>\n",
    "y_train = <FILL IN>\n",
    "df_test = <FILL IN>\n",
    "df_full = <FILL IN>\n",
    "n_rows_train = <FILL IN>\n",
    "n_rows_test = <FILL IN>"
   ]
  },
  {
   "cell_type": "code",
   "execution_count": null,
   "metadata": {},
   "outputs": [],
   "source": [
    "check_test(n_rows_train, 629611, \"wrong number of rows\")\n",
    "check_test(n_rows_test, 230304, \"wrong number of rows\")"
   ]
  },
  {
   "cell_type": "markdown",
   "metadata": {},
   "source": [
    "## Take a look on first rows\n",
    "\n",
    "Take a look on the **df_train** first 5 rows using method .head()."
   ]
  },
  {
   "cell_type": "code",
   "execution_count": null,
   "metadata": {},
   "outputs": [],
   "source": [
    "<FILL IN>"
   ]
  },
  {
   "cell_type": "markdown",
   "metadata": {},
   "source": [
    "Take a look on the **training targets** first 5 rows using method .head()."
   ]
  },
  {
   "cell_type": "code",
   "execution_count": null,
   "metadata": {},
   "outputs": [],
   "source": [
    "<FILL IN>"
   ]
  },
  {
   "cell_type": "markdown",
   "metadata": {},
   "source": [
    "## Set ID as index\n",
    "\n",
    "the column **ID** is the identifier of the osbervations. It is used to retrieve a given prediction with its label. Let's set the column **ID** as the index of the dataframe with the method **set_index()**.\n",
    "\n",
    "- Set the column **ID** as the index of **df_train**.\n",
    "- Set the column **ID** as the index of **df_target_train**.\n",
    "- Set the column **ID** as the index of **df_test**."
   ]
  },
  {
   "cell_type": "code",
   "execution_count": null,
   "metadata": {},
   "outputs": [],
   "source": [
    "df_train = df_train.set_index(<FILL IN>)\n",
    "y_train = y_train.set_index(<FILL IN>)\n",
    "df_test = df_test.set_index(<FILL IN>)"
   ]
  },
  {
   "cell_type": "code",
   "execution_count": null,
   "metadata": {},
   "outputs": [],
   "source": [
    "check_test(df_train.shape[1], 13, \"wrong number of columns\")\n",
    "check_test(y_train.shape, (629611, 1), \"wrong number of columns\")"
   ]
  },
  {
   "cell_type": "markdown",
   "metadata": {},
   "source": [
    "## Look at the distribution of the target\n",
    "\n",
    "Let's take a look on the column label (spread) in the train dataset. Take a look on the disribution of the label by plotting an histogram with matplotlib.\n",
    "\n",
    "- Plot the histogram of the serie **y_train**. You can use the parameter **bins** to change the number of slots.\n",
    "- Describe the serie **y_train** using the method **.describe()**."
   ]
  },
  {
   "cell_type": "code",
   "execution_count": null,
   "metadata": {},
   "outputs": [],
   "source": [
    "# Plot the histogram\n",
    "<FILL IN>\n",
    "\n",
    "# Describe the serie of label with the method .describe()\n",
    "<FILL IN>"
   ]
  },
  {
   "cell_type": "markdown",
   "metadata": {},
   "source": [
    "## Bid-ask spread with respect to the liquidity rank\n",
    "\n",
    "_(Here is an example of data exploration + interpretation you can perform to understand your features)._\n",
    "\n",
    "Very naively, one might think that there is a relationship between the bid-ask spread and the liquidity rank. To verify this hypothesis, we can visualize the boxplot distribution per category rank.\n",
    "\n",
    "- Using seaborn function [**boxplot per category**](https://seaborn.pydata.org/generated/seaborn.boxplot.html), make the visualization."
   ]
  },
  {
   "cell_type": "code",
   "execution_count": null,
   "metadata": {},
   "outputs": [],
   "source": [
    "plt.figure(figsize=[15, 8])\n",
    "ax = sns.boxplot(x=<FILL IN>, y=<FILL IN>, data=<FILL IN>)\n",
    "plt.title(\"Distribution of the target per liquidity rank\")\n",
    "plt.show()"
   ]
  },
  {
   "cell_type": "markdown",
   "metadata": {},
   "source": [
    "## Other things you can try\n",
    "\n",
    "There are a lot ot experiments you can try to explore data. If you lack in ideas, here are some you can try :\n",
    "\n",
    "- Understand features using statistical measures (mean, variance, std...) and visual charts.\n",
    "- Try to understand the underlying relationship between the input features and the label. Make interpretations ! \n",
    "- Search for correlations between features and label.\n",
    "- If any, investigate missing values and outliers.\n",
    "- ...\n",
    "\n",
    "However, feel completly free to provide your own analysis, exploration, interpretations and conclusions! Be creative!"
   ]
  },
  {
   "cell_type": "markdown",
   "metadata": {},
   "source": [
    "# Step 2 - Features engineering and selection\n",
    "\n",
    "According to the conclusions you get from step 1 exploration, process your data (features engineering, features selection, dimensionality reduction...). Feel free to create several different datasets if you want to explore different kind of dataframes."
   ]
  },
  {
   "cell_type": "markdown",
   "metadata": {},
   "source": [
    "## Compute the mean spread per product\n",
    "\n",
    "_(Here is an example of fetures engineering + interpretation you can perform to understand your features)._\n",
    "\n",
    "As seen above, there is a relationship between the bid-ask spread, the product and the liquidity rank. We will use past and future observations to retrieve the bid-ask spreads.\n",
    "\n",
    "- Create the mean target per product by grouping observations on product and liquidity rank on **df_full**.\n",
    "- Add a new column **mean_target_per_product** to train and test datasets using the merge function."
   ]
  },
  {
   "cell_type": "code",
   "execution_count": null,
   "metadata": {},
   "outputs": [],
   "source": [
    "# compute mean_target_per_product\n",
    "mean_target_per_product = df_full.groupby(<FILL IN>).<FILL IN>\n",
    "mean_target_per_product.name = \"mean_target_per_product\"\n",
    "\n",
    "# merge on df_train and df_test\n",
    "df_train = df_train.merge(mean_target_per_product, how=\"left\", right_index=True, left_on=[\"product_id\", \"liquidity_rank\"])\n",
    "df_test = df_test.merge(mean_target_per_product, how=\"left\", right_index=True, left_on=[\"product_id\", \"liquidity_rank\"])"
   ]
  },
  {
   "cell_type": "code",
   "execution_count": null,
   "metadata": {},
   "outputs": [],
   "source": [
    "df_train"
   ]
  },
  {
   "cell_type": "markdown",
   "metadata": {},
   "source": [
    "## Features selection\n",
    "\n",
    "Before running a machine learning algorithm, we have to select the features relevant with our modelization.\n",
    "- In this section, select a set of features you want to use in your machine learning pipeline. Assign this list in the variable **features**. For example, you can start with features [\"liquidity_rank\", \"normal_trading_day\", \"open_interest\", \"mean_target_per_product\"].\n",
    "- Make sure that you have removed the feature **ID** from this list as it is not relevant for the model.\n",
    "\n",
    "Note : You can access a dataframe columns using the dataframe's attribute **.columns**"
   ]
  },
  {
   "cell_type": "code",
   "execution_count": null,
   "metadata": {},
   "outputs": [],
   "source": [
    "features = <FILL IN>"
   ]
  },
  {
   "cell_type": "code",
   "execution_count": null,
   "metadata": {},
   "outputs": [],
   "source": [
    "check_test(\"ID\" not in features, True, \"error : column ID still in the features.\")"
   ]
  },
  {
   "cell_type": "markdown",
   "metadata": {},
   "source": [
    "## Other things you can try\n",
    "\n",
    "There are a lot ot experiments you can try to process your data. If you lack in ideas, here are some you can try :\n",
    "\n",
    "- Create new insights from the raw data. \n",
    "- Perform features selection / dimensionality reduction to enhance the features.\n",
    "- ...\n",
    "\n",
    "Once again, feel completly free to provide your own process, interpretations and conclusions..."
   ]
  },
  {
   "cell_type": "markdown",
   "metadata": {},
   "source": [
    "# Step 3 - Machine learning algorithms experiments\n",
    "\n",
    "In this part, you will test different machine learning algorithms and configurations. It is your sandbox before running the final machine learning model. You will also have to evaluate your results and interpret it."
   ]
  },
  {
   "cell_type": "markdown",
   "metadata": {},
   "source": [
    "## Validation procedure\n",
    "\n",
    "In this section, we will split our dataset into a train set and a validation set. Asn an example, we will use the simple **train_test_split** approach. However, you are free to choose the validation procedure. Justify your choices.\n",
    "\n",
    "- Using the train-test split approach, split your train dataframe. Assign the resulting dataframes to variables **x_train**, **x_val**, **y_train** and **y_val**."
   ]
  },
  {
   "cell_type": "code",
   "execution_count": null,
   "metadata": {},
   "outputs": [],
   "source": [
    "from sklearn.model_selection import train_test_split\n",
    "\n",
    "x_train, x_val, y_train, y_val = <FILL IN>\n",
    "x_test = <FILL IN>"
   ]
  },
  {
   "cell_type": "markdown",
   "metadata": {},
   "source": [
    "## Vanilla linear regression\n",
    "\n",
    "Let us test a first linear regression model with default parameters and all the features.\n",
    "\n",
    "- Train a simple linear regression and assign the resulting model to the variable **model**.\n",
    "- Use the model to make predictions on the train set samples. Assign the resulting serie to **pred_train**.\n",
    "- Use the model to make predictions on the validation set samples. Assign the resulting serie to **pred_val**."
   ]
  },
  {
   "cell_type": "code",
   "execution_count": null,
   "metadata": {},
   "outputs": [],
   "source": [
    "from sklearn.linear_model import LinearRegression\n",
    "\n",
    "reg = <FILL IN>\n",
    "model = <FILL IN>\n",
    "pred_train = <FILL IN>\n",
    "pred_val = <FILL IN>"
   ]
  },
  {
   "cell_type": "markdown",
   "metadata": {},
   "source": [
    "## Evaluate the results of the vanilla linear regression\n",
    "\n",
    "Classification metrics for this lab is the MSE (Mean Squared Error). Sklearn provides an implementation of this metrics [here](https://scikit-learn.org/stable/modules/generated/sklearn.metrics.mean_squared_error.html). According to you, are you in an underfitting or an overfitting situation?"
   ]
  },
  {
   "cell_type": "code",
   "execution_count": null,
   "metadata": {},
   "outputs": [],
   "source": [
    "from sklearn.metrics import mean_squared_error\n",
    "from math import sqrt\n",
    "\n",
    "rmse_train = <FILL IN>\n",
    "rmse_val = <FILL IN>\n",
    "\n",
    "print(\"RMSE score on train dataset : %s\" % rmse_train)\n",
    "print(\"RMSE score on validation dataset : %s\" % rmse_val)"
   ]
  },
  {
   "cell_type": "markdown",
   "metadata": {},
   "source": [
    "## Other things you can try\n",
    "\n",
    "Once again, there are a lot ot experiments you can try. If you lack in ideas, here are some you can try :\n",
    "\n",
    "- Test multiple machine learning algorithms we have seen during the lectures.\n",
    "- Test different combinations of hyperparameters. tune your model.\n",
    "- Test different sets of features. Use your own features.\n",
    "- Interpret your results with regards to the underfitting-overfitting tradeoff.\n",
    "- Look at residuals. Plot learning curves.\n",
    "- Search for the optimal set of hyperparameters. \n",
    "- Provide interpretations.\n",
    "- user eXplainable AI (XAI) techniques to understand and interpret your models.\n",
    "- Improve the validation prodedure.\n",
    "- ...\n",
    "\n",
    "It is good to test different machine learning algorithms and configurations. Some algorithms are more suited than others depending of use-case. Moreover, learning is really sensitive to hyperparameters you provide. Exploring your results by learning curves will help you diagnose your models. Time to apply what you have learned during lectures! "
   ]
  },
  {
   "cell_type": "markdown",
   "metadata": {},
   "source": [
    "# Step 4 - Final run\n",
    "\n",
    "According to previous steps results and your own interpretation, run your best machine learning algorithm and make  predictions on the test set. Then export your results in and make submission on Kaggle platform."
   ]
  },
  {
   "cell_type": "markdown",
   "metadata": {},
   "source": [
    "## Run your best model and make prediction on test set\n",
    "\n",
    "For this first experiment, use the vanilla linear regresson we have experimented in step 3. Make predictions on the test set and assign the results to variable **pred_test**."
   ]
  },
  {
   "cell_type": "code",
   "execution_count": null,
   "metadata": {},
   "outputs": [],
   "source": [
    "from sklearn.linear_model import LinearRegression\n",
    "from math import sqrt\n",
    "\n",
    "reg = <FILL IN>\n",
    "model = <FILL IN>\n",
    "pred_train = <FILL IN>\n",
    "pred_val = <FILL IN>\n",
    "pred_test = <FILL IN>"
   ]
  },
  {
   "cell_type": "code",
   "execution_count": null,
   "metadata": {},
   "outputs": [],
   "source": [
    "check_test(pred_test.shape, (230304, 1), \"wrong shape for pred test\")"
   ]
  },
  {
   "cell_type": "markdown",
   "metadata": {},
   "source": [
    "## Evaluate best model\n",
    "\n",
    "Our best machine learning algorithm yields the following results : "
   ]
  },
  {
   "cell_type": "code",
   "execution_count": null,
   "metadata": {},
   "outputs": [],
   "source": [
    "from sklearn.metrics import mean_squared_error\n",
    "\n",
    "rmse_train = <FILL IN>\n",
    "rmse_val = <FILL IN>\n",
    "\n",
    "print(\"RMSE score on train dataset : %s\" % rmse_train)\n",
    "print(\"RMSE score on validation dataset : %s\" % rmse_val)"
   ]
  },
  {
   "cell_type": "markdown",
   "metadata": {},
   "source": [
    "## Interpretation"
   ]
  },
  {
   "cell_type": "markdown",
   "metadata": {},
   "source": [
    "-> Your interpretation may go here."
   ]
  },
  {
   "cell_type": "markdown",
   "metadata": {},
   "source": [
    "## Export submission to ENS data challenge\n",
    "\n",
    "You can export your predictions as a submission file using function export_ens() defined earlier in the notebook. Then go on ENS data challenge competition page and submit your predictions. Your can observe your performance on the leaderboard page."
   ]
  },
  {
   "cell_type": "code",
   "execution_count": null,
   "metadata": {},
   "outputs": [],
   "source": [
    "df_submit = export_ens(df_test, pred_test, True, \"../results/my_first_submission.csv\")"
   ]
  },
  {
   "cell_type": "markdown",
   "metadata": {},
   "source": [
    "## Conclusion"
   ]
  },
  {
   "cell_type": "markdown",
   "metadata": {},
   "source": [
    "You can write your work conclusion in this cell.."
   ]
  },
  {
   "cell_type": "markdown",
   "metadata": {},
   "source": [
    "## Other things you can try\n",
    "\n",
    "If you lack in ideas, here are some you can try :\n",
    "\n",
    "- Evaluate final model on train, validation and test set. Diagnose your model results.\n",
    "- Take a look on features importances.\n",
    "- Provide a conclusion;\n",
    "- ...\n",
    "\n",
    "Feel free to provide your own interpretations and justifications. Here is your notebook and work !"
   ]
  },
  {
   "cell_type": "code",
   "execution_count": null,
   "metadata": {},
   "outputs": [],
   "source": []
  }
 ],
 "metadata": {
  "anaconda-cloud": {},
  "kernelspec": {
   "display_name": "Python 3",
   "language": "python",
   "name": "python3"
  },
  "language_info": {
   "codemirror_mode": {
    "name": "ipython",
    "version": 3
   },
   "file_extension": ".py",
   "mimetype": "text/x-python",
   "name": "python",
   "nbconvert_exporter": "python",
   "pygments_lexer": "ipython3",
   "version": "3.7.6"
  }
 },
 "nbformat": 4,
 "nbformat_minor": 1
}
