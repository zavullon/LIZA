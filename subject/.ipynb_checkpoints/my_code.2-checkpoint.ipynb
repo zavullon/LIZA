{
 "cells": [
  {
   "cell_type": "markdown",
   "metadata": {},
   "source": [
    "<img src=\"../utils/title.png\" alt=\"title\", width=\"600\">"
   ]
  },
  {
   "cell_type": "markdown",
   "metadata": {},
   "source": [
    "<img src=\"../utils/master_203_pic.jpg\" alt=\"Master 203\", width=400>"
   ]
  },
  {
   "cell_type": "markdown",
   "metadata": {},
   "source": [
    "## LAB 2 rules"
   ]
  },
  {
   "cell_type": "markdown",
   "metadata": {},
   "source": [
    "Assignment has to be done individually. Grades are between 0-20. The assignment counts for 50% of the final grade. You will be asked to build a whole machine learning pipeline and submit your predictions through Kaggle competition interface. You will also have to submit your final notebook and relevant documents with regards to below planning.\n",
    "\n",
    "**Competition start date** : 19 March 2018, 10:15<br/>\n",
    "**Submissions dead line** : 12 April 2018, 23:59<br/>\n",
    "**Work and notebook submission** : 19 April 2018, 23:59\n",
    "\n",
    "Final work submissions are made by email at <u>**vienne.thibaud@gmail.com**</u>. Zip your whole project with underlying folders, notebook and possible report. Email subject should start with [203_lab2]."
   ]
  },
  {
   "cell_type": "markdown",
   "metadata": {},
   "source": [
    "## Grades"
   ]
  },
  {
   "cell_type": "markdown",
   "metadata": {},
   "source": [
    "Your work will be marked out of 20 according to 2 criteria :<br/>\n",
    "- **Criteria 1 : Predictive model performance and ranking on Kaggle leaderboard ( / 8 points).**<br/>\n",
    "- **Criteria 2 : Relevance of reported notebook ( / 12 points).**<br/>\n",
    "\n",
    "First criteria grade will be a mixture between your predictive model performance on Kaggle competition interface and your competition ranking. Criteria 2 refers to submitted work relevance. At least you should provide commented notebook but feel free to provide a small report. More precisely, second criteria grades will be assigned with regards to following points : \n",
    "\n",
    "**Data exploration ( / 4 pts)** : \n",
    "> - Richness of exploration, analysis and charts provided.<br/>\n",
    "> - Relevance of interpretations and justifications provided.<br/>\n",
    "> - Personal initiatives.<br/>\n",
    "> - Your conclusions for following steps.\n",
    "\n",
    "**Machine learning pipeline  ( / 6 pts)** : \n",
    "> - Relevance of implemented features, justifications and interpretations in data cleaning and features engineering.<br/>\n",
    "> - Relevance of implemented features, justifications and interpretations in machine learning algorithms.<br/>\n",
    "> - Relevance of justifications and interpretations in models evaluation procedure, results and models diagnostic.<br/>\n",
    "> - Personal initiatives.<br/>\n",
    "> - Your step 4 conclusions.<br/>\n",
    "\n",
    "**Notebook quality ( / 2 pts)** : \n",
    "> - Code clearness (structure of code, comments, written functions…)\n",
    "> - Notebook clearness (structure of notebook, markdown...)."
   ]
  },
  {
   "cell_type": "markdown",
   "metadata": {},
   "source": [
    "## Notebook description"
   ]
  },
  {
   "cell_type": "markdown",
   "metadata": {},
   "source": [
    "This notebook will be used during the first 3 inclass hours of the competition. Using it, we will try to create a first supervised machine learning model to predict emerging countries corporates default risk. Moreover, this notebook also aims to provide a machine pipeline path you can use to structure your work and so success this lab. It is composed of the common machine learning project steps :\n",
    "\n",
    "**Step 0 - Prerequisites** : this is where you will code all your prerequisites including python modules to import and your own functions. It also covers competition purpose and data description.<br/><br/>\n",
    "**Step 1 - Exploration** : It is a common part in a machine learning pipeline. In this section, you will import datasets, discover available features, provide data mining observations, investigate missing values and possible outliers. An exhaustive exploration is more likely to yield powerful predictive models.<br/><br/>\n",
    "**Step 2 - Features Engineering** : According to conclusions you get from exploration, you will process provided data (cleaning, create new features, features selection, dimensionality reduction...).<br/><br/>\n",
    "**Step 3 - Machine learning experiments** : In this part, you will test different machine learning algorithms and configurations. It is your sandbox before running final machine learning model. You will also have to evaluate your results and interpret it.<br/><br/>\n",
    "**Step 4 - Final run** : According to previous steps results and your own interpretation, run your best machine learning algorithm and make probabilities predictions for test set. Then export your results and make submission on Kaggle platform. Conclude.<br/><br/>"
   ]
  },
  {
   "cell_type": "markdown",
   "metadata": {},
   "source": [
    "## How to success this lab?"
   ]
  },
  {
   "cell_type": "markdown",
   "metadata": {},
   "source": [
    "- Be organized. Work on a regular basis. Lab 2 needs time to yield good results.\n",
    "- Take time to explore data. It will help you to understand features and reach better scores.\n",
    "- Ask yourself questions. Be critical with results you get.\n",
    "- Diversify efforts on all parts of machine learning pipeline (exploration, cleaning, features engineering/selection, machine learning...).\n",
    "- Keep trusting in yourself! you have all needed knowledge to success this assignement!"
   ]
  },
  {
   "cell_type": "markdown",
   "metadata": {},
   "source": [
    "# Step 0 - Prerequisites "
   ]
  },
  {
   "cell_type": "markdown",
   "metadata": {},
   "source": [
    "## Aim of the competition"
   ]
  },
  {
   "cell_type": "markdown",
   "metadata": {},
   "source": [
    "For the last century, corporate default risk prediction has been a main concern to financial market analysts. Nowadays, it stills ranks high among topics in economics. Using machine learning and data-driven approaches, it is now possible to build more robust models to predict financial distress. The aim of this competition is to develop a bankruptcy predictive model based on corporate econometric and financial measures."
   ]
  },
  {
   "cell_type": "markdown",
   "metadata": {},
   "source": [
    "## About data"
   ]
  },
  {
   "cell_type": "markdown",
   "metadata": {},
   "source": [
    "Data consists of 10503 eastern Europe bankrupted and still operating corporates from manufacturing sector. Train dataset is composed of 65% of original data while test dataset contains the remaining 35%. Both datasets contain the same columns (except column label you have to predict for test dataset). As a competitor, you have to train your best machine learning algorithm to model underlying relationship between year N economics and financial measures and corporate financial state at year N+3. Here are the following features.\n",
    "\n",
    "For each corporate are provided 62 econometrics and financial standardized rates.\n",
    "\n",
    "- **id**  -  corporate id</li>\n",
    "- **f1**  -  net profit / total assets</li>\n",
    "- **f2** -  total liabilities / total assets</li>\n",
    "- **f3** -  working capital / total assets</li>\n",
    "- **f4**  -  current assets / short-term liabilities = Current Ratio </li>\n",
    "- **f5** -  [(cash + short-term securities + receivables - short-term liabilities) / (operating expenses - depreciation)] * 365</li>\n",
    "- **f6 **  -  retained earnings / total assets</li>\n",
    "- **f7 **  -  EBIT / total assets </li>\n",
    "- **f8 **  -  book value of equity / total liabilities = Total Asset Turnover </li>\n",
    "- **f9 ** -  sales / total assets </li>\n",
    "- **f10**  -  equity / total assets </li>\n",
    "- **f11**  -  (gross profit + extraordinary items + financial expenses) / total assets </li>\n",
    "- **f12**  -  gross profit / short-term liabilities </li>\n",
    "- **f13**  -  (gross profit + depreciation) / sales </li>\n",
    "- **f14**  -  (gross profit + interest) / total assets </li>\n",
    "- **f15**  -  (total liabilities * 365) / (gross profit + depreciation)</li>\n",
    "- **f16**  -  (gross profit + depreciation) / total liabilities </li>\n",
    "- **f17**  -  total assets / total liabilities </li>\n",
    "- **f18**  -  gross profit / total assets </li>\n",
    "- **f19**  -  gross profit / sales </li>\n",
    "- **f20**  -  (inventory * 365) / sales </li>\n",
    "- **f22**  -  profit on operating activities / total assets </li>\n",
    "- **f23**  -  net profit / sales </li>\n",
    "- **f24**  -  gross profit (in 3 years) / total assets </li>\n",
    "- **f25**  -  (equity - share capital) / total assets </li>\n",
    "- **f26**  -  (net profit + depreciation) / total liabilities</li> \n",
    "- **f28**  -  working capital / fixed assets </li>\n",
    "- **f29**  -  logarithm of total assets (in euros)</li>\n",
    "- **f30**  -  (total liabilities - cash) / sales </li>\n",
    "- **f31**  -  (gross profit + interest) / sales</li>\n",
    "- **f32**  -  (current liabilities * 365) / cost of products sold </li>\n",
    "- **f33**  -  operating expenses / short-term liabilities </li>\n",
    "- **f34**  -  operating expenses / total liabilities </li>\n",
    "- **f35**  -  profit on sales / total assets </li>\n",
    "- **f36**  -  total sales / total assets </li>\n",
    "- **f37**  -  (current assets - inventories) / long-term liabilities </li>\n",
    "- **f38**  -  constant capital / total assets </li>\n",
    "- **f39**  -  profit on sales / sales </li>\n",
    "- **f40**  -  (current assets - inventory - receivables) / short-term liabilities  </li>\n",
    "- **f41**  -  total liabilities / ((profit on operating activities + depreciation) * (12/365)) = Leverage Factor </li>\n",
    "- **f42**  -  profit on operating activities / sales </li>\n",
    "- **f43**  -  rotation receivables + inventory turnover in days </li>\n",
    "- **f44**  -  (receivables * 365) / sales </li>\n",
    "- **f45**  -  net profit / inventory </li>\n",
    "- **f46**  -  (current assets - inventory) / short-term liabilities = Quick Ratio </li>\n",
    "- **f47**  -  (inventory * 365) / cost of products sold </li>\n",
    "- **f48**  -  EBITDA (profit on operating activities - depreciation) / total assets </li>\n",
    "- **f49**  -  EBITDA (profit on operating activities - depreciation) / sales </li>\n",
    "- **f50**  -  current assets / total liabilities </li>\n",
    "- **f51**  -  short-term liabilities / total assets </li>\n",
    "- **f52**  -  (short-term liabilities * 365) / cost of products sold) </li>\n",
    "- **f53**  -  equity / fixed assets </li>\n",
    "- **f54**  -  constant capital / fixed assets </li>\n",
    "- **f55**  -  working capital (in euros) </li>\n",
    "- **f56**  -  (sales - cost of products sold) / sales </li>\n",
    "- **f57**  -  (current assets - inventory - short-term liabilities) / (sales - gross profit - depreciation) </li>\n",
    "- **f58**  -  total costs /total sales </li>\n",
    "- **f59**  -  long-term liabilities / equity </li>\n",
    "- **f60**  -  sales / inventory </li>\n",
    "- **f61**  -  sales / receivables </li>\n",
    "- **f62**  -  (short-term liabilities *365) / sales </li>\n",
    "- **f63**  -  sales / short-term liabilities </li>\n",
    "- **f64**  -  sales / fixed assets </li>\n",
    "- **label**  - corporate financial state in 3 year (variable to predict) : 0 = no bankruptcy / 1 = bankruptcy </li>"
   ]
  },
  {
   "cell_type": "markdown",
   "metadata": {},
   "source": [
    "## Classification metrics and submission format"
   ]
  },
  {
   "cell_type": "markdown",
   "metadata": {},
   "source": [
    "Because of imbalanced output classes, predictions will be scored using AUC evaluation metrics (Area Under Curve). AUC is a common measure in classification problem we have covered during lecture 2. It gives the opportunity to evaluate the overall performance of a predictive model independently from skewed classes and decision boundary thresholds. It can be found in sklearn [documentation](http://scikit-learn.org/stable/modules/generated/sklearn.metrics.roc_auc_score.html).\n",
    "\n",
    "<img src=\"../utils/auc.png\" alt=\"title\", width=\"400\">"
   ]
  },
  {
   "cell_type": "markdown",
   "metadata": {},
   "source": [
    "## Load modules\n",
    "\n",
    "In this cell, you can put all modules you use. Use it to provide a clear code."
   ]
  },
  {
   "cell_type": "code",
   "execution_count": 1,
   "metadata": {
    "collapsed": true
   },
   "outputs": [],
   "source": [
    "import sys\n",
    "import seaborn as sns\n",
    "import numpy as np\n",
    "import pandas as pd\n",
    "import matplotlib.pyplot as plt\n",
    "import sklearn"
   ]
  },
  {
   "cell_type": "code",
   "execution_count": 2,
   "metadata": {
    "collapsed": false
   },
   "outputs": [
    {
     "name": "stdout",
     "output_type": "stream",
     "text": [
      "python and anaconda version = 3.5.2 |Anaconda 4.2.0 (x86_64)| (default, Jul  2 2016, 17:52:12) \n",
      "[GCC 4.2.1 Compatible Apple LLVM 4.2 (clang-425.0.28)]\n",
      "numpy version = 1.13.0\n",
      "pandas version = 0.18.1\n",
      "scikit-learn version = 0.19.1\n"
     ]
    }
   ],
   "source": [
    "print(\"python and anaconda version = %s\" % sys.version)\n",
    "print(\"numpy version = %s\" % np.__version__)\n",
    "print(\"pandas version = %s\" % pd.__version__)\n",
    "print(\"scikit-learn version = %s\" % sklearn.__version__)"
   ]
  },
  {
   "cell_type": "markdown",
   "metadata": {},
   "source": [
    "## Modules versions\n",
    "\n",
    "Please, insert your python and data science modules versions below :\n",
    "- Anaconda version : **XXX**\n",
    "- python : **XXX**\n",
    "- numpy :  **XXX**\n",
    "- pandas : **XXX**\n",
    "- scikit-learn : **XXX**"
   ]
  },
  {
   "cell_type": "code",
   "execution_count": 33,
   "metadata": {
    "collapsed": false
   },
   "outputs": [
    {
     "name": "stdout",
     "output_type": "stream",
     "text": [
      "python and anaconda version = 2.7.14 |Anaconda, Inc.| (default, Oct 15 2017, 03:34:40) [MSC v.1500 64 bit (AMD64)]\n",
      "numpy version = 1.13.3\n",
      "pandas version = 0.20.3\n",
      "scikit-learn version = 0.19.1\n"
     ]
    }
   ],
   "source": [
    "print(\"python and anaconda version = %s\" % sys.version)\n",
    "print(\"numpy version = %s\" % np.__version__)\n",
    "print(\"pandas version = %s\" % pd.__version__)\n",
    "print(\"scikit-learn version = %s\" % sklearn.__version__)"
   ]
  },
  {
   "cell_type": "markdown",
   "metadata": {},
   "source": [
    "## Your functions\n",
    "\n",
    "In order to have a clear code, you can put all your own functions in this cell. Provided function *export_kaggle()* will help you to export your predictions with expected format."
   ]
  },
  {
   "cell_type": "code",
   "execution_count": 3,
   "metadata": {
    "collapsed": true
   },
   "outputs": [],
   "source": [
    "def export_kaggle(df_test, proba_test, save=True, path_save=\"my_submission_vanilla_model.csv\"):\n",
    "    \"\"\"\n",
    "    Export submissions with good kaggle format.\n",
    "    df_test : (pandas dataframe) test set\n",
    "    proba_test : (numpy ndarray) probabilities as numpy ndarray you get using method .predict_proba()[:,1]\n",
    "    save : (bool) if set to True, it will save csv submission in path_save path.\n",
    "    path_save : (str) path where to save submission.\n",
    "    return : dataframe for submission\n",
    "    \"\"\"\n",
    "    proba_serie = pd.Series(proba_test, index=df_test.index)\n",
    "    df_submit = pd.concat([df_test[\"id\"], proba_serie], axis=1)\n",
    "    df_submit.columns = [\"id\", \"decision\"]\n",
    "    df_submit.to_csv(path_save, index=False)\n",
    "    return df_submit\n",
    "\n",
    "def check_test(result, expected, display_error):\n",
    "    \"\"\"\n",
    "    Testing your results.\n",
    "    \"\"\"\n",
    "    if result == expected:\n",
    "        print(\"1 test passed.\")\n",
    "    else:\n",
    "        print(display_error)"
   ]
  },
  {
   "cell_type": "markdown",
   "metadata": {},
   "source": [
    "# Step 1 - Data Exploration\n",
    "\n",
    "Data exploration is a common part in a machine learning pipeline. In this section, you will import datasets, discover  features, provide data mining observations, investigate missing values and possible outliers. An exhaustive exploration is more likely to yield prowerful predictive models. Remember than 80% of time spend in a machine learning project is about data exploration and features engineering.\n",
    "\n",
    "- Read train dataset and assign to variable **df_train**.\n",
    "- Read test dataset and assign to variable **df_test**.\n",
    "- Assign number of rows in train dataset and assign it to variable **n_rows_train**.\n",
    "- Assign number of rows in test dataset and assign it to variable **n_rows_test**."
   ]
  },
  {
   "cell_type": "markdown",
   "metadata": {},
   "source": [
    "## Load datasets"
   ]
  },
  {
   "cell_type": "code",
   "execution_count": 6,
   "metadata": {
    "collapsed": false
   },
   "outputs": [],
   "source": [
    "df_train = pd.read_csv(\"../data/train.csv\")\n",
    "df_test = pd.read_csv(\"../data/test.csv\")\n",
    "n_rows_train = df_train.shape[0]\n",
    "n_rows_test = df_test.shape[0]"
   ]
  },
  {
   "cell_type": "code",
   "execution_count": 7,
   "metadata": {
    "collapsed": false
   },
   "outputs": [
    {
     "name": "stdout",
     "output_type": "stream",
     "text": [
      "1 test passed.\n",
      "1 test passed.\n"
     ]
    }
   ],
   "source": [
    "check_test(n_rows_train, 7037, \"wrong number of rows\")\n",
    "check_test(n_rows_test, 3466, \"wrong number of rows\")"
   ]
  },
  {
   "cell_type": "markdown",
   "metadata": {},
   "source": [
    "## Take a look on first rows\n",
    "\n",
    "Take a look on train dataset first 5 rows using method .head()."
   ]
  },
  {
   "cell_type": "code",
   "execution_count": 8,
   "metadata": {
    "collapsed": false
   },
   "outputs": [
    {
     "data": {
      "text/html": [
       "<div>\n",
       "<table border=\"1\" class=\"dataframe\">\n",
       "  <thead>\n",
       "    <tr style=\"text-align: right;\">\n",
       "      <th></th>\n",
       "      <th>id</th>\n",
       "      <th>f1</th>\n",
       "      <th>f2</th>\n",
       "      <th>f3</th>\n",
       "      <th>f4</th>\n",
       "      <th>f5</th>\n",
       "      <th>f6</th>\n",
       "      <th>f7</th>\n",
       "      <th>f8</th>\n",
       "      <th>f9</th>\n",
       "      <th>...</th>\n",
       "      <th>f56</th>\n",
       "      <th>f57</th>\n",
       "      <th>f58</th>\n",
       "      <th>f59</th>\n",
       "      <th>f60</th>\n",
       "      <th>f61</th>\n",
       "      <th>f62</th>\n",
       "      <th>f63</th>\n",
       "      <th>f64</th>\n",
       "      <th>label</th>\n",
       "    </tr>\n",
       "  </thead>\n",
       "  <tbody>\n",
       "    <tr>\n",
       "      <th>0</th>\n",
       "      <td>700</td>\n",
       "      <td>0.003603</td>\n",
       "      <td>0.824060</td>\n",
       "      <td>-0.049051</td>\n",
       "      <td>0.89208</td>\n",
       "      <td>-111.350</td>\n",
       "      <td>0.00000</td>\n",
       "      <td>0.008453</td>\n",
       "      <td>0.21344</td>\n",
       "      <td>0.87744</td>\n",
       "      <td>...</td>\n",
       "      <td>0.030310</td>\n",
       "      <td>0.020487</td>\n",
       "      <td>0.94317</td>\n",
       "      <td>1.47710</td>\n",
       "      <td>4.6339</td>\n",
       "      <td>6.9992</td>\n",
       "      <td>189.060</td>\n",
       "      <td>1.9306</td>\n",
       "      <td>1.4759</td>\n",
       "      <td>1</td>\n",
       "    </tr>\n",
       "    <tr>\n",
       "      <th>1</th>\n",
       "      <td>4811</td>\n",
       "      <td>0.131870</td>\n",
       "      <td>0.682830</td>\n",
       "      <td>0.235280</td>\n",
       "      <td>1.41050</td>\n",
       "      <td>-122.380</td>\n",
       "      <td>0.00000</td>\n",
       "      <td>0.131870</td>\n",
       "      <td>0.46450</td>\n",
       "      <td>1.73390</td>\n",
       "      <td>...</td>\n",
       "      <td>0.263240</td>\n",
       "      <td>0.415770</td>\n",
       "      <td>0.73676</td>\n",
       "      <td>0.34571</td>\n",
       "      <td>2.9030</td>\n",
       "      <td>12.4490</td>\n",
       "      <td>120.660</td>\n",
       "      <td>3.0251</td>\n",
       "      <td>9.0520</td>\n",
       "      <td>0</td>\n",
       "    </tr>\n",
       "    <tr>\n",
       "      <th>2</th>\n",
       "      <td>4529</td>\n",
       "      <td>0.289520</td>\n",
       "      <td>0.902560</td>\n",
       "      <td>0.087251</td>\n",
       "      <td>1.09670</td>\n",
       "      <td>10.167</td>\n",
       "      <td>-0.56967</td>\n",
       "      <td>0.289520</td>\n",
       "      <td>0.10796</td>\n",
       "      <td>3.28730</td>\n",
       "      <td>...</td>\n",
       "      <td>0.088068</td>\n",
       "      <td>2.971200</td>\n",
       "      <td>0.91193</td>\n",
       "      <td>0.00000</td>\n",
       "      <td>NaN</td>\n",
       "      <td>44.8260</td>\n",
       "      <td>100.210</td>\n",
       "      <td>3.6422</td>\n",
       "      <td>322.6400</td>\n",
       "      <td>0</td>\n",
       "    </tr>\n",
       "    <tr>\n",
       "      <th>3</th>\n",
       "      <td>8780</td>\n",
       "      <td>-0.145210</td>\n",
       "      <td>0.053488</td>\n",
       "      <td>0.688930</td>\n",
       "      <td>13.88000</td>\n",
       "      <td>107.670</td>\n",
       "      <td>0.66483</td>\n",
       "      <td>-0.145210</td>\n",
       "      <td>17.69600</td>\n",
       "      <td>1.66640</td>\n",
       "      <td>...</td>\n",
       "      <td>-0.109730</td>\n",
       "      <td>-0.153420</td>\n",
       "      <td>1.07670</td>\n",
       "      <td>0.00000</td>\n",
       "      <td>11.6370</td>\n",
       "      <td>11.6090</td>\n",
       "      <td>11.716</td>\n",
       "      <td>31.1540</td>\n",
       "      <td>6.4692</td>\n",
       "      <td>0</td>\n",
       "    </tr>\n",
       "    <tr>\n",
       "      <th>4</th>\n",
       "      <td>1012</td>\n",
       "      <td>0.033186</td>\n",
       "      <td>0.420470</td>\n",
       "      <td>0.543820</td>\n",
       "      <td>2.29330</td>\n",
       "      <td>38.452</td>\n",
       "      <td>0.00000</td>\n",
       "      <td>0.062227</td>\n",
       "      <td>1.37830</td>\n",
       "      <td>5.04240</td>\n",
       "      <td>...</td>\n",
       "      <td>0.021615</td>\n",
       "      <td>0.057263</td>\n",
       "      <td>0.98766</td>\n",
       "      <td>0.00000</td>\n",
       "      <td>NaN</td>\n",
       "      <td>9.8313</td>\n",
       "      <td>30.436</td>\n",
       "      <td>11.9920</td>\n",
       "      <td>141.2000</td>\n",
       "      <td>0</td>\n",
       "    </tr>\n",
       "  </tbody>\n",
       "</table>\n",
       "<p>5 rows × 64 columns</p>\n",
       "</div>"
      ],
      "text/plain": [
       "     id        f1        f2        f3        f4       f5       f6        f7  \\\n",
       "0   700  0.003603  0.824060 -0.049051   0.89208 -111.350  0.00000  0.008453   \n",
       "1  4811  0.131870  0.682830  0.235280   1.41050 -122.380  0.00000  0.131870   \n",
       "2  4529  0.289520  0.902560  0.087251   1.09670   10.167 -0.56967  0.289520   \n",
       "3  8780 -0.145210  0.053488  0.688930  13.88000  107.670  0.66483 -0.145210   \n",
       "4  1012  0.033186  0.420470  0.543820   2.29330   38.452  0.00000  0.062227   \n",
       "\n",
       "         f8       f9  ...         f56       f57      f58      f59      f60  \\\n",
       "0   0.21344  0.87744  ...    0.030310  0.020487  0.94317  1.47710   4.6339   \n",
       "1   0.46450  1.73390  ...    0.263240  0.415770  0.73676  0.34571   2.9030   \n",
       "2   0.10796  3.28730  ...    0.088068  2.971200  0.91193  0.00000      NaN   \n",
       "3  17.69600  1.66640  ...   -0.109730 -0.153420  1.07670  0.00000  11.6370   \n",
       "4   1.37830  5.04240  ...    0.021615  0.057263  0.98766  0.00000      NaN   \n",
       "\n",
       "       f61      f62      f63       f64  label  \n",
       "0   6.9992  189.060   1.9306    1.4759      1  \n",
       "1  12.4490  120.660   3.0251    9.0520      0  \n",
       "2  44.8260  100.210   3.6422  322.6400      0  \n",
       "3  11.6090   11.716  31.1540    6.4692      0  \n",
       "4   9.8313   30.436  11.9920  141.2000      0  \n",
       "\n",
       "[5 rows x 64 columns]"
      ]
     },
     "execution_count": 8,
     "metadata": {},
     "output_type": "execute_result"
    }
   ],
   "source": [
    "df_train.head(5)"
   ]
  },
  {
   "cell_type": "markdown",
   "metadata": {},
   "source": [
    "## Label column repartition in train dataset\n",
    "\n",
    "Let's take a look on column label repartition in train dataset. Intuitively, we can think there are more still operating corporate than bankrupted companies. With following lines of code, we observe that the ratio of bankrupted companies is equal to **XXX**%.\n",
    "\n",
    "- Assign number of N+3 years still operating corporates to variable **n_train_ok**.\n",
    "- Assign number of N+3 years bankrupted corporates to variable **n_train_bankrupted**.\n",
    "- Compute ratio of bankrupted companies and assign result to variable **ratio_bankrupt**."
   ]
  },
  {
   "cell_type": "code",
   "execution_count": 9,
   "metadata": {
    "collapsed": false
   },
   "outputs": [
    {
     "name": "stdout",
     "output_type": "stream",
     "text": [
      "number of bankrupted corporate in three years : 340\n",
      "number of still operating corporate in three years : 6697\n",
      "bankrupted corporates ratio : 0.048316043768651416\n"
     ]
    }
   ],
   "source": [
    "n_train_bankrupted = df_train[df_train[\"label\"]==1].shape[0]\n",
    "n_train_ok = df_train[df_train[\"label\"]==0].shape[0]\n",
    "ratio_bankrupt = np.float(n_train_bankrupted)/(n_train_bankrupted+n_train_ok)\n",
    "print(\"number of bankrupted corporate in three years : %s\" % n_train_bankrupted)\n",
    "print(\"number of still operating corporate in three years : %s\" % n_train_ok)\n",
    "print(\"bankrupted corporates ratio : %s\" % ratio_bankrupt)"
   ]
  },
  {
   "cell_type": "code",
   "execution_count": 10,
   "metadata": {
    "collapsed": false
   },
   "outputs": [
    {
     "name": "stdout",
     "output_type": "stream",
     "text": [
      "1 test passed.\n",
      "1 test passed.\n",
      "1 test passed.\n"
     ]
    }
   ],
   "source": [
    "check_test(n_train_bankrupted, 340, \"wrong number\")\n",
    "check_test(n_train_ok, 6697, \"wrong number\")\n",
    "check_test(round(ratio_bankrupt, 3), 0.048, \"wrong ratio\")"
   ]
  },
  {
   "cell_type": "markdown",
   "metadata": {},
   "source": [
    "## Total liabilities / total assets (f2) comparison\n",
    "\n",
    "(Here is an example of data exploration + interpretation you can perform to understand your features).\n",
    "\n",
    "As we can observe with the following chart, the ratio of liabilities / assets is different between classes 0 and 1. We could use it a discriminative feature for our precitive model.\n",
    "- For class 1 (bankruptcy in next 3 years), this ratio is larger than with class 0 (still operating companies). It seems logicial.\n",
    "- We can also observe that there are a lot of large values (greater than 4) for this variable even if companies come from the same activity sector."
   ]
  },
  {
   "cell_type": "code",
   "execution_count": 11,
   "metadata": {
    "collapsed": false
   },
   "outputs": [
    {
     "data": {
      "image/png": "[encoded data removed]",
      "text/plain": [
       "<matplotlib.figure.Figure at 0x120bee390>"
      ]
     },
     "metadata": {},
     "output_type": "display_data"
    }
   ],
   "source": [
    "ax = sns.boxplot(x=\"label\", y=\"f2\", data=df_train[df_train[\"f2\"]<9])\n",
    "plt.title(\"f2 boxplot per category\")\n",
    "plt.show()"
   ]
  },
  {
   "cell_type": "code",
   "execution_count": 12,
   "metadata": {
    "collapsed": false
   },
   "outputs": [
    {
     "data": {
      "image/png": "[encoded data removed]",
      "text/plain": [
       "<matplotlib.figure.Figure at 0x1210edcc0>"
      ]
     },
     "metadata": {},
     "output_type": "display_data"
    }
   ],
   "source": [
    "ax = sns.boxplot(x=\"label\", y=\"f29\", data=df_train[df_train[\"f29\"]<8])\n",
    "plt.title(\"f29 boxplot per category\")\n",
    "plt.show()"
   ]
  },
  {
   "cell_type": "code",
   "execution_count": 13,
   "metadata": {
    "collapsed": false
   },
   "outputs": [
    {
     "data": {
      "image/png": "[encoded data removed]",
      "text/plain": [
       "<matplotlib.figure.Figure at 0x121115c88>"
      ]
     },
     "metadata": {},
     "output_type": "display_data"
    }
   ],
   "source": [
    "ax = sns.boxplot(x=\"label\", y=\"f4\", data=df_train[df_train[\"f4\"]<150])\n",
    "plt.title(\"f4 boxplot per category\")\n",
    "plt.show()"
   ]
  },
  {
   "cell_type": "code",
   "execution_count": 14,
   "metadata": {
    "collapsed": false
   },
   "outputs": [
    {
     "data": {
      "image/png": "[encoded data removed]",
      "text/plain": [
       "<matplotlib.figure.Figure at 0x12152a4e0>"
      ]
     },
     "metadata": {},
     "output_type": "display_data"
    }
   ],
   "source": [
    "ax = sns.boxplot(x=\"label\", y=\"f1\", data=df_train[(df_train[\"f1\"]<5) & (df_train[\"f1\"]>-7)])\n",
    "plt.title(\"f1 boxplot per category\")\n",
    "plt.show()"
   ]
  },
  {
   "cell_type": "code",
   "execution_count": 15,
   "metadata": {
    "collapsed": false
   },
   "outputs": [
    {
     "data": {
      "image/png": "[encoded data removed]",
      "text/plain": [
       "<matplotlib.figure.Figure at 0x12295a2e8>"
      ]
     },
     "metadata": {},
     "output_type": "display_data"
    }
   ],
   "source": [
    "ax = sns.boxplot(x=\"label\", y=\"f8\", data=df_train[df_train[\"f8\"]<800])\n",
    "plt.title(\"f8 boxplot per category\")\n",
    "plt.show()"
   ]
  },
  {
   "cell_type": "code",
   "execution_count": 16,
   "metadata": {
    "collapsed": false
   },
   "outputs": [
    {
     "data": {
      "image/png": "[encoded data removed]",
      "text/plain": [
       "<matplotlib.figure.Figure at 0x122aa52e8>"
      ]
     },
     "metadata": {},
     "output_type": "display_data"
    }
   ],
   "source": [
    "ax = sns.boxplot(x=\"label\", y=\"f46\", data=df_train[df_train[\"f46\"]<1000])\n",
    "plt.title(\"f46 boxplot per category\")\n",
    "plt.show()"
   ]
  },
  {
   "cell_type": "code",
   "execution_count": 17,
   "metadata": {
    "collapsed": false
   },
   "outputs": [
    {
     "data": {
      "image/png": "[encoded data removed]",
      "text/plain": [
       "<matplotlib.figure.Figure at 0x12294d978>"
      ]
     },
     "metadata": {},
     "output_type": "display_data"
    }
   ],
   "source": [
    "ax = sns.boxplot(x=\"label\", y=\"f10\", data=df_train[(df_train[\"f10\"]<10) & (df_train[\"f10\"]>-10)])\n",
    "plt.title(\"f10 boxplot per category\")\n",
    "plt.show()"
   ]
  },
  {
   "cell_type": "code",
   "execution_count": 18,
   "metadata": {
    "collapsed": false
   },
   "outputs": [
    {
     "data": {
      "image/png": "[encoded data removed]",
      "text/plain": [
       "<matplotlib.figure.Figure at 0x122c05e80>"
      ]
     },
     "metadata": {},
     "output_type": "display_data"
    }
   ],
   "source": [
    "ax = sns.boxplot(x=\"label\", y=\"f41\", data=df_train[(df_train[\"f41\"]<200) & (df_train[\"f41\"]>-5)])\n",
    "plt.title(\"f41 boxplot per category\")\n",
    "plt.show()"
   ]
  },
  {
   "cell_type": "code",
   "execution_count": 19,
   "metadata": {
    "collapsed": false
   },
   "outputs": [
    {
     "data": {
      "image/png": "[encoded data removed]",
      "text/plain": [
       "<matplotlib.figure.Figure at 0x122c1e160>"
      ]
     },
     "metadata": {},
     "output_type": "display_data"
    }
   ],
   "source": [
    "ax = sns.boxplot(x=\"label\", y=\"f9\", data=df_train[df_train[\"f9\"]<100])\n",
    "plt.title(\"f9 boxplot per category\")\n",
    "plt.show()"
   ]
  },
  {
   "cell_type": "code",
   "execution_count": 20,
   "metadata": {
    "collapsed": false
   },
   "outputs": [
    {
     "data": {
      "image/png": "[encoded data removed]",
      "text/plain": [
       "<matplotlib.figure.Figure at 0x1231116a0>"
      ]
     },
     "metadata": {},
     "output_type": "display_data"
    }
   ],
   "source": [
    "ax = sns.boxplot(x=\"label\", y=\"f60\", data=df_train[df_train[\"f60\"]<10000])\n",
    "plt.title(\"f60 boxplot per category\")\n",
    "plt.show()"
   ]
  },
  {
   "cell_type": "code",
   "execution_count": 21,
   "metadata": {
    "collapsed": false
   },
   "outputs": [
    {
     "data": {
      "image/png": "[encoded data removed]",
      "text/plain": [
       "<matplotlib.figure.Figure at 0x12325f320>"
      ]
     },
     "metadata": {},
     "output_type": "display_data"
    }
   ],
   "source": [
    "ax = sns.boxplot(x=\"label\", y=\"f61\", data=df_train[df_train[\"f61\"]<2500])\n",
    "plt.title(\"f61 boxplot per category\")\n",
    "plt.show()"
   ]
  },
  {
   "cell_type": "code",
   "execution_count": 22,
   "metadata": {
    "collapsed": false
   },
   "outputs": [
    {
     "data": {
      "text/plain": [
       "7037"
      ]
     },
     "execution_count": 22,
     "metadata": {},
     "output_type": "execute_result"
    }
   ],
   "source": [
    "\"\"\"\n",
    "print(len(df_train))\n",
    "df_train = df_train[df_train[\"f4\"]<150]\n",
    "df_train = df_train[(df_train[\"f1\"]<5) & (df_train[\"f1\"]>-7)]\n",
    "df_train = df_train[df_train[\"f2\"]<9]\n",
    "df_train = df_train[df_train[\"f8\"]<800]\n",
    "df_train = df_train[df_train[\"f29\"]<8]\n",
    "df_train = df_train[df_train[\"f46\"]<1000]\n",
    "df_train = df_train[(df_train[\"f10\"]<10) & (df_train[\"f10\"]>-10)]\n",
    "df_train = df_train[(df_train[\"f41\"]<200) & (df_train[\"f41\"]>-5)]\n",
    "df_train = df_train[df_train[\"f9\"]<100]\n",
    "df_train = df_train[df_train[\"f60\"]<10000]\n",
    "df_train = df_train[df_train[\"f61\"]<2500]\n",
    "\"\"\"\n",
    "#tentative of taking-out outliers but Random Forest handle them well so ...\n",
    "\n",
    "my_features = [\"f1\",\"f2\",\"f4\",\"f8\",\"f9\",\"f10\",\"f29\",\"f41\",\"f46\",\"f60\",\"f61\"]\n",
    "# choice of features according to financial knowlegdge\n",
    "\n",
    "len(df_train)"
   ]
  },
  {
   "cell_type": "markdown",
   "metadata": {},
   "source": [
    "## Logarithm of total assets histogram (f29)\n",
    "\n",
    "Here is your turn. Plot an histogram on variable **f29** (logarithm of total assets). Give an interpretation about corporates sizes.\n",
    "\n",
    "-> Your answer goes here..."
   ]
  },
  {
   "cell_type": "code",
   "execution_count": 23,
   "metadata": {
    "collapsed": false
   },
   "outputs": [
    {
     "data": {
      "image/png": "[encoded data removed]",
      "text/plain": [
       "<matplotlib.figure.Figure at 0x122e8d5c0>"
      ]
     },
     "metadata": {},
     "output_type": "display_data"
    }
   ],
   "source": [
    "plt.hist(df_train[\"f29\"])\n",
    "plt.title(\"histogram of log10 total assets (f29)\")\n",
    "plt.xlabel(\"log10 total assets\")\n",
    "plt.ylabel(\"count\")\n",
    "plt.show()"
   ]
  },
  {
   "cell_type": "markdown",
   "metadata": {},
   "source": [
    "## Missing values description\n",
    "\n",
    "Here is your turn again. For each feature in train and test datasets, count the number of missing values. For each column, append respectively result to lists **train_nan_count** and **test_nan_count**.\n",
    "\n",
    "-> ...Write your conclusion here..."
   ]
  },
  {
   "cell_type": "code",
   "execution_count": 24,
   "metadata": {
    "collapsed": true
   },
   "outputs": [],
   "source": [
    "features_cols = [col for col in df_test.columns if \"f\" in col]\n",
    "train_nan_count = []\n",
    "test_nan_count = []\n",
    "for col in features_cols: \n",
    "    n_nan_in_train_col = df_train[col].isnull().sum()\n",
    "    n_nan_in_test_col = df_test[col].isnull().sum()\n",
    "    train_nan_count.append(n_nan_in_train_col)\n",
    "    test_nan_count.append(n_nan_in_test_col)"
   ]
  },
  {
   "cell_type": "code",
   "execution_count": 25,
   "metadata": {
    "collapsed": false,
    "scrolled": true
   },
   "outputs": [
    {
     "name": "stdout",
     "output_type": "stream",
     "text": [
      "1 test passed.\n",
      "1 test passed.\n"
     ]
    }
   ],
   "source": [
    "check_test(train_nan_count, [0, 0, 0, 16, 9, 0, 0, 13, 2, 0, 0, 16, 29, 0, 7, 13, 13, 0, 29, 29, 0, 29, 151, 0, 13, 158, 0, 29, 29, 60, 16, 13, 0, 0, 3202, 0, 29, 16, 129, 29, 29, 29, 406, 16, 52, 0, 29, 13, 0, 52, 158, 158, 0, 29, 0, 20, 0, 406, 13, 29, 16, 158], \"incorrect nan count list\")\n",
    "check_test(test_nan_count, [0, 0, 0, 2, 16, 0, 0, 1, 1, 0, 0, 2, 14, 0, 1, 1, 1, 0, 14, 14, 0, 14, 76, 0, 1, 70, 0, 14, 14, 41, 2, 1, 0, 0, 1534, 0, 14, 2, 73, 14, 14, 14, 185, 2, 34, 0, 14, 1, 0, 34, 70, 70, 0, 14, 0, 9, 0, 186, 4, 14, 2, 70], \"incorrect nan count list\")"
   ]
  },
  {
   "cell_type": "code",
   "execution_count": 26,
   "metadata": {
    "collapsed": false
   },
   "outputs": [
    {
     "data": {
      "text/html": [
       "<div>\n",
       "<table border=\"1\" class=\"dataframe\">\n",
       "  <thead>\n",
       "    <tr style=\"text-align: right;\">\n",
       "      <th></th>\n",
       "      <th>f1</th>\n",
       "      <th>f2</th>\n",
       "      <th>f3</th>\n",
       "      <th>f4</th>\n",
       "      <th>f5</th>\n",
       "      <th>f6</th>\n",
       "      <th>f7</th>\n",
       "      <th>f8</th>\n",
       "      <th>f9</th>\n",
       "      <th>f10</th>\n",
       "      <th>f11</th>\n",
       "      <th>f12</th>\n",
       "      <th>f13</th>\n",
       "      <th>f14</th>\n",
       "      <th>f15</th>\n",
       "      <th>f16</th>\n",
       "      <th>f17</th>\n",
       "      <th>f18</th>\n",
       "      <th>f19</th>\n",
       "      <th>f20</th>\n",
       "      <th>f22</th>\n",
       "      <th>f23</th>\n",
       "      <th>f24</th>\n",
       "      <th>f25</th>\n",
       "      <th>f26</th>\n",
       "      <th>f28</th>\n",
       "      <th>f29</th>\n",
       "      <th>f30</th>\n",
       "      <th>f31</th>\n",
       "      <th>f32</th>\n",
       "      <th>f33</th>\n",
       "      <th>f34</th>\n",
       "      <th>f35</th>\n",
       "      <th>f36</th>\n",
       "      <th>f37</th>\n",
       "      <th>f38</th>\n",
       "      <th>f39</th>\n",
       "      <th>f40</th>\n",
       "      <th>f41</th>\n",
       "      <th>f42</th>\n",
       "      <th>f43</th>\n",
       "      <th>f44</th>\n",
       "      <th>f45</th>\n",
       "      <th>f46</th>\n",
       "      <th>f47</th>\n",
       "      <th>f48</th>\n",
       "      <th>f49</th>\n",
       "      <th>f50</th>\n",
       "      <th>f51</th>\n",
       "      <th>f52</th>\n",
       "      <th>f53</th>\n",
       "      <th>f54</th>\n",
       "      <th>f55</th>\n",
       "      <th>f56</th>\n",
       "      <th>f57</th>\n",
       "      <th>f58</th>\n",
       "      <th>f59</th>\n",
       "      <th>f60</th>\n",
       "      <th>f61</th>\n",
       "      <th>f62</th>\n",
       "      <th>f63</th>\n",
       "      <th>f64</th>\n",
       "    </tr>\n",
       "  </thead>\n",
       "  <tbody>\n",
       "    <tr>\n",
       "      <th>train nan count</th>\n",
       "      <td>0</td>\n",
       "      <td>0</td>\n",
       "      <td>0</td>\n",
       "      <td>16</td>\n",
       "      <td>9</td>\n",
       "      <td>0</td>\n",
       "      <td>0</td>\n",
       "      <td>13</td>\n",
       "      <td>2</td>\n",
       "      <td>0</td>\n",
       "      <td>0</td>\n",
       "      <td>16</td>\n",
       "      <td>29</td>\n",
       "      <td>0</td>\n",
       "      <td>7</td>\n",
       "      <td>13</td>\n",
       "      <td>13</td>\n",
       "      <td>0</td>\n",
       "      <td>29</td>\n",
       "      <td>29</td>\n",
       "      <td>0</td>\n",
       "      <td>29</td>\n",
       "      <td>151</td>\n",
       "      <td>0</td>\n",
       "      <td>13</td>\n",
       "      <td>158</td>\n",
       "      <td>0</td>\n",
       "      <td>29</td>\n",
       "      <td>29</td>\n",
       "      <td>60</td>\n",
       "      <td>16</td>\n",
       "      <td>13</td>\n",
       "      <td>0</td>\n",
       "      <td>0</td>\n",
       "      <td>3202</td>\n",
       "      <td>0</td>\n",
       "      <td>29</td>\n",
       "      <td>16</td>\n",
       "      <td>129</td>\n",
       "      <td>29</td>\n",
       "      <td>29</td>\n",
       "      <td>29</td>\n",
       "      <td>406</td>\n",
       "      <td>16</td>\n",
       "      <td>52</td>\n",
       "      <td>0</td>\n",
       "      <td>29</td>\n",
       "      <td>13</td>\n",
       "      <td>0</td>\n",
       "      <td>52</td>\n",
       "      <td>158</td>\n",
       "      <td>158</td>\n",
       "      <td>0</td>\n",
       "      <td>29</td>\n",
       "      <td>0</td>\n",
       "      <td>20</td>\n",
       "      <td>0</td>\n",
       "      <td>406</td>\n",
       "      <td>13</td>\n",
       "      <td>29</td>\n",
       "      <td>16</td>\n",
       "      <td>158</td>\n",
       "    </tr>\n",
       "    <tr>\n",
       "      <th>test nan count</th>\n",
       "      <td>0</td>\n",
       "      <td>0</td>\n",
       "      <td>0</td>\n",
       "      <td>2</td>\n",
       "      <td>16</td>\n",
       "      <td>0</td>\n",
       "      <td>0</td>\n",
       "      <td>1</td>\n",
       "      <td>1</td>\n",
       "      <td>0</td>\n",
       "      <td>0</td>\n",
       "      <td>2</td>\n",
       "      <td>14</td>\n",
       "      <td>0</td>\n",
       "      <td>1</td>\n",
       "      <td>1</td>\n",
       "      <td>1</td>\n",
       "      <td>0</td>\n",
       "      <td>14</td>\n",
       "      <td>14</td>\n",
       "      <td>0</td>\n",
       "      <td>14</td>\n",
       "      <td>76</td>\n",
       "      <td>0</td>\n",
       "      <td>1</td>\n",
       "      <td>70</td>\n",
       "      <td>0</td>\n",
       "      <td>14</td>\n",
       "      <td>14</td>\n",
       "      <td>41</td>\n",
       "      <td>2</td>\n",
       "      <td>1</td>\n",
       "      <td>0</td>\n",
       "      <td>0</td>\n",
       "      <td>1534</td>\n",
       "      <td>0</td>\n",
       "      <td>14</td>\n",
       "      <td>2</td>\n",
       "      <td>73</td>\n",
       "      <td>14</td>\n",
       "      <td>14</td>\n",
       "      <td>14</td>\n",
       "      <td>185</td>\n",
       "      <td>2</td>\n",
       "      <td>34</td>\n",
       "      <td>0</td>\n",
       "      <td>14</td>\n",
       "      <td>1</td>\n",
       "      <td>0</td>\n",
       "      <td>34</td>\n",
       "      <td>70</td>\n",
       "      <td>70</td>\n",
       "      <td>0</td>\n",
       "      <td>14</td>\n",
       "      <td>0</td>\n",
       "      <td>9</td>\n",
       "      <td>0</td>\n",
       "      <td>186</td>\n",
       "      <td>4</td>\n",
       "      <td>14</td>\n",
       "      <td>2</td>\n",
       "      <td>70</td>\n",
       "    </tr>\n",
       "  </tbody>\n",
       "</table>\n",
       "</div>"
      ],
      "text/plain": [
       "                 f1  f2  f3  f4  f5  f6  f7  f8  f9  f10  f11  f12  f13  f14  \\\n",
       "train nan count   0   0   0  16   9   0   0  13   2    0    0   16   29    0   \n",
       "test nan count    0   0   0   2  16   0   0   1   1    0    0    2   14    0   \n",
       "\n",
       "                 f15  f16  f17  f18  f19  f20  f22  f23  f24  f25  f26  f28  \\\n",
       "train nan count    7   13   13    0   29   29    0   29  151    0   13  158   \n",
       "test nan count     1    1    1    0   14   14    0   14   76    0    1   70   \n",
       "\n",
       "                 f29  f30  f31  f32  f33  f34  f35  f36   f37  f38  f39  f40  \\\n",
       "train nan count    0   29   29   60   16   13    0    0  3202    0   29   16   \n",
       "test nan count     0   14   14   41    2    1    0    0  1534    0   14    2   \n",
       "\n",
       "                 f41  f42  f43  f44  f45  f46  f47  f48  f49  f50  f51  f52  \\\n",
       "train nan count  129   29   29   29  406   16   52    0   29   13    0   52   \n",
       "test nan count    73   14   14   14  185    2   34    0   14    1    0   34   \n",
       "\n",
       "                 f53  f54  f55  f56  f57  f58  f59  f60  f61  f62  f63  f64  \n",
       "train nan count  158  158    0   29    0   20    0  406   13   29   16  158  \n",
       "test nan count    70   70    0   14    0    9    0  186    4   14    2   70  "
      ]
     },
     "execution_count": 26,
     "metadata": {},
     "output_type": "execute_result"
    }
   ],
   "source": [
    "df_nan = pd.DataFrame([train_nan_count, test_nan_count], index=[\"train nan count\", \"test nan count\"])\n",
    "df_nan.columns = features_cols\n",
    "pd.set_option(\"display.max_columns\", 65)\n",
    "df_nan.head(5)"
   ]
  },
  {
   "cell_type": "code",
   "execution_count": 56,
   "metadata": {
    "collapsed": false
   },
   "outputs": [
    {
     "data": {
      "text/html": [
       "<div>\n",
       "<style>\n",
       "    .dataframe thead tr:only-child th {\n",
       "        text-align: right;\n",
       "    }\n",
       "\n",
       "    .dataframe thead th {\n",
       "        text-align: left;\n",
       "    }\n",
       "\n",
       "    .dataframe tbody tr th {\n",
       "        vertical-align: top;\n",
       "    }\n",
       "</style>\n",
       "<table border=\"1\" class=\"dataframe\">\n",
       "  <thead>\n",
       "    <tr style=\"text-align: right;\">\n",
       "      <th></th>\n",
       "      <th>f1</th>\n",
       "      <th>f2</th>\n",
       "      <th>f3</th>\n",
       "      <th>f4</th>\n",
       "      <th>f5</th>\n",
       "      <th>f6</th>\n",
       "      <th>f7</th>\n",
       "      <th>f8</th>\n",
       "      <th>f9</th>\n",
       "      <th>f10</th>\n",
       "      <th>f11</th>\n",
       "      <th>f12</th>\n",
       "      <th>f13</th>\n",
       "      <th>f14</th>\n",
       "      <th>f15</th>\n",
       "      <th>f16</th>\n",
       "      <th>f17</th>\n",
       "      <th>f18</th>\n",
       "      <th>f19</th>\n",
       "      <th>f20</th>\n",
       "      <th>f22</th>\n",
       "      <th>f23</th>\n",
       "      <th>f24</th>\n",
       "      <th>f25</th>\n",
       "      <th>f26</th>\n",
       "      <th>f28</th>\n",
       "      <th>f29</th>\n",
       "      <th>f30</th>\n",
       "      <th>f31</th>\n",
       "      <th>f32</th>\n",
       "      <th>f33</th>\n",
       "      <th>f34</th>\n",
       "      <th>f35</th>\n",
       "      <th>f36</th>\n",
       "      <th>f37</th>\n",
       "      <th>f38</th>\n",
       "      <th>f39</th>\n",
       "      <th>f40</th>\n",
       "      <th>f41</th>\n",
       "      <th>f42</th>\n",
       "      <th>f43</th>\n",
       "      <th>f44</th>\n",
       "      <th>f45</th>\n",
       "      <th>f46</th>\n",
       "      <th>f47</th>\n",
       "      <th>f48</th>\n",
       "      <th>f49</th>\n",
       "      <th>f50</th>\n",
       "      <th>f51</th>\n",
       "      <th>f52</th>\n",
       "      <th>f53</th>\n",
       "      <th>f54</th>\n",
       "      <th>f55</th>\n",
       "      <th>f56</th>\n",
       "      <th>f57</th>\n",
       "      <th>f58</th>\n",
       "      <th>f59</th>\n",
       "      <th>f60</th>\n",
       "      <th>f61</th>\n",
       "      <th>f62</th>\n",
       "      <th>f63</th>\n",
       "      <th>f64</th>\n",
       "    </tr>\n",
       "  </thead>\n",
       "  <tbody>\n",
       "    <tr>\n",
       "      <th>train mean count</th>\n",
       "      <td>0.055921</td>\n",
       "      <td>0.595537</td>\n",
       "      <td>0.119795</td>\n",
       "      <td>12.803714</td>\n",
       "      <td>-1.777593e+03</td>\n",
       "      <td>-0.092157</td>\n",
       "      <td>0.068756</td>\n",
       "      <td>18.458111</td>\n",
       "      <td>1.850840</td>\n",
       "      <td>0.391377</td>\n",
       "      <td>0.089878</td>\n",
       "      <td>2.074000</td>\n",
       "      <td>0.631823</td>\n",
       "      <td>0.068771</td>\n",
       "      <td>1.577183e+03</td>\n",
       "      <td>2.442334</td>\n",
       "      <td>19.974092</td>\n",
       "      <td>0.076390</td>\n",
       "      <td>-0.137808</td>\n",
       "      <td>6.833195e+01</td>\n",
       "      <td>0.081083</td>\n",
       "      <td>-0.146213</td>\n",
       "      <td>0.232563</td>\n",
       "      <td>0.226206</td>\n",
       "      <td>2.251288</td>\n",
       "      <td>7.114980</td>\n",
       "      <td>3.293682</td>\n",
       "      <td>0.347753</td>\n",
       "      <td>-0.151687</td>\n",
       "      <td>1.620677e+03</td>\n",
       "      <td>8.706577</td>\n",
       "      <td>5.847220</td>\n",
       "      <td>0.076695</td>\n",
       "      <td>1.980974</td>\n",
       "      <td>1.281458e+02</td>\n",
       "      <td>0.489102</td>\n",
       "      <td>-0.107607</td>\n",
       "      <td>2.658006</td>\n",
       "      <td>4.263997e+01</td>\n",
       "      <td>-0.105502</td>\n",
       "      <td>2.033310e+02</td>\n",
       "      <td>1.349986e+02</td>\n",
       "      <td>3.591011e+01</td>\n",
       "      <td>11.813803</td>\n",
       "      <td>4.023827e+02</td>\n",
       "      <td>0.009096</td>\n",
       "      <td>-0.171780</td>\n",
       "      <td>11.334669</td>\n",
       "      <td>0.475372</td>\n",
       "      <td>4.423578</td>\n",
       "      <td>6.543753</td>\n",
       "      <td>7.677427</td>\n",
       "      <td>1.506443e+03</td>\n",
       "      <td>-0.804027</td>\n",
       "      <td>-0.012005</td>\n",
       "      <td>4.698195</td>\n",
       "      <td>1.478731</td>\n",
       "      <td>6.998394e+02</td>\n",
       "      <td>13.436914</td>\n",
       "      <td>7.362521e+01</td>\n",
       "      <td>9.375965</td>\n",
       "      <td>41.196063</td>\n",
       "    </tr>\n",
       "    <tr>\n",
       "      <th>test mean count</th>\n",
       "      <td>0.046599</td>\n",
       "      <td>0.669398</td>\n",
       "      <td>0.046144</td>\n",
       "      <td>4.258272</td>\n",
       "      <td>-4.718509e+02</td>\n",
       "      <td>-0.180041</td>\n",
       "      <td>0.059267</td>\n",
       "      <td>20.522620</td>\n",
       "      <td>1.755126</td>\n",
       "      <td>0.314757</td>\n",
       "      <td>0.080439</td>\n",
       "      <td>3.094853</td>\n",
       "      <td>-0.141649</td>\n",
       "      <td>0.059267</td>\n",
       "      <td>5.899819e+03</td>\n",
       "      <td>3.312089</td>\n",
       "      <td>21.601014</td>\n",
       "      <td>0.059267</td>\n",
       "      <td>-0.237712</td>\n",
       "      <td>6.868521e+01</td>\n",
       "      <td>0.064699</td>\n",
       "      <td>-0.237883</td>\n",
       "      <td>0.170039</td>\n",
       "      <td>0.135134</td>\n",
       "      <td>3.248552</td>\n",
       "      <td>4.022509</td>\n",
       "      <td>3.317041</td>\n",
       "      <td>0.685894</td>\n",
       "      <td>-0.228645</td>\n",
       "      <td>2.570059e+02</td>\n",
       "      <td>7.838810</td>\n",
       "      <td>4.488453</td>\n",
       "      <td>0.059666</td>\n",
       "      <td>1.981809</td>\n",
       "      <td>5.218351e+01</td>\n",
       "      <td>0.417614</td>\n",
       "      <td>-0.012910</td>\n",
       "      <td>1.819628</td>\n",
       "      <td>3.406161e-01</td>\n",
       "      <td>-0.215099</td>\n",
       "      <td>1.792665e+02</td>\n",
       "      <td>1.105807e+02</td>\n",
       "      <td>-1.985452e+01</td>\n",
       "      <td>3.230345</td>\n",
       "      <td>8.276408e+02</td>\n",
       "      <td>-0.003819</td>\n",
       "      <td>-0.311361</td>\n",
       "      <td>3.316882</td>\n",
       "      <td>0.541320</td>\n",
       "      <td>25.125787</td>\n",
       "      <td>4.069028</td>\n",
       "      <td>4.746029</td>\n",
       "      <td>1.769499e+03</td>\n",
       "      <td>0.026061</td>\n",
       "      <td>-0.020525</td>\n",
       "      <td>2.124684</td>\n",
       "      <td>1.328999</td>\n",
       "      <td>3.115485e+02</td>\n",
       "      <td>14.946654</td>\n",
       "      <td>2.612258e+02</td>\n",
       "      <td>8.525979</td>\n",
       "      <td>24.769185</td>\n",
       "    </tr>\n",
       "    <tr>\n",
       "      <th>train std count</th>\n",
       "      <td>0.703606</td>\n",
       "      <td>5.755584</td>\n",
       "      <td>5.751084</td>\n",
       "      <td>639.702489</td>\n",
       "      <td>1.433932e+05</td>\n",
       "      <td>6.188188</td>\n",
       "      <td>0.706526</td>\n",
       "      <td>738.023690</td>\n",
       "      <td>8.985388</td>\n",
       "      <td>5.758474</td>\n",
       "      <td>0.707389</td>\n",
       "      <td>93.523494</td>\n",
       "      <td>60.186553</td>\n",
       "      <td>0.706525</td>\n",
       "      <td>4.592203e+04</td>\n",
       "      <td>91.320120</td>\n",
       "      <td>743.854332</td>\n",
       "      <td>0.952760</td>\n",
       "      <td>9.933345</td>\n",
       "      <td>1.142927e+03</td>\n",
       "      <td>0.655029</td>\n",
       "      <td>9.884496</td>\n",
       "      <td>2.429335</td>\n",
       "      <td>6.019481</td>\n",
       "      <td>88.722340</td>\n",
       "      <td>111.209405</td>\n",
       "      <td>0.838209</td>\n",
       "      <td>86.370118</td>\n",
       "      <td>9.846037</td>\n",
       "      <td>8.340330e+04</td>\n",
       "      <td>43.890833</td>\n",
       "      <td>83.928744</td>\n",
       "      <td>0.646990</td>\n",
       "      <td>2.156626</td>\n",
       "      <td>3.010095e+03</td>\n",
       "      <td>5.753271</td>\n",
       "      <td>9.822611</td>\n",
       "      <td>44.377929</td>\n",
       "      <td>3.474460e+03</td>\n",
       "      <td>9.426054</td>\n",
       "      <td>3.657781e+03</td>\n",
       "      <td>3.211898e+03</td>\n",
       "      <td>1.850059e+03</td>\n",
       "      <td>639.593046</td>\n",
       "      <td>2.228635e+04</td>\n",
       "      <td>0.696696</td>\n",
       "      <td>9.662236</td>\n",
       "      <td>638.323735</td>\n",
       "      <td>5.748629</td>\n",
       "      <td>228.365278</td>\n",
       "      <td>104.774839</td>\n",
       "      <td>109.782182</td>\n",
       "      <td>1.286548e+04</td>\n",
       "      <td>68.383172</td>\n",
       "      <td>22.476613</td>\n",
       "      <td>227.281777</td>\n",
       "      <td>91.235191</td>\n",
       "      <td>4.516153e+04</td>\n",
       "      <td>73.619573</td>\n",
       "      <td>3.144878e+04</td>\n",
       "      <td>35.640812</td>\n",
       "      <td>511.484229</td>\n",
       "    </tr>\n",
       "    <tr>\n",
       "      <th>test std count</th>\n",
       "      <td>0.516288</td>\n",
       "      <td>7.610887</td>\n",
       "      <td>7.599918</td>\n",
       "      <td>26.229407</td>\n",
       "      <td>2.864638e+04</td>\n",
       "      <td>8.336985</td>\n",
       "      <td>0.520961</td>\n",
       "      <td>674.909637</td>\n",
       "      <td>3.204544</td>\n",
       "      <td>7.610427</td>\n",
       "      <td>0.534576</td>\n",
       "      <td>140.993458</td>\n",
       "      <td>11.104860</td>\n",
       "      <td>0.520961</td>\n",
       "      <td>1.784156e+05</td>\n",
       "      <td>141.007358</td>\n",
       "      <td>675.029724</td>\n",
       "      <td>0.520961</td>\n",
       "      <td>13.435560</td>\n",
       "      <td>9.523546e+02</td>\n",
       "      <td>0.392762</td>\n",
       "      <td>13.354858</td>\n",
       "      <td>1.140170</td>\n",
       "      <td>8.011966</td>\n",
       "      <td>141.054367</td>\n",
       "      <td>45.664122</td>\n",
       "      <td>0.845121</td>\n",
       "      <td>21.397762</td>\n",
       "      <td>13.431946</td>\n",
       "      <td>6.611732e+03</td>\n",
       "      <td>19.912712</td>\n",
       "      <td>12.132395</td>\n",
       "      <td>0.376688</td>\n",
       "      <td>3.395760</td>\n",
       "      <td>4.641692e+02</td>\n",
       "      <td>7.610153</td>\n",
       "      <td>1.386701</td>\n",
       "      <td>18.371973</td>\n",
       "      <td>1.700034e+01</td>\n",
       "      <td>13.125397</td>\n",
       "      <td>2.429925e+03</td>\n",
       "      <td>1.499630e+03</td>\n",
       "      <td>1.422052e+03</td>\n",
       "      <td>23.890859</td>\n",
       "      <td>4.422939e+04</td>\n",
       "      <td>0.465132</td>\n",
       "      <td>15.504759</td>\n",
       "      <td>23.290146</td>\n",
       "      <td>7.605857</td>\n",
       "      <td>1447.967158</td>\n",
       "      <td>45.927995</td>\n",
       "      <td>45.166878</td>\n",
       "      <td>1.703147e+04</td>\n",
       "      <td>1.344207</td>\n",
       "      <td>5.675368</td>\n",
       "      <td>68.961484</td>\n",
       "      <td>34.575857</td>\n",
       "      <td>7.017941e+03</td>\n",
       "      <td>101.124891</td>\n",
       "      <td>6.261329e+03</td>\n",
       "      <td>20.323885</td>\n",
       "      <td>157.902042</td>\n",
       "    </tr>\n",
       "    <tr>\n",
       "      <th>train var count</th>\n",
       "      <td>0.495062</td>\n",
       "      <td>33.126743</td>\n",
       "      <td>33.074971</td>\n",
       "      <td>409219.274640</td>\n",
       "      <td>2.056162e+10</td>\n",
       "      <td>38.293665</td>\n",
       "      <td>0.499179</td>\n",
       "      <td>544678.967158</td>\n",
       "      <td>80.737191</td>\n",
       "      <td>33.160024</td>\n",
       "      <td>0.500400</td>\n",
       "      <td>8746.643922</td>\n",
       "      <td>3622.421125</td>\n",
       "      <td>0.499178</td>\n",
       "      <td>2.108832e+09</td>\n",
       "      <td>8339.364381</td>\n",
       "      <td>553319.267239</td>\n",
       "      <td>0.907751</td>\n",
       "      <td>98.671335</td>\n",
       "      <td>1.306282e+06</td>\n",
       "      <td>0.429063</td>\n",
       "      <td>97.703262</td>\n",
       "      <td>5.901671</td>\n",
       "      <td>36.234149</td>\n",
       "      <td>7871.653686</td>\n",
       "      <td>12367.531712</td>\n",
       "      <td>0.702594</td>\n",
       "      <td>7459.797354</td>\n",
       "      <td>96.944436</td>\n",
       "      <td>6.956110e+09</td>\n",
       "      <td>1926.405215</td>\n",
       "      <td>7044.033999</td>\n",
       "      <td>0.418596</td>\n",
       "      <td>4.651035</td>\n",
       "      <td>9.060669e+06</td>\n",
       "      <td>33.100132</td>\n",
       "      <td>96.483681</td>\n",
       "      <td>1969.400574</td>\n",
       "      <td>1.207187e+07</td>\n",
       "      <td>88.850495</td>\n",
       "      <td>1.337936e+07</td>\n",
       "      <td>1.031629e+07</td>\n",
       "      <td>3.422719e+06</td>\n",
       "      <td>409079.264375</td>\n",
       "      <td>4.966815e+08</td>\n",
       "      <td>0.485385</td>\n",
       "      <td>93.358808</td>\n",
       "      <td>407457.190971</td>\n",
       "      <td>33.046741</td>\n",
       "      <td>52150.700294</td>\n",
       "      <td>10977.766783</td>\n",
       "      <td>12052.127549</td>\n",
       "      <td>1.655205e+08</td>\n",
       "      <td>4676.258208</td>\n",
       "      <td>505.198120</td>\n",
       "      <td>51657.006041</td>\n",
       "      <td>8323.860045</td>\n",
       "      <td>2.039564e+09</td>\n",
       "      <td>5419.841572</td>\n",
       "      <td>9.890257e+08</td>\n",
       "      <td>1270.267494</td>\n",
       "      <td>261616.116366</td>\n",
       "    </tr>\n",
       "  </tbody>\n",
       "</table>\n",
       "</div>"
      ],
      "text/plain": [
       "                        f1         f2         f3             f4            f5  \\\n",
       "train mean count  0.055921   0.595537   0.119795      12.803714 -1.777593e+03   \n",
       "test mean count   0.046599   0.669398   0.046144       4.258272 -4.718509e+02   \n",
       "train std count   0.703606   5.755584   5.751084     639.702489  1.433932e+05   \n",
       "test std count    0.516288   7.610887   7.599918      26.229407  2.864638e+04   \n",
       "train var count   0.495062  33.126743  33.074971  409219.274640  2.056162e+10   \n",
       "\n",
       "                         f6        f7             f8         f9        f10  \\\n",
       "train mean count  -0.092157  0.068756      18.458111   1.850840   0.391377   \n",
       "test mean count   -0.180041  0.059267      20.522620   1.755126   0.314757   \n",
       "train std count    6.188188  0.706526     738.023690   8.985388   5.758474   \n",
       "test std count     8.336985  0.520961     674.909637   3.204544   7.610427   \n",
       "train var count   38.293665  0.499179  544678.967158  80.737191  33.160024   \n",
       "\n",
       "                       f11          f12          f13       f14           f15  \\\n",
       "train mean count  0.089878     2.074000     0.631823  0.068771  1.577183e+03   \n",
       "test mean count   0.080439     3.094853    -0.141649  0.059267  5.899819e+03   \n",
       "train std count   0.707389    93.523494    60.186553  0.706525  4.592203e+04   \n",
       "test std count    0.534576   140.993458    11.104860  0.520961  1.784156e+05   \n",
       "train var count   0.500400  8746.643922  3622.421125  0.499178  2.108832e+09   \n",
       "\n",
       "                          f16            f17       f18        f19  \\\n",
       "train mean count     2.442334      19.974092  0.076390  -0.137808   \n",
       "test mean count      3.312089      21.601014  0.059267  -0.237712   \n",
       "train std count     91.320120     743.854332  0.952760   9.933345   \n",
       "test std count     141.007358     675.029724  0.520961  13.435560   \n",
       "train var count   8339.364381  553319.267239  0.907751  98.671335   \n",
       "\n",
       "                           f20       f22        f23       f24        f25  \\\n",
       "train mean count  6.833195e+01  0.081083  -0.146213  0.232563   0.226206   \n",
       "test mean count   6.868521e+01  0.064699  -0.237883  0.170039   0.135134   \n",
       "train std count   1.142927e+03  0.655029   9.884496  2.429335   6.019481   \n",
       "test std count    9.523546e+02  0.392762  13.354858  1.140170   8.011966   \n",
       "train var count   1.306282e+06  0.429063  97.703262  5.901671  36.234149   \n",
       "\n",
       "                          f26           f28       f29          f30        f31  \\\n",
       "train mean count     2.251288      7.114980  3.293682     0.347753  -0.151687   \n",
       "test mean count      3.248552      4.022509  3.317041     0.685894  -0.228645   \n",
       "train std count     88.722340    111.209405  0.838209    86.370118   9.846037   \n",
       "test std count     141.054367     45.664122  0.845121    21.397762  13.431946   \n",
       "train var count   7871.653686  12367.531712  0.702594  7459.797354  96.944436   \n",
       "\n",
       "                           f32          f33          f34       f35       f36  \\\n",
       "train mean count  1.620677e+03     8.706577     5.847220  0.076695  1.980974   \n",
       "test mean count   2.570059e+02     7.838810     4.488453  0.059666  1.981809   \n",
       "train std count   8.340330e+04    43.890833    83.928744  0.646990  2.156626   \n",
       "test std count    6.611732e+03    19.912712    12.132395  0.376688  3.395760   \n",
       "train var count   6.956110e+09  1926.405215  7044.033999  0.418596  4.651035   \n",
       "\n",
       "                           f37        f38        f39          f40  \\\n",
       "train mean count  1.281458e+02   0.489102  -0.107607     2.658006   \n",
       "test mean count   5.218351e+01   0.417614  -0.012910     1.819628   \n",
       "train std count   3.010095e+03   5.753271   9.822611    44.377929   \n",
       "test std count    4.641692e+02   7.610153   1.386701    18.371973   \n",
       "train var count   9.060669e+06  33.100132  96.483681  1969.400574   \n",
       "\n",
       "                           f41        f42           f43           f44  \\\n",
       "train mean count  4.263997e+01  -0.105502  2.033310e+02  1.349986e+02   \n",
       "test mean count   3.406161e-01  -0.215099  1.792665e+02  1.105807e+02   \n",
       "train std count   3.474460e+03   9.426054  3.657781e+03  3.211898e+03   \n",
       "test std count    1.700034e+01  13.125397  2.429925e+03  1.499630e+03   \n",
       "train var count   1.207187e+07  88.850495  1.337936e+07  1.031629e+07   \n",
       "\n",
       "                           f45            f46           f47       f48  \\\n",
       "train mean count  3.591011e+01      11.813803  4.023827e+02  0.009096   \n",
       "test mean count  -1.985452e+01       3.230345  8.276408e+02 -0.003819   \n",
       "train std count   1.850059e+03     639.593046  2.228635e+04  0.696696   \n",
       "test std count    1.422052e+03      23.890859  4.422939e+04  0.465132   \n",
       "train var count   3.422719e+06  409079.264375  4.966815e+08  0.485385   \n",
       "\n",
       "                        f49            f50        f51           f52  \\\n",
       "train mean count  -0.171780      11.334669   0.475372      4.423578   \n",
       "test mean count   -0.311361       3.316882   0.541320     25.125787   \n",
       "train std count    9.662236     638.323735   5.748629    228.365278   \n",
       "test std count    15.504759      23.290146   7.605857   1447.967158   \n",
       "train var count   93.358808  407457.190971  33.046741  52150.700294   \n",
       "\n",
       "                           f53           f54           f55          f56  \\\n",
       "train mean count      6.543753      7.677427  1.506443e+03    -0.804027   \n",
       "test mean count       4.069028      4.746029  1.769499e+03     0.026061   \n",
       "train std count     104.774839    109.782182  1.286548e+04    68.383172   \n",
       "test std count       45.927995     45.166878  1.703147e+04     1.344207   \n",
       "train var count   10977.766783  12052.127549  1.655205e+08  4676.258208   \n",
       "\n",
       "                         f57           f58          f59           f60  \\\n",
       "train mean count   -0.012005      4.698195     1.478731  6.998394e+02   \n",
       "test mean count    -0.020525      2.124684     1.328999  3.115485e+02   \n",
       "train std count    22.476613    227.281777    91.235191  4.516153e+04   \n",
       "test std count      5.675368     68.961484    34.575857  7.017941e+03   \n",
       "train var count   505.198120  51657.006041  8323.860045  2.039564e+09   \n",
       "\n",
       "                          f61           f62          f63            f64  \n",
       "train mean count    13.436914  7.362521e+01     9.375965      41.196063  \n",
       "test mean count     14.946654  2.612258e+02     8.525979      24.769185  \n",
       "train std count     73.619573  3.144878e+04    35.640812     511.484229  \n",
       "test std count     101.124891  6.261329e+03    20.323885     157.902042  \n",
       "train var count   5419.841572  9.890257e+08  1270.267494  261616.116366  "
      ]
     },
     "execution_count": 56,
     "metadata": {},
     "output_type": "execute_result"
    }
   ],
   "source": [
    "train_mean_count = []\n",
    "train_var_count = []\n",
    "train_std_count = []\n",
    "test_mean_count = []\n",
    "test_var_count = []\n",
    "test_std_count = []\n",
    "for col in features_cols: \n",
    "    n_mean_in_train_col = df_train[col].mean()\n",
    "    n_var_in_train_col = df_train[col].var()\n",
    "    n_std_in_train_col = df_train[col].std()\n",
    "    n_mean_in_test_col = df_test[col].mean()\n",
    "    n_var_in_test_col = df_test[col].var()\n",
    "    n_std_in_test_col = df_test[col].std()\n",
    "    train_mean_count.append(n_mean_in_train_col)\n",
    "    train_std_count.append(n_std_in_train_col)\n",
    "    train_var_count.append(n_var_in_train_col)\n",
    "    test_mean_count.append(n_mean_in_test_col)\n",
    "    test_std_count.append(n_std_in_test_col)\n",
    "    test_var_count.append(n_var_in_test_col)\n",
    "df_moments = pd.DataFrame([train_mean_count, test_mean_count,train_std_count, test_std_count,train_var_count, test_var_count], index=[\"train mean count\", \"test mean count\",\"train std count\", \"test std count\",\"train var count\", \"test var count\"])\n",
    "df_moments.columns = features_cols\n",
    "pd.set_option(\"display.max_columns\", 65)\n",
    "df_moments.head(5)"
   ]
  },
  {
   "cell_type": "markdown",
   "metadata": {},
   "source": [
    "## Other things you can try\n",
    "\n",
    "There are a lot ot experiments you can try to explore data. If you lack in ideas, here are some you can try :\n",
    "\n",
    "- Understand features using statistical measures (mean, variance, std...) and visual charts.\n",
    "- Compare variables distributions with regards to class label. Make interpretations ! \n",
    "- Search for correlations between features and label.\n",
    "- Investiguate missing values and outliers.\n",
    "- ...\n",
    "\n",
    "However, feel completly free to provide your own analysis, exploration, interpretations and conclusions! Be creative!"
   ]
  },
  {
   "cell_type": "markdown",
   "metadata": {},
   "source": [
    "# Step 2 - Features engineering\n",
    "\n",
    "According to conclusions you get from step 1 exploration, process your data (cleaning, create new features, features selection, dimensionality reduction...). Feel free to create several different datasets if you want to explore different kind of dataframes."
   ]
  },
  {
   "cell_type": "markdown",
   "metadata": {},
   "source": [
    "## Fill missing value in each column with mean value\n",
    "\n",
    "During step 1, we have observed we have a lot of missing data in multiple columns of our dataframe. In order to process it before training machine learning algorithm, we will fill null values with mean value of column. For each feature col, fill missing value with column mean for both train and test datasets."
   ]
  },
  {
   "cell_type": "code",
   "execution_count": 57,
   "metadata": {
    "collapsed": true
   },
   "outputs": [],
   "source": [
    "for col in features_cols:\n",
    "    df_train[col] = df_train[col].fillna(df_train[col].mean())\n",
    "    df_test[col] = df_test[col].fillna(df_test[col].mean())\n"
   ]
  },
  {
   "cell_type": "code",
   "execution_count": 58,
   "metadata": {
    "collapsed": false
   },
   "outputs": [
    {
     "name": "stdout",
     "output_type": "stream",
     "text": [
      "1 test passed.\n",
      "1 test passed.\n"
     ]
    }
   ],
   "source": [
    "# check we don't have any missing values anymore.\n",
    "train_nan_count = []\n",
    "test_nan_count = []\n",
    "for col in features_cols: \n",
    "    train_nan_count.append(df_train[col].isnull().sum())\n",
    "    test_nan_count.append(df_test[col].isnull().sum())\n",
    "\n",
    "check_test(train_nan_count, [0, 0, 0, 0, 0, 0, 0, 0, 0, 0, 0, 0, 0, 0, 0, 0, 0, 0, 0, 0, 0, 0, 0, 0, 0, 0, 0, 0, 0, 0, 0, 0, 0, 0, 0, 0, 0, 0, 0, 0, 0, 0, 0, 0, 0, 0, 0, 0, 0, 0, 0, 0, 0, 0, 0, 0, 0, 0, 0, 0, 0, 0], \"incorrect nan count list\")\n",
    "check_test(test_nan_count, [0, 0, 0, 0, 0, 0, 0, 0, 0, 0, 0, 0, 0, 0, 0, 0, 0, 0, 0, 0, 0, 0, 0, 0, 0, 0, 0, 0, 0, 0, 0, 0, 0, 0, 0, 0, 0, 0, 0, 0, 0, 0, 0, 0, 0, 0, 0, 0, 0, 0, 0, 0, 0, 0, 0, 0, 0, 0, 0, 0, 0, 0], \"incorrect nan count list\")"
   ]
  },
  {
   "cell_type": "markdown",
   "metadata": {},
   "source": [
    "## Other things you can try\n",
    "\n",
    "There are a lot ot experiments you can try to process your data. If you lack in ideas, here are some you can try :\n",
    "\n",
    "- Clean your missing data in a more robust way.\n",
    "- Handle possible outliers in order to strengthen your predictive models.\n",
    "- Create new features according to your economics and financial knowledge.\n",
    "- Perform features selection / dimensionality reduction to enhance features.\n",
    "- ...\n",
    "\n",
    "Once again, feel completly free to provide your own process, interpretations and conclusions! Features engineering is the main difference between a good machine learning and an excellent one. Follow your intuition !"
   ]
  },
  {
   "cell_type": "markdown",
   "metadata": {},
   "source": [
    "# Step 3 - Machine learning algorithms experiments\n",
    "\n",
    "In this part, you will test different machine learning algorithms and configurations. It is your sandbox before running final machine learning model. You will also have to evaluate your results and interpret it."
   ]
  },
  {
   "cell_type": "markdown",
   "metadata": {},
   "source": [
    "## Validation procedure\n",
    "\n",
    "In this section, we will split our **XXX** dataset into **XXX** using **XXX** approach. \n",
    "\n",
    "- In this section, you are free to choose validation procedure. but you have to justify."
   ]
  },
  {
   "cell_type": "code",
   "execution_count": 59,
   "metadata": {
    "collapsed": false
   },
   "outputs": [
    {
     "name": "stdout",
     "output_type": "stream",
     "text": [
      "df_train_train observations : 3588\n",
      "y_train_train observations : 3588\n",
      "df_train_test observations : 3449\n",
      "y_train_test observations : 3449\n"
     ]
    }
   ],
   "source": [
    "from sklearn.model_selection import train_test_split\n",
    "\n",
    "x_train, x_val, y_train, y_val = train_test_split(df_train, df_train[\"label\"], random_state=203, test_size=0.49)\n",
    "\n",
    "n_train = x_train.shape[0]\n",
    "n_test = x_val.shape[0]\n",
    "print(\"df_train_train observations : %s\" % n_train)\n",
    "print(\"y_train_train observations : %s\" % str(y_train.shape[0]))\n",
    "print(\"df_train_test observations : %s\" % n_test)\n",
    "print(\"y_train_test observations : %s\" % str(y_val.shape[0]))"
   ]
  },
  {
   "cell_type": "markdown",
   "metadata": {},
   "source": [
    "## Vanilla logistic regression\n",
    "\n",
    "Let us test a first logistic regression model with default parameters and 5 features. Whatever chose model, you can use method .predict_proba() to output probability / algorithm decision function."
   ]
  },
  {
   "cell_type": "code",
   "execution_count": 60,
   "metadata": {
    "collapsed": true
   },
   "outputs": [],
   "source": [
    "from sklearn.linear_model import LogisticRegression\n",
    "from sklearn.cross_validation import cross_val_predict\n",
    "\n",
    "\n",
    "clf = LogisticRegression()\n",
    "model = clf.fit(x_train[my_features] ,y_train)\n",
    "pred_train = model.predict_proba(x_train[my_features])[:,1]"
   ]
  },
  {
   "cell_type": "markdown",
   "metadata": {},
   "source": [
    "#### Compute RMSLE"
   ]
  },
  {
   "cell_type": "code",
   "execution_count": 61,
   "metadata": {
    "collapsed": true
   },
   "outputs": [],
   "source": [
    "from sklearn.metrics import mean_squared_log_error\n",
    "from math import sqrt\n",
    "\n",
    "def compute_rmsle(y_true, y_pred):\n",
    "    return sqrt(mean_squared_log_error(y_true, y_pred))"
   ]
  },
  {
   "cell_type": "markdown",
   "metadata": {},
   "source": [
    "### with Polynomial transformation (too complex)"
   ]
  },
  {
   "cell_type": "code",
   "execution_count": 62,
   "metadata": {
    "collapsed": false
   },
   "outputs": [
    {
     "ename": "ValueError",
     "evalue": "x and y must have same first dimension, but have shapes (7L,) and (3L,)",
     "output_type": "error",
     "traceback": [
      "\u001b[1;31m---------------------------------------------------------------------------\u001b[0m",
      "\u001b[1;31mValueError\u001b[0m                                Traceback (most recent call last)",
      "\u001b[1;32m<ipython-input-62-b21ff371508f>\u001b[0m in \u001b[0;36m<module>\u001b[1;34m()\u001b[0m\n\u001b[0;32m     38\u001b[0m     \u001b[0mi\u001b[0m \u001b[1;33m+=\u001b[0m \u001b[1;36m1\u001b[0m\u001b[1;33m\u001b[0m\u001b[0m\n\u001b[0;32m     39\u001b[0m \u001b[1;33m\u001b[0m\u001b[0m\n\u001b[1;32m---> 40\u001b[1;33m \u001b[0mplt\u001b[0m\u001b[1;33m.\u001b[0m\u001b[0mplot\u001b[0m\u001b[1;33m(\u001b[0m\u001b[0mpoly_range\u001b[0m\u001b[1;33m,\u001b[0m \u001b[0mall_rmsle_train\u001b[0m\u001b[1;33m)\u001b[0m\u001b[1;33m\u001b[0m\u001b[0m\n\u001b[0m\u001b[0;32m     41\u001b[0m \u001b[0mplt\u001b[0m\u001b[1;33m.\u001b[0m\u001b[0mplot\u001b[0m\u001b[1;33m(\u001b[0m\u001b[0mpoly_range\u001b[0m\u001b[1;33m,\u001b[0m \u001b[0mall_rmsle_val\u001b[0m\u001b[1;33m,\u001b[0m \u001b[0mcolor\u001b[0m\u001b[1;33m=\u001b[0m\u001b[1;34m\"g\"\u001b[0m\u001b[1;33m)\u001b[0m\u001b[1;33m\u001b[0m\u001b[0m\n\u001b[0;32m     42\u001b[0m \u001b[0mplt\u001b[0m\u001b[1;33m.\u001b[0m\u001b[0mxlabel\u001b[0m\u001b[1;33m(\u001b[0m\u001b[1;34m\"Experiments (increasing polynomial order)\"\u001b[0m\u001b[1;33m)\u001b[0m\u001b[1;33m\u001b[0m\u001b[0m\n",
      "\u001b[1;32mC:\\Users\\blond_000\\Anaconda2\\lib\\site-packages\\matplotlib\\pyplot.pyc\u001b[0m in \u001b[0;36mplot\u001b[1;34m(*args, **kwargs)\u001b[0m\n\u001b[0;32m   3238\u001b[0m                       mplDeprecation)\n\u001b[0;32m   3239\u001b[0m     \u001b[1;32mtry\u001b[0m\u001b[1;33m:\u001b[0m\u001b[1;33m\u001b[0m\u001b[0m\n\u001b[1;32m-> 3240\u001b[1;33m         \u001b[0mret\u001b[0m \u001b[1;33m=\u001b[0m \u001b[0max\u001b[0m\u001b[1;33m.\u001b[0m\u001b[0mplot\u001b[0m\u001b[1;33m(\u001b[0m\u001b[1;33m*\u001b[0m\u001b[0margs\u001b[0m\u001b[1;33m,\u001b[0m \u001b[1;33m**\u001b[0m\u001b[0mkwargs\u001b[0m\u001b[1;33m)\u001b[0m\u001b[1;33m\u001b[0m\u001b[0m\n\u001b[0m\u001b[0;32m   3241\u001b[0m     \u001b[1;32mfinally\u001b[0m\u001b[1;33m:\u001b[0m\u001b[1;33m\u001b[0m\u001b[0m\n\u001b[0;32m   3242\u001b[0m         \u001b[0max\u001b[0m\u001b[1;33m.\u001b[0m\u001b[0m_hold\u001b[0m \u001b[1;33m=\u001b[0m \u001b[0mwashold\u001b[0m\u001b[1;33m\u001b[0m\u001b[0m\n",
      "\u001b[1;32mC:\\Users\\blond_000\\Anaconda2\\lib\\site-packages\\matplotlib\\__init__.pyc\u001b[0m in \u001b[0;36minner\u001b[1;34m(ax, *args, **kwargs)\u001b[0m\n\u001b[0;32m   1708\u001b[0m                     warnings.warn(msg % (label_namer, func.__name__),\n\u001b[0;32m   1709\u001b[0m                                   RuntimeWarning, stacklevel=2)\n\u001b[1;32m-> 1710\u001b[1;33m             \u001b[1;32mreturn\u001b[0m \u001b[0mfunc\u001b[0m\u001b[1;33m(\u001b[0m\u001b[0max\u001b[0m\u001b[1;33m,\u001b[0m \u001b[1;33m*\u001b[0m\u001b[0margs\u001b[0m\u001b[1;33m,\u001b[0m \u001b[1;33m**\u001b[0m\u001b[0mkwargs\u001b[0m\u001b[1;33m)\u001b[0m\u001b[1;33m\u001b[0m\u001b[0m\n\u001b[0m\u001b[0;32m   1711\u001b[0m         \u001b[0mpre_doc\u001b[0m \u001b[1;33m=\u001b[0m \u001b[0minner\u001b[0m\u001b[1;33m.\u001b[0m\u001b[0m__doc__\u001b[0m\u001b[1;33m\u001b[0m\u001b[0m\n\u001b[0;32m   1712\u001b[0m         \u001b[1;32mif\u001b[0m \u001b[0mpre_doc\u001b[0m \u001b[1;32mis\u001b[0m \u001b[0mNone\u001b[0m\u001b[1;33m:\u001b[0m\u001b[1;33m\u001b[0m\u001b[0m\n",
      "\u001b[1;32mC:\\Users\\blond_000\\Anaconda2\\lib\\site-packages\\matplotlib\\axes\\_axes.pyc\u001b[0m in \u001b[0;36mplot\u001b[1;34m(self, *args, **kwargs)\u001b[0m\n\u001b[0;32m   1435\u001b[0m         \u001b[0mkwargs\u001b[0m \u001b[1;33m=\u001b[0m \u001b[0mcbook\u001b[0m\u001b[1;33m.\u001b[0m\u001b[0mnormalize_kwargs\u001b[0m\u001b[1;33m(\u001b[0m\u001b[0mkwargs\u001b[0m\u001b[1;33m,\u001b[0m \u001b[0m_alias_map\u001b[0m\u001b[1;33m)\u001b[0m\u001b[1;33m\u001b[0m\u001b[0m\n\u001b[0;32m   1436\u001b[0m \u001b[1;33m\u001b[0m\u001b[0m\n\u001b[1;32m-> 1437\u001b[1;33m         \u001b[1;32mfor\u001b[0m \u001b[0mline\u001b[0m \u001b[1;32min\u001b[0m \u001b[0mself\u001b[0m\u001b[1;33m.\u001b[0m\u001b[0m_get_lines\u001b[0m\u001b[1;33m(\u001b[0m\u001b[1;33m*\u001b[0m\u001b[0margs\u001b[0m\u001b[1;33m,\u001b[0m \u001b[1;33m**\u001b[0m\u001b[0mkwargs\u001b[0m\u001b[1;33m)\u001b[0m\u001b[1;33m:\u001b[0m\u001b[1;33m\u001b[0m\u001b[0m\n\u001b[0m\u001b[0;32m   1438\u001b[0m             \u001b[0mself\u001b[0m\u001b[1;33m.\u001b[0m\u001b[0madd_line\u001b[0m\u001b[1;33m(\u001b[0m\u001b[0mline\u001b[0m\u001b[1;33m)\u001b[0m\u001b[1;33m\u001b[0m\u001b[0m\n\u001b[0;32m   1439\u001b[0m             \u001b[0mlines\u001b[0m\u001b[1;33m.\u001b[0m\u001b[0mappend\u001b[0m\u001b[1;33m(\u001b[0m\u001b[0mline\u001b[0m\u001b[1;33m)\u001b[0m\u001b[1;33m\u001b[0m\u001b[0m\n",
      "\u001b[1;32mC:\\Users\\blond_000\\Anaconda2\\lib\\site-packages\\matplotlib\\axes\\_base.pyc\u001b[0m in \u001b[0;36m_grab_next_args\u001b[1;34m(self, *args, **kwargs)\u001b[0m\n\u001b[0;32m    402\u001b[0m                 \u001b[0mthis\u001b[0m \u001b[1;33m+=\u001b[0m \u001b[0margs\u001b[0m\u001b[1;33m[\u001b[0m\u001b[1;36m0\u001b[0m\u001b[1;33m]\u001b[0m\u001b[1;33m,\u001b[0m\u001b[1;33m\u001b[0m\u001b[0m\n\u001b[0;32m    403\u001b[0m                 \u001b[0margs\u001b[0m \u001b[1;33m=\u001b[0m \u001b[0margs\u001b[0m\u001b[1;33m[\u001b[0m\u001b[1;36m1\u001b[0m\u001b[1;33m:\u001b[0m\u001b[1;33m]\u001b[0m\u001b[1;33m\u001b[0m\u001b[0m\n\u001b[1;32m--> 404\u001b[1;33m             \u001b[1;32mfor\u001b[0m \u001b[0mseg\u001b[0m \u001b[1;32min\u001b[0m \u001b[0mself\u001b[0m\u001b[1;33m.\u001b[0m\u001b[0m_plot_args\u001b[0m\u001b[1;33m(\u001b[0m\u001b[0mthis\u001b[0m\u001b[1;33m,\u001b[0m \u001b[0mkwargs\u001b[0m\u001b[1;33m)\u001b[0m\u001b[1;33m:\u001b[0m\u001b[1;33m\u001b[0m\u001b[0m\n\u001b[0m\u001b[0;32m    405\u001b[0m                 \u001b[1;32myield\u001b[0m \u001b[0mseg\u001b[0m\u001b[1;33m\u001b[0m\u001b[0m\n\u001b[0;32m    406\u001b[0m \u001b[1;33m\u001b[0m\u001b[0m\n",
      "\u001b[1;32mC:\\Users\\blond_000\\Anaconda2\\lib\\site-packages\\matplotlib\\axes\\_base.pyc\u001b[0m in \u001b[0;36m_plot_args\u001b[1;34m(self, tup, kwargs)\u001b[0m\n\u001b[0;32m    382\u001b[0m             \u001b[0mx\u001b[0m\u001b[1;33m,\u001b[0m \u001b[0my\u001b[0m \u001b[1;33m=\u001b[0m \u001b[0mindex_of\u001b[0m\u001b[1;33m(\u001b[0m\u001b[0mtup\u001b[0m\u001b[1;33m[\u001b[0m\u001b[1;33m-\u001b[0m\u001b[1;36m1\u001b[0m\u001b[1;33m]\u001b[0m\u001b[1;33m)\u001b[0m\u001b[1;33m\u001b[0m\u001b[0m\n\u001b[0;32m    383\u001b[0m \u001b[1;33m\u001b[0m\u001b[0m\n\u001b[1;32m--> 384\u001b[1;33m         \u001b[0mx\u001b[0m\u001b[1;33m,\u001b[0m \u001b[0my\u001b[0m \u001b[1;33m=\u001b[0m \u001b[0mself\u001b[0m\u001b[1;33m.\u001b[0m\u001b[0m_xy_from_xy\u001b[0m\u001b[1;33m(\u001b[0m\u001b[0mx\u001b[0m\u001b[1;33m,\u001b[0m \u001b[0my\u001b[0m\u001b[1;33m)\u001b[0m\u001b[1;33m\u001b[0m\u001b[0m\n\u001b[0m\u001b[0;32m    385\u001b[0m \u001b[1;33m\u001b[0m\u001b[0m\n\u001b[0;32m    386\u001b[0m         \u001b[1;32mif\u001b[0m \u001b[0mself\u001b[0m\u001b[1;33m.\u001b[0m\u001b[0mcommand\u001b[0m \u001b[1;33m==\u001b[0m \u001b[1;34m'plot'\u001b[0m\u001b[1;33m:\u001b[0m\u001b[1;33m\u001b[0m\u001b[0m\n",
      "\u001b[1;32mC:\\Users\\blond_000\\Anaconda2\\lib\\site-packages\\matplotlib\\axes\\_base.pyc\u001b[0m in \u001b[0;36m_xy_from_xy\u001b[1;34m(self, x, y)\u001b[0m\n\u001b[0;32m    241\u001b[0m         \u001b[1;32mif\u001b[0m \u001b[0mx\u001b[0m\u001b[1;33m.\u001b[0m\u001b[0mshape\u001b[0m\u001b[1;33m[\u001b[0m\u001b[1;36m0\u001b[0m\u001b[1;33m]\u001b[0m \u001b[1;33m!=\u001b[0m \u001b[0my\u001b[0m\u001b[1;33m.\u001b[0m\u001b[0mshape\u001b[0m\u001b[1;33m[\u001b[0m\u001b[1;36m0\u001b[0m\u001b[1;33m]\u001b[0m\u001b[1;33m:\u001b[0m\u001b[1;33m\u001b[0m\u001b[0m\n\u001b[0;32m    242\u001b[0m             raise ValueError(\"x and y must have same first dimension, but \"\n\u001b[1;32m--> 243\u001b[1;33m                              \"have shapes {} and {}\".format(x.shape, y.shape))\n\u001b[0m\u001b[0;32m    244\u001b[0m         \u001b[1;32mif\u001b[0m \u001b[0mx\u001b[0m\u001b[1;33m.\u001b[0m\u001b[0mndim\u001b[0m \u001b[1;33m>\u001b[0m \u001b[1;36m2\u001b[0m \u001b[1;32mor\u001b[0m \u001b[0my\u001b[0m\u001b[1;33m.\u001b[0m\u001b[0mndim\u001b[0m \u001b[1;33m>\u001b[0m \u001b[1;36m2\u001b[0m\u001b[1;33m:\u001b[0m\u001b[1;33m\u001b[0m\u001b[0m\n\u001b[0;32m    245\u001b[0m             raise ValueError(\"x and y can be no greater than 2-D, but have \"\n",
      "\u001b[1;31mValueError\u001b[0m: x and y must have same first dimension, but have shapes (7L,) and (3L,)"
     ]
    }
   ],
   "source": [
    "from sklearn.preprocessing import StandardScaler,PolynomialFeatures\n",
    "# For each column, fill with mean value.\n",
    "polynomial_order = 2\n",
    "all_rmsle_train = []\n",
    "all_rmsle_val = []\n",
    "experiments=[]\n",
    "poly_range = range(1, 8)\n",
    "i = 0\n",
    "\n",
    "for n in range(polynomial_order+1):\n",
    "    \n",
    "    # Create polynomial features\n",
    "    polynomial_order = n\n",
    "    poly = PolynomialFeatures(polynomial_order)\n",
    "    x_train_features = poly.fit_transform(x_train)\n",
    "    x_val_features = poly.fit_transform(x_val)\n",
    "    \n",
    "    # Standardize features using sklearn Standardscaler\n",
    "    scaler = StandardScaler()\n",
    "    scaler = scaler.fit(x_train_features)\n",
    "    x_train_features = scaler.transform(x_train_features)\n",
    "    x_val_features = scaler.transform(x_val_features)\n",
    " \n",
    "    # Train a simple linear regression algorithm\n",
    "    clf = LogisticRegression()\n",
    "    model = clf.fit(x_train_features, y_train)\n",
    "    \n",
    "    # Make prediction on train, validation and test set.\n",
    "    pred_train = pd.Series(model.predict(x_train_features), index=y_train.index).apply(lambda el: 1e-6 if el < 0 else el)\n",
    "    pred_val = pd.Series(model.predict(x_val_features), index=y_val.index).apply(lambda el: 1e-6 if el < 0 else el)\n",
    "    \n",
    "    # Compute MSLE evaluation metrics\n",
    "    rmsle_train = compute_rmsle(y_train, pred_train)\n",
    "    rmsle_val = compute_rmsle(y_val, pred_val)\n",
    "    all_rmsle_train.append(rmsle_train)\n",
    "    all_rmsle_val.append(rmsle_val)\n",
    "    experiments.append(i)\n",
    "    i += 1\n",
    "\n",
    "plt.plot(poly_range, all_rmsle_train)\n",
    "plt.plot(poly_range, all_rmsle_val, color=\"g\")\n",
    "plt.xlabel(\"Experiments (increasing polynomial order)\")\n",
    "plt.ylabel((\"Root Mean Square Logarithm Error\"))\n",
    "plt.title(\"Learning Curves -  polynom order\")\n",
    "plt.show()"
   ]
  },
  {
   "cell_type": "code",
   "execution_count": null,
   "metadata": {
    "collapsed": true
   },
   "outputs": [],
   "source": [
    "pred_train = model.predict(x_train[my_features])\n",
    "pred_val = cross_val_predict(clf, x_train[my_features], y_train, cv=5)\n",
    "\n",
    "from sklearn.metrics import accuracy_score\n",
    "\n",
    "print(\"--- train dataset results :\")\n",
    "train_acc = accuracy_score(y_train, pred_train)\n",
    "cross_train = pd.crosstab(y_train, pred_train)\n",
    "print(cross_train)\n",
    "print(\"Accuracy = %s\" % train_acc)\n",
    "\n",
    "print(\"\\n--- validation set results :\")\n",
    "val_acc = accuracy_score(y_train, pred_val)\n",
    "cross_val = pd.crosstab(y_train, pred_val)\n",
    "print(cross_val)\n",
    "print(\"Accuracy = %s\" % val_acc)"
   ]
  },
  {
   "cell_type": "code",
   "execution_count": null,
   "metadata": {
    "collapsed": true
   },
   "outputs": [],
   "source": [
    "check_test(len(random_features), 5, \"error : we are testing a vanilla model with 5 features\")"
   ]
  },
  {
   "cell_type": "markdown",
   "metadata": {},
   "source": [
    "## Evaluate results of vanilla logistic regression\n",
    "\n",
    "Classification metrics for this lab is AUC (Area Under ROC curve). Sklearn provides an implementation of this metrics [here](http://scikit-learn.org/stable/modules/generated/sklearn.metrics.roc_auc_score.html). According to you, which classification metrics would also be relevant with regards to lab2 usecase?"
   ]
  },
  {
   "cell_type": "code",
   "execution_count": 73,
   "metadata": {
    "collapsed": false
   },
   "outputs": [
    {
     "ename": "ValueError",
     "evalue": "Number of features of the model must match the input. Model n_features is 64 and input n_features is 11 ",
     "output_type": "error",
     "traceback": [
      "\u001b[1;31m---------------------------------------------------------------------------\u001b[0m",
      "\u001b[1;31mValueError\u001b[0m                                Traceback (most recent call last)",
      "\u001b[1;32m<ipython-input-73-5cfdf4a079fb>\u001b[0m in \u001b[0;36m<module>\u001b[1;34m()\u001b[0m\n\u001b[0;32m      1\u001b[0m \u001b[1;32mfrom\u001b[0m \u001b[0msklearn\u001b[0m\u001b[1;33m.\u001b[0m\u001b[0mmetrics\u001b[0m \u001b[1;32mimport\u001b[0m \u001b[0mroc_auc_score\u001b[0m\u001b[1;33m,\u001b[0m\u001b[0mroc_curve\u001b[0m\u001b[1;33m,\u001b[0m\u001b[0mauc\u001b[0m\u001b[1;33m\u001b[0m\u001b[0m\n\u001b[0;32m      2\u001b[0m \u001b[1;33m\u001b[0m\u001b[0m\n\u001b[1;32m----> 3\u001b[1;33m \u001b[0mpred_val\u001b[0m \u001b[1;33m=\u001b[0m \u001b[0mmodel\u001b[0m\u001b[1;33m.\u001b[0m\u001b[0mpredict_proba\u001b[0m\u001b[1;33m(\u001b[0m\u001b[0mx_val\u001b[0m\u001b[1;33m[\u001b[0m\u001b[0mmy_features\u001b[0m\u001b[1;33m]\u001b[0m\u001b[1;33m)\u001b[0m\u001b[1;33m[\u001b[0m\u001b[1;33m:\u001b[0m\u001b[1;33m,\u001b[0m\u001b[1;36m1\u001b[0m\u001b[1;33m]\u001b[0m\u001b[1;33m\u001b[0m\u001b[0m\n\u001b[0m\u001b[0;32m      4\u001b[0m \u001b[1;33m\u001b[0m\u001b[0m\n\u001b[0;32m      5\u001b[0m \u001b[1;31m#roc_auc_score(y_train,pred_train), roc_auc_score(y_val,pred_val)\u001b[0m\u001b[1;33m\u001b[0m\u001b[1;33m\u001b[0m\u001b[0m\n",
      "\u001b[1;32mC:\\Users\\blond_000\\Anaconda2\\lib\\site-packages\\sklearn\\ensemble\\forest.pyc\u001b[0m in \u001b[0;36mpredict_proba\u001b[1;34m(self, X)\u001b[0m\n\u001b[0;32m    576\u001b[0m         \u001b[0mcheck_is_fitted\u001b[0m\u001b[1;33m(\u001b[0m\u001b[0mself\u001b[0m\u001b[1;33m,\u001b[0m \u001b[1;34m'estimators_'\u001b[0m\u001b[1;33m)\u001b[0m\u001b[1;33m\u001b[0m\u001b[0m\n\u001b[0;32m    577\u001b[0m         \u001b[1;31m# Check data\u001b[0m\u001b[1;33m\u001b[0m\u001b[1;33m\u001b[0m\u001b[0m\n\u001b[1;32m--> 578\u001b[1;33m         \u001b[0mX\u001b[0m \u001b[1;33m=\u001b[0m \u001b[0mself\u001b[0m\u001b[1;33m.\u001b[0m\u001b[0m_validate_X_predict\u001b[0m\u001b[1;33m(\u001b[0m\u001b[0mX\u001b[0m\u001b[1;33m)\u001b[0m\u001b[1;33m\u001b[0m\u001b[0m\n\u001b[0m\u001b[0;32m    579\u001b[0m \u001b[1;33m\u001b[0m\u001b[0m\n\u001b[0;32m    580\u001b[0m         \u001b[1;31m# Assign chunk of trees to jobs\u001b[0m\u001b[1;33m\u001b[0m\u001b[1;33m\u001b[0m\u001b[0m\n",
      "\u001b[1;32mC:\\Users\\blond_000\\Anaconda2\\lib\\site-packages\\sklearn\\ensemble\\forest.pyc\u001b[0m in \u001b[0;36m_validate_X_predict\u001b[1;34m(self, X)\u001b[0m\n\u001b[0;32m    355\u001b[0m                                  \"call `fit` before exploiting the model.\")\n\u001b[0;32m    356\u001b[0m \u001b[1;33m\u001b[0m\u001b[0m\n\u001b[1;32m--> 357\u001b[1;33m         \u001b[1;32mreturn\u001b[0m \u001b[0mself\u001b[0m\u001b[1;33m.\u001b[0m\u001b[0mestimators_\u001b[0m\u001b[1;33m[\u001b[0m\u001b[1;36m0\u001b[0m\u001b[1;33m]\u001b[0m\u001b[1;33m.\u001b[0m\u001b[0m_validate_X_predict\u001b[0m\u001b[1;33m(\u001b[0m\u001b[0mX\u001b[0m\u001b[1;33m,\u001b[0m \u001b[0mcheck_input\u001b[0m\u001b[1;33m=\u001b[0m\u001b[0mTrue\u001b[0m\u001b[1;33m)\u001b[0m\u001b[1;33m\u001b[0m\u001b[0m\n\u001b[0m\u001b[0;32m    358\u001b[0m \u001b[1;33m\u001b[0m\u001b[0m\n\u001b[0;32m    359\u001b[0m     \u001b[1;33m@\u001b[0m\u001b[0mproperty\u001b[0m\u001b[1;33m\u001b[0m\u001b[0m\n",
      "\u001b[1;32mC:\\Users\\blond_000\\Anaconda2\\lib\\site-packages\\sklearn\\tree\\tree.pyc\u001b[0m in \u001b[0;36m_validate_X_predict\u001b[1;34m(self, X, check_input)\u001b[0m\n\u001b[0;32m    382\u001b[0m                              \u001b[1;34m\"match the input. Model n_features is %s and \"\u001b[0m\u001b[1;33m\u001b[0m\u001b[0m\n\u001b[0;32m    383\u001b[0m                              \u001b[1;34m\"input n_features is %s \"\u001b[0m\u001b[1;33m\u001b[0m\u001b[0m\n\u001b[1;32m--> 384\u001b[1;33m                              % (self.n_features_, n_features))\n\u001b[0m\u001b[0;32m    385\u001b[0m \u001b[1;33m\u001b[0m\u001b[0m\n\u001b[0;32m    386\u001b[0m         \u001b[1;32mreturn\u001b[0m \u001b[0mX\u001b[0m\u001b[1;33m\u001b[0m\u001b[0m\n",
      "\u001b[1;31mValueError\u001b[0m: Number of features of the model must match the input. Model n_features is 64 and input n_features is 11 "
     ]
    }
   ],
   "source": [
    "from sklearn.metrics import roc_auc_score,roc_curve,auc\n",
    "\n",
    "pred_val = model.predict_proba(x_val[my_features])[:,1]\n",
    "\n",
    "#roc_auc_score(y_train,pred_train), roc_auc_score(y_val,pred_val)"
   ]
  },
  {
   "cell_type": "markdown",
   "metadata": {},
   "source": [
    "## Other things you can try\n",
    "\n",
    "Once again, there are a lot ot experiments you can try. If you lack in ideas, here are some you can try :\n",
    "\n",
    "- Test multiple machine learning algorithms we have seen during lectures.\n",
    "- Test different combinations of hyperparameters.\n",
    "- Test different sets of features.\n",
    "- Interpret your results with regards to underfitting-overfitting tradeoff.\n",
    "- Look at residuals. Plot learning curves.\n",
    "- Search for optimal configuration. \n",
    "- Provide interpretation.\n",
    "- ...\n",
    "\n",
    "It is good to test different machine learning algorithms and configurations. Some algorithms are more suited than others depending of use-case. Moreover, learning is really sensitive to hyperparameters you provide. Exploring your results by learning curves will help you diagnose your models. Time to apply what you have learned during lectures! "
   ]
  },
  {
   "cell_type": "markdown",
   "metadata": {},
   "source": [
    "# Step 4 - Final run\n",
    "\n",
    "According to previous steps results and your own interpretation, run your best machine learning algorithm and make probabilities predictions for test set. Then export your results and make submission on Kaggle platform."
   ]
  },
  {
   "cell_type": "markdown",
   "metadata": {},
   "source": [
    "## Run best model and make prediction on test set\n",
    "\n",
    "For this first experiment, use again vanilla logisic regresson we have experimented in step 3. Make probabilities predictions on test set and assign results to variable **proba_test**."
   ]
  },
  {
   "cell_type": "markdown",
   "metadata": {},
   "source": [
    "### PCA"
   ]
  },
  {
   "cell_type": "code",
   "execution_count": 74,
   "metadata": {
    "collapsed": true
   },
   "outputs": [],
   "source": [
    " from sklearn.decomposition import PCA\n",
    "    \n",
    "pca = PCA(n_components=10)\n",
    "x_train_transform = pca.fit_transform(x_train[my_features])\n",
    "x_val_transform = pca.fit_transform(x_val[my_features])"
   ]
  },
  {
   "cell_type": "code",
   "execution_count": 75,
   "metadata": {
    "collapsed": false
   },
   "outputs": [
    {
     "data": {
      "text/plain": [
       "0.44584197681513116"
      ]
     },
     "execution_count": 75,
     "metadata": {},
     "output_type": "execute_result"
    }
   ],
   "source": [
    "from sklearn.ensemble import RandomForestClassifier\n",
    "\n",
    "clf = RandomForestClassifier(max_depth=3,min_samples_leaf=3)\n",
    "model = clf.fit(x_train_transform,y_train)\n",
    "pred_val = model.predict_proba(x_val_transform)[:,1]\n",
    "roc_auc_score(y_val,pred_val)"
   ]
  },
  {
   "cell_type": "code",
   "execution_count": 76,
   "metadata": {
    "collapsed": false
   },
   "outputs": [
    {
     "data": {
      "text/plain": [
       "0.49306894447834049"
      ]
     },
     "execution_count": 76,
     "metadata": {},
     "output_type": "execute_result"
    }
   ],
   "source": [
    "from sklearn.linear_model import Lasso\n",
    "\n",
    "clf = Lasso(alpha=0.285)\n",
    "model = clf.fit(x_train,y_train)\n",
    "pred_val = model.predict(x_val)\n",
    "roc_auc_score(y_val,pred_val)"
   ]
  },
  {
   "cell_type": "code",
   "execution_count": 77,
   "metadata": {
    "collapsed": false
   },
   "outputs": [
    {
     "ename": "NameError",
     "evalue": "name 'DecisionTreeRegressor' is not defined",
     "output_type": "error",
     "traceback": [
      "\u001b[1;31m---------------------------------------------------------------------------\u001b[0m",
      "\u001b[1;31mNameError\u001b[0m                                 Traceback (most recent call last)",
      "\u001b[1;32m<ipython-input-77-955f3d6f31de>\u001b[0m in \u001b[0;36m<module>\u001b[1;34m()\u001b[0m\n\u001b[1;32m----> 1\u001b[1;33m \u001b[0mclf\u001b[0m \u001b[1;33m=\u001b[0m \u001b[0mDecisionTreeRegressor\u001b[0m\u001b[1;33m(\u001b[0m\u001b[0mmax_depth\u001b[0m\u001b[1;33m=\u001b[0m\u001b[1;36m7\u001b[0m\u001b[1;33m,\u001b[0m\u001b[0mmin_samples_leaf\u001b[0m\u001b[1;33m=\u001b[0m\u001b[1;36m0.16556\u001b[0m\u001b[1;33m)\u001b[0m\u001b[1;33m\u001b[0m\u001b[0m\n\u001b[0m\u001b[0;32m      2\u001b[0m \u001b[0mmodel\u001b[0m \u001b[1;33m=\u001b[0m \u001b[0mclf\u001b[0m\u001b[1;33m.\u001b[0m\u001b[0mfit\u001b[0m\u001b[1;33m(\u001b[0m\u001b[0mx_train\u001b[0m\u001b[1;33m[\u001b[0m\u001b[0mmy_features\u001b[0m\u001b[1;33m]\u001b[0m\u001b[1;33m,\u001b[0m\u001b[0my_train\u001b[0m\u001b[1;33m)\u001b[0m\u001b[1;33m\u001b[0m\u001b[0m\n\u001b[0;32m      3\u001b[0m \u001b[0mpred_val\u001b[0m \u001b[1;33m=\u001b[0m \u001b[0mmodel\u001b[0m\u001b[1;33m.\u001b[0m\u001b[0mpredict\u001b[0m\u001b[1;33m(\u001b[0m\u001b[0mx_val\u001b[0m\u001b[1;33m[\u001b[0m\u001b[0mmy_features\u001b[0m\u001b[1;33m]\u001b[0m\u001b[1;33m)\u001b[0m\u001b[1;33m\u001b[0m\u001b[0m\n\u001b[0;32m      4\u001b[0m \u001b[0mroc_auc_score\u001b[0m\u001b[1;33m(\u001b[0m\u001b[0my_val\u001b[0m\u001b[1;33m,\u001b[0m\u001b[0mpred_val\u001b[0m\u001b[1;33m)\u001b[0m\u001b[1;33m\u001b[0m\u001b[0m\n",
      "\u001b[1;31mNameError\u001b[0m: name 'DecisionTreeRegressor' is not defined"
     ]
    }
   ],
   "source": [
    "clf = DecisionTreeRegressor(max_depth=7,min_samples_leaf=0.16556)\n",
    "model = clf.fit(x_train[my_features],y_train)\n",
    "pred_val = model.predict(x_val[my_features])\n",
    "roc_auc_score(y_val,pred_val)"
   ]
  },
  {
   "cell_type": "markdown",
   "metadata": {},
   "source": [
    "### Decision Trees"
   ]
  },
  {
   "cell_type": "code",
   "execution_count": 78,
   "metadata": {
    "collapsed": false
   },
   "outputs": [
    {
     "data": {
      "text/plain": [
       "0.68388143176733784"
      ]
     },
     "execution_count": 78,
     "metadata": {},
     "output_type": "execute_result"
    }
   ],
   "source": [
    "from sklearn.ensemble import RandomForestRegressor\n",
    "\n",
    "clf = RandomForestRegressor()\n",
    "model = clf.fit(x_train[my_features],y_train)\n",
    "pred_val = model.predict(x_val[my_features])\n",
    "roc_auc_score(y_val,pred_val)"
   ]
  },
  {
   "cell_type": "code",
   "execution_count": 79,
   "metadata": {
    "collapsed": false
   },
   "outputs": [
    {
     "data": {
      "text/plain": [
       "0.64517490339637995"
      ]
     },
     "execution_count": 79,
     "metadata": {},
     "output_type": "execute_result"
    }
   ],
   "source": [
    "from sklearn.ensemble import RandomForestClassifier\n",
    "\n",
    "clf = RandomForestClassifier()\n",
    "model = clf.fit(x_train[my_features],y_train)\n",
    "pred_val = model.predict_proba(x_val[my_features])[:,1]\n",
    "roc_auc_score(y_val,pred_val)"
   ]
  },
  {
   "cell_type": "markdown",
   "metadata": {},
   "source": [
    "### ExtraTrees"
   ]
  },
  {
   "cell_type": "code",
   "execution_count": 80,
   "metadata": {
    "collapsed": false
   },
   "outputs": [
    {
     "data": {
      "text/plain": [
       "0.5889851535489119"
      ]
     },
     "execution_count": 80,
     "metadata": {},
     "output_type": "execute_result"
    }
   ],
   "source": [
    "from sklearn.ensemble import ExtraTreesRegressor\n",
    "\n",
    "clf = ExtraTreesRegressor()\n",
    "model = clf.fit(x_train[my_features],y_train)\n",
    "pred_val = model.predict(x_val[my_features])\n",
    "roc_auc_score(y_val,pred_val)"
   ]
  },
  {
   "cell_type": "code",
   "execution_count": 81,
   "metadata": {
    "collapsed": false
   },
   "outputs": [
    {
     "data": {
      "text/plain": [
       "1.0"
      ]
     },
     "execution_count": 81,
     "metadata": {},
     "output_type": "execute_result"
    }
   ],
   "source": [
    "from sklearn.ensemble import ExtraTreesClassifier\n",
    "\n",
    "clf = ExtraTreesClassifier()\n",
    "model = clf.fit(x_train,y_train)\n",
    "pred_val = model.predict_proba(x_val)[:,1]\n",
    "roc_auc_score(y_val,pred_val)\n",
    "\n",
    "# test_score = 0.5"
   ]
  },
  {
   "cell_type": "markdown",
   "metadata": {},
   "source": [
    "### Gradient Boosting"
   ]
  },
  {
   "cell_type": "code",
   "execution_count": 82,
   "metadata": {
    "collapsed": false
   },
   "outputs": [
    {
     "data": {
      "text/plain": [
       "0.75410006101281268"
      ]
     },
     "execution_count": 82,
     "metadata": {},
     "output_type": "execute_result"
    }
   ],
   "source": [
    "from sklearn.ensemble import GradientBoostingRegressor\n",
    "\n",
    "clf = GradientBoostingRegressor(max_depth=7,min_samples_leaf=0.16556,learning_rate=0.21)\n",
    "model = clf.fit(x_train[my_features],y_train)\n",
    "pred_val = model.predict(x_val[my_features])\n",
    "roc_auc_score(y_val,pred_val)"
   ]
  },
  {
   "cell_type": "code",
   "execution_count": 83,
   "metadata": {
    "collapsed": false
   },
   "outputs": [
    {
     "data": {
      "text/plain": [
       "0.76086638194020739"
      ]
     },
     "execution_count": 83,
     "metadata": {},
     "output_type": "execute_result"
    }
   ],
   "source": [
    "from sklearn.ensemble import GradientBoostingClassifier\n",
    "\n",
    "clf = GradientBoostingClassifier(max_depth=7,min_samples_leaf=0.16556,learning_rate=0.21)\n",
    "model = clf.fit(x_train[my_features],y_train)\n",
    "pred_val = model.predict_proba(x_val[my_features])[:,1]\n",
    "roc_auc_score(y_val,pred_val)\n",
    "\n",
    "# test_score = 0.5"
   ]
  },
  {
   "cell_type": "markdown",
   "metadata": {},
   "source": [
    "### ParameterGrid"
   ]
  },
  {
   "cell_type": "code",
   "execution_count": null,
   "metadata": {
    "collapsed": true
   },
   "outputs": [],
   "source": [
    "param_grid = {'max_depth':[12], 'n_estimators':[400],'max_features':[5,10,15],\"min_samples_leaf\":[1,10,30],\"min_samples_split\":[50,70],\"n_jobs\":[-1]}\n",
    "\n",
    "from sklearn.model_selection import ParameterGrid\n",
    "\n",
    "roc_score =0\n",
    "\n",
    "for conf in ParameterGrid(param_grid):\n",
    "    clf=RandomForestClassifier(**conf)\n",
    "    model = clf.fit(x_train,y_train)\n",
    "    pred_val = model.predict_proba(x_val)[:,1]\n",
    "    if roc_auc_score(y_val,pred_val) > roc_score:\n",
    "        roc_score = roc_auc_score(y_val,pred_val)\n",
    "        configuration = conf\n",
    "    \n",
    "configuration"
   ]
  },
  {
   "cell_type": "code",
   "execution_count": null,
   "metadata": {
    "collapsed": true
   },
   "outputs": [],
   "source": [
    "### Compute ROC curve and ROC area for predictions on validation set\n",
    "fpr, tpr, _ = roc_curve(y_val, pred_val)\n",
    "roc_auc = auc(fpr, tpr)\n",
    "\n",
    "### Plot\n",
    "plt.figure()\n",
    "lw = 2\n",
    "plt.plot(fpr, tpr, color='darkorange',\n",
    "         lw=lw, label='ROC curve (area = %0.2f)' % roc_auc)\n",
    "plt.plot([0, 1], [0, 1], color='navy', lw=lw, linestyle='--')\n",
    "plt.xlim([0.0, 1.0])\n",
    "plt.ylim([0.0, 1.05])\n",
    "plt.xlabel('False Positive Rate')\n",
    "plt.ylabel('True Positive Rate')\n",
    "plt.title('Receiver operating characteristic example')\n",
    "plt.legend(loc=\"lower right\")\n",
    "plt.show()"
   ]
  },
  {
   "cell_type": "code",
   "execution_count": null,
   "metadata": {
    "collapsed": true
   },
   "outputs": [],
   "source": [
    "check_test(proba_test.shape, (3466,), \"wrong shape for proba test\")"
   ]
  },
  {
   "cell_type": "markdown",
   "metadata": {},
   "source": [
    "## Evaluate best model\n",
    "\n",
    "Our best machine learning algorithm yields following results : "
   ]
  },
  {
   "cell_type": "code",
   "execution_count": null,
   "metadata": {
    "collapsed": true
   },
   "outputs": [],
   "source": [
    "proba_test = roc_auc_score(y_val,pred_val)"
   ]
  },
  {
   "cell_type": "markdown",
   "metadata": {},
   "source": [
    "## Interpretation"
   ]
  },
  {
   "cell_type": "markdown",
   "metadata": {},
   "source": [
    "-> Your interpretation may go here."
   ]
  },
  {
   "cell_type": "markdown",
   "metadata": {},
   "source": [
    "## Export submission to Kaggle\n",
    "\n",
    "You can export your predictions as a submission file using function export_kaggle() defined earlier in the notebook. Then go on Kaggle competition page and submit your predictions. Your can observe your performance on leaderboard page."
   ]
  },
  {
   "cell_type": "code",
   "execution_count": null,
   "metadata": {
    "collapsed": true
   },
   "outputs": [],
   "source": [
    "df_submit = export_kaggle(df_test, proba_test, True, \"C:/Users/blond_000/Documents/Big Data/Kaggle/results/my_second_submission.csv\")"
   ]
  },
  {
   "cell_type": "markdown",
   "metadata": {},
   "source": [
    "## Conclusion"
   ]
  },
  {
   "cell_type": "markdown",
   "metadata": {},
   "source": [
    "You can write your work conclusion in this cell.."
   ]
  },
  {
   "cell_type": "markdown",
   "metadata": {},
   "source": [
    "## Other things you can try\n",
    "\n",
    "If you lack in ideas, here are some you can try :\n",
    "\n",
    "- Evaluate final model on train, validation and test set. Diagnose your model results.\n",
    "- By playing on decision boundary threshold, assign label to probabilities predictions.\n",
    "- Using thresholds, display confusion matrix for different thresholds.\n",
    "- take a look on other relevant evaluation metrics with regards to usecase. Justify.\n",
    "- Take a look on features importances.\n",
    "- Give conclusion;\n",
    "- ...\n",
    "\n",
    "Feel free to provide your own interpretations and justifications. Here is your notebook and work !"
   ]
  },
  {
   "cell_type": "code",
   "execution_count": null,
   "metadata": {
    "collapsed": true
   },
   "outputs": [],
   "source": []
  }
 ],
 "metadata": {
  "anaconda-cloud": {},
  "kernelspec": {
   "display_name": "Python [conda root]",
   "language": "python",
   "name": "conda-root-py"
  },
  "language_info": {
   "codemirror_mode": {
    "name": "ipython",
    "version": 3
   },
   "file_extension": ".py",
   "mimetype": "text/x-python",
   "name": "python",
   "nbconvert_exporter": "python",
   "pygments_lexer": "ipython3",
   "version": "3.5.2"
  }
 },
 "nbformat": 4,
 "nbformat_minor": 1
}
