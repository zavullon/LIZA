{
 "cells": [
  {
   "attachments": {
    "master_203_pic.jpg": {
     "image/jpeg": "[encoded data removed]"
    }
   },
   "cell_type": "markdown",
   "metadata": {},
   "source": [
    "![master_203_pic.jpg](attachment:master_203_pic.jpg)"
   ]
  },
  {
   "cell_type": "markdown",
   "metadata": {},
   "source": [
    "## LAB 2 rules"
   ]
  },
  {
   "cell_type": "markdown",
   "metadata": {},
   "source": [
    "Assignment has to be done individually. Grades are between 0-20. The assignment counts for 50% of the final grade. You will be asked to build a whole machine learning pipeline and submit your predictions through the Kaggle competition interface. You will also have to submit your final notebook and relevant documents with regards to the following planning.\n",
    "\n",
    "- **Competition start date** : 25 February 2021 15:30\n",
    "- **Submissions dead line** : 24 March 2021, 23:59\n",
    "- **Work and notebook submission** : 31 March 2021, 23:59\n",
    "\n",
    "Final work submissions are made by email at vienne.thibaud@gmail.com. Zip your whole project with underlying folders, notebook and possible report. Email subject should start with [203_lab2]."
   ]
  },
  {
   "cell_type": "markdown",
   "metadata": {},
   "source": [
    "## Grades"
   ]
  },
  {
   "cell_type": "markdown",
   "metadata": {},
   "source": [
    "Your work will be marked out of 20 according to 2 criteria :\n",
    "\n",
    "- **Criteria 1 : Predictive model performance and ranking on ENS data challenge leaderboard ( / 7.5 points).**<br/>\n",
    "- **Criteria 2 : Relevance of the reported notebook ( / 12.5 points).**<br/>\n",
    "\n",
    "First criteria grade will be a mixture between your predictive model performance on the competition interface and your competition ranking. Criteria 2 refers to the submitted work relevance. At least you should provide a commented notebook but feel free to provide a small report. More precisely, second criteria grades will be assigned with regards to the following points : \n",
    "\n",
    "**Data exploration ( / 3 pts)** : \n",
    "\n",
    "> - Richness of exploration, analysis and charts provided.<br/>\n",
    "> - Relevance of interpretations and justifications provided.<br/>\n",
    "> - Personal initiatives.<br/>\n",
    "> - Your conclusions for following steps.<br/>\n",
    "\n",
    "**Machine learning pipeline ( / 7 pts)** : \n",
    "\n",
    "> - Relevance of implemented features, justifications and interpretations in data cleaning and features engineering.\n",
    "> - Relevance of implemented features, justifications and interpretations in machine learning algorithms.\n",
    "> - Relevance of justifications and interpretations in models evaluation procedure, results and models diagnostic.\n",
    "> - Personal initiatives.\n",
    "> - Your conclusions.\n",
    "\n",
    "**Notebook quality ( / 2.5 pts)** : \n",
    "\n",
    "> - Code clearness (structure of code, comments, written functions…)\n",
    "> - Notebook clearness (structure of notebook, markdown...).\n",
    "> - ..."
   ]
  },
  {
   "cell_type": "markdown",
   "metadata": {},
   "source": [
    "## Notebook description"
   ]
  },
  {
   "cell_type": "markdown",
   "metadata": {},
   "source": [
    "This notebook will be used during the first 3 inclass hours of the competition. Using it, we will try to create a first supervised machine learning model to predict the traded volume at a close auction. Moreover, this notebook also aims to provide a machine pipeline path you can use to structure your work and so success this lab. It is composed of the common machine learning steps :\n",
    "\n",
    "**Step 0 - Prerequisites** : this is where you will code all your prerequisites including python modules to import and your own functions. It also covers competition purpose and the data description.<br/><br/>\n",
    "**Step 1 - Exploration** : It is a common part in a machine learning pipeline. In this section, you will import datasets, discover the available features, provide some data mining observations, investigate missing values and possible outliers. You can also try to explore the dynamics behing the modelization. An exhaustive exploration is more likely to yield powerful predictive models.<br/><br/>\n",
    "**Step 2 - Features Engineering** : According to conclusions you get from exploration, you will process the provided data (cleaning, create new features, features selection...).<br/><br/>\n",
    "**Step 3 - Machine learning experiments** : In this part, you will test different machine learning algorithms and configurations. It is your sandbox before running the final machine learning model. You will also have to evaluate your results and interpret it.<br/><br/>\n",
    "**Step 4 - Final run** : According to the previous steps results and your own interpretation, run your best machine learning algorithm and make predictions for the test set. Then export your results and make a submission on the ENS data challenge platform. Conclude.<br/><br/>"
   ]
  },
  {
   "cell_type": "markdown",
   "metadata": {},
   "source": [
    "## How to success this lab?"
   ]
  },
  {
   "cell_type": "markdown",
   "metadata": {},
   "source": [
    "- Be organized. Work on a regular basis. The lab 2 requires time to yield good results.\n",
    "- Take time to explore data. It will help you to understand features and reach better scores.\n",
    "- Ask yourself questions. Be critical with results you get.\n",
    "- Diversify efforts on all parts of machine learning pipeline (exploration, cleaning, features engineering/selection, machine learning...).\n",
    "- Take initiatives. Try and test! \n",
    "- Keep trusting in yourself! you have all the needed knowledge to success this assignement! :)"
   ]
  },
  {
   "cell_type": "markdown",
   "metadata": {},
   "source": [
    "# Step 0 - Prerequisites "
   ]
  },
  {
   "cell_type": "markdown",
   "metadata": {},
   "source": [
    "## Aim of the competition"
   ]
  },
  {
   "cell_type": "markdown",
   "metadata": {},
   "source": [
    "In many stock exchanges, at the end of a trading day, an auction takes place for each stock. Each stock is then exchanged at a single price, based on the interest that market participants show in the auction.\n",
    "\n",
    "It is advantageous to do some trading during this auction instead of during the preceding continuous trading, as trading costs are usually lower.\n",
    "\n",
    "In addition, some market participants (day traders, market makers…) prefer to not hold stocks overnight, because events might affect the stock price between the close of the market and the price at the open on the next day (elections, company announcements, etc.), which may result in a loss. For these market participants, the auction is the last chance to limit such a risk, as it is an opportunity to get rid of their remaining stocks and not hold any overnight.\n",
    "\n",
    "For market participants that instead want to hold a specific number of stocks by the end of the day (asset managers…), the auction is their last chance to reach this target. This is in principle important, because they have optimized this number of stocks to hold. For example, if they predict that the price of a stock should rise, then it is in their interest to buy as much of the stock as possible, within the limits set by how much they can invest and by the financial risk that they are ready to take.\n",
    "\n",
    "Market participants may thus want to estimate the expected number of stocks available during the auction, as this allows them to gauge how many they can hope to buy or sell during this final, financially advantageous trading opportunity."
   ]
  },
  {
   "cell_type": "markdown",
   "metadata": {},
   "source": [
    "## About data"
   ]
  },
  {
   "cell_type": "markdown",
   "metadata": {},
   "source": [
    "The data consists of around 685k data points for the train dataset and 310k observations for the test set. Both datasets contain the same columns (except column **target** you have to predict for test dataset. As a competitor, you have to train your best machine learning algorithm to model the price of such exotic options.\n",
    "\n",
    "For each traded volume, 127 variables are provided : \n",
    "\n",
    "<ul>\n",
    "<li><strong>PID</strong> - a Product ID, that represents a stock.</li>\n",
    "<li><strong>day</strong> - day of the data sample, as an integer. The ordering is chronological, with day 0 coming before day 1, etc.</li>\n",
    "    <li><strong>abs_retn (n from 0 to 60)</strong> - <i>absolute values of stock returns</i> (relative price change) between the last known price (typically the price at the beginning of period n) and the end of period n (as a percentage), where the periods cover a good part of the trading day, don't overlap, and have the same duration. Return n=0 comes before return n=1, etc.</li>\n",
    "<li><strong>rel_voln</strong> - like abs_retn, but represents the traded stock volume as a fraction of the volume traded during the period covered (thus, they sum to 1, over a day). The periods are the same as for the returns.</li>\n",
    "<li><strong>LS and NLV</strong> - two quantities associated with the trades of the day for the stock in question. Their nature is kept undisclosed for this challenge.</li>\n",
    "</ul>"
   ]
  },
  {
   "cell_type": "markdown",
   "metadata": {},
   "source": [
    "## Classification metrics and submission format"
   ]
  },
  {
   "cell_type": "markdown",
   "metadata": {},
   "source": [
    "For this competiton, the predictions will be scored using the MSE evaluation metrics (Mean Squared Error). MSE is a commmon measure in regression problems."
   ]
  },
  {
   "cell_type": "markdown",
   "metadata": {},
   "source": [
    "## Load modules\n",
    "\n",
    "In this cell, you can put all modules you use. You can use it to provide a clear code."
   ]
  },
  {
   "cell_type": "code",
   "execution_count": 1,
   "metadata": {},
   "outputs": [],
   "source": [
    "import pandas as pd\n",
    "import numpy as np\n",
    "import matplotlib.pyplot as plt\n",
    "import seaborn as sns"
   ]
  },
  {
   "cell_type": "markdown",
   "metadata": {},
   "source": [
    "## Your functions\n",
    "\n",
    "In order to have a clear code, you can put all your own functions in this cell."
   ]
  },
  {
   "cell_type": "code",
   "execution_count": 2,
   "metadata": {},
   "outputs": [],
   "source": [
    "def export_ens(df_test, pred_test, save=True, path_save=\"y_test_prediction.csv\"):\n",
    "    \"\"\"\n",
    "    Export submissions with the good ENS data challenge format.\n",
    "    df_test : (pandas dataframe) test set\n",
    "    proba_test : (numpy ndarray) prediction as a numpy ndarray you get using method .predict()\n",
    "    save : (bool) if set to True, it will save csv submission in path_save path.\n",
    "    path_save : (str) path where to save submission.\n",
    "    return : dataframe for submission\n",
    "    \"\"\"\n",
    "    df_submit = pd.Series(pred_test, index=df_test.index, name=\"target\")\n",
    "    df_submit.to_csv(path_save, index=True)\n",
    "    return df_submit\n",
    "\n",
    "def check_test(result, expected, display_error):\n",
    "    \"\"\"\n",
    "    Testing your results.\n",
    "    \"\"\"\n",
    "    if result == expected:\n",
    "        print(\"1 test passed.\")\n",
    "    else:\n",
    "        print(display_error)"
   ]
  },
  {
   "cell_type": "markdown",
   "metadata": {},
   "source": [
    "# Step 1 - Data Exploration\n",
    "\n",
    "Data exploration is a common part in a machine learning pipeline. In this section, you will import datasets, discover  features, provide data mining observations, investigate missing values and possible outliers. An exhaustive exploration is more likely to yield prowerful predictive models.\n",
    "\n",
    "- Read the train dataset inputs and assign to the variable **df_train**.\n",
    "- Read the train dataset labels and assign to the variable **labels_train**.\n",
    "- Read the test dataset inputs and assign to the variable **df_test**.\n",
    "- Assign number of rows in train dataset and assign it to variable **n_rows_train**.\n",
    "- Assign number of rows in test dataset and assign it to variable **n_rows_test**."
   ]
  },
  {
   "cell_type": "markdown",
   "metadata": {},
   "source": [
    "## Load datasets"
   ]
  },
  {
   "cell_type": "code",
   "execution_count": 3,
   "metadata": {},
   "outputs": [],
   "source": [
    "df_train = pd.read_csv(\"../data/input_training.csv.gz\")\n",
    "df_y_train = pd.read_csv(\"../data/output_training.csv\")\n",
    "df_test = pd.read_csv(\"../data/input_test.csv.gz\")\n",
    "n_rows_train = df_train.shape[0]\n",
    "n_rows_test = df_test.shape[0]"
   ]
  },
  {
   "cell_type": "code",
   "execution_count": 4,
   "metadata": {},
   "outputs": [
    {
     "name": "stdout",
     "output_type": "stream",
     "text": [
      "1 test passed.\n",
      "1 test passed.\n"
     ]
    }
   ],
   "source": [
    "check_test(n_rows_train, 684482, \"wrong number of rows\")\n",
    "check_test(n_rows_test, 311744, \"wrong number of rows\")"
   ]
  },
  {
   "cell_type": "markdown",
   "metadata": {},
   "source": [
    "## Take a look on first rows\n",
    "\n",
    "Take a look on the **df_train** first 5 rows using method .head()."
   ]
  },
  {
   "cell_type": "code",
   "execution_count": 5,
   "metadata": {},
   "outputs": [
    {
     "data": {
      "text/html": [
       "<div>\n",
       "<style scoped>\n",
       "    .dataframe tbody tr th:only-of-type {\n",
       "        vertical-align: middle;\n",
       "    }\n",
       "\n",
       "    .dataframe tbody tr th {\n",
       "        vertical-align: top;\n",
       "    }\n",
       "\n",
       "    .dataframe thead th {\n",
       "        text-align: right;\n",
       "    }\n",
       "</style>\n",
       "<table border=\"1\" class=\"dataframe\">\n",
       "  <thead>\n",
       "    <tr style=\"text-align: right;\">\n",
       "      <th></th>\n",
       "      <th>ID</th>\n",
       "      <th>pid</th>\n",
       "      <th>day</th>\n",
       "      <th>abs_ret0</th>\n",
       "      <th>abs_ret1</th>\n",
       "      <th>abs_ret2</th>\n",
       "      <th>abs_ret3</th>\n",
       "      <th>abs_ret4</th>\n",
       "      <th>abs_ret5</th>\n",
       "      <th>abs_ret6</th>\n",
       "      <th>...</th>\n",
       "      <th>rel_vol53</th>\n",
       "      <th>rel_vol54</th>\n",
       "      <th>rel_vol55</th>\n",
       "      <th>rel_vol56</th>\n",
       "      <th>rel_vol57</th>\n",
       "      <th>rel_vol58</th>\n",
       "      <th>rel_vol59</th>\n",
       "      <th>rel_vol60</th>\n",
       "      <th>LS</th>\n",
       "      <th>NLV</th>\n",
       "    </tr>\n",
       "  </thead>\n",
       "  <tbody>\n",
       "    <tr>\n",
       "      <th>0</th>\n",
       "      <td>148</td>\n",
       "      <td>360</td>\n",
       "      <td>0</td>\n",
       "      <td>0.000000</td>\n",
       "      <td>0.000000</td>\n",
       "      <td>0.0</td>\n",
       "      <td>0.000000</td>\n",
       "      <td>0.029317</td>\n",
       "      <td>0.000000</td>\n",
       "      <td>0.000000</td>\n",
       "      <td>...</td>\n",
       "      <td>0.004521</td>\n",
       "      <td>0.015771</td>\n",
       "      <td>0.009462</td>\n",
       "      <td>0.012697</td>\n",
       "      <td>0.019507</td>\n",
       "      <td>0.005101</td>\n",
       "      <td>0.010654</td>\n",
       "      <td>0.006971</td>\n",
       "      <td>-2.307230</td>\n",
       "      <td>0.646580</td>\n",
       "    </tr>\n",
       "    <tr>\n",
       "      <th>1</th>\n",
       "      <td>149</td>\n",
       "      <td>360</td>\n",
       "      <td>1</td>\n",
       "      <td>0.000000</td>\n",
       "      <td>0.000000</td>\n",
       "      <td>0.0</td>\n",
       "      <td>0.022056</td>\n",
       "      <td>0.000000</td>\n",
       "      <td>0.036711</td>\n",
       "      <td>0.000000</td>\n",
       "      <td>...</td>\n",
       "      <td>0.008817</td>\n",
       "      <td>0.006589</td>\n",
       "      <td>0.005276</td>\n",
       "      <td>0.011648</td>\n",
       "      <td>0.011829</td>\n",
       "      <td>0.015558</td>\n",
       "      <td>0.001788</td>\n",
       "      <td>0.005251</td>\n",
       "      <td>-2.263960</td>\n",
       "      <td>0.487708</td>\n",
       "    </tr>\n",
       "    <tr>\n",
       "      <th>2</th>\n",
       "      <td>150</td>\n",
       "      <td>360</td>\n",
       "      <td>2</td>\n",
       "      <td>0.000000</td>\n",
       "      <td>0.000000</td>\n",
       "      <td>0.0</td>\n",
       "      <td>0.000000</td>\n",
       "      <td>0.022267</td>\n",
       "      <td>0.000000</td>\n",
       "      <td>0.029678</td>\n",
       "      <td>...</td>\n",
       "      <td>0.018640</td>\n",
       "      <td>0.020972</td>\n",
       "      <td>0.012728</td>\n",
       "      <td>0.007921</td>\n",
       "      <td>0.000643</td>\n",
       "      <td>0.029692</td>\n",
       "      <td>0.016440</td>\n",
       "      <td>0.011970</td>\n",
       "      <td>-2.343106</td>\n",
       "      <td>0.544476</td>\n",
       "    </tr>\n",
       "    <tr>\n",
       "      <th>3</th>\n",
       "      <td>151</td>\n",
       "      <td>360</td>\n",
       "      <td>3</td>\n",
       "      <td>0.000000</td>\n",
       "      <td>0.007384</td>\n",
       "      <td>0.0</td>\n",
       "      <td>0.000000</td>\n",
       "      <td>0.000000</td>\n",
       "      <td>0.007417</td>\n",
       "      <td>0.000000</td>\n",
       "      <td>...</td>\n",
       "      <td>0.013628</td>\n",
       "      <td>0.020397</td>\n",
       "      <td>0.016834</td>\n",
       "      <td>0.031869</td>\n",
       "      <td>0.012468</td>\n",
       "      <td>0.065173</td>\n",
       "      <td>0.048286</td>\n",
       "      <td>0.021237</td>\n",
       "      <td>-2.331621</td>\n",
       "      <td>0.633181</td>\n",
       "    </tr>\n",
       "    <tr>\n",
       "      <th>4</th>\n",
       "      <td>152</td>\n",
       "      <td>360</td>\n",
       "      <td>4</td>\n",
       "      <td>0.088086</td>\n",
       "      <td>0.109737</td>\n",
       "      <td>0.0</td>\n",
       "      <td>0.014648</td>\n",
       "      <td>0.003662</td>\n",
       "      <td>0.036627</td>\n",
       "      <td>0.007319</td>\n",
       "      <td>...</td>\n",
       "      <td>0.008228</td>\n",
       "      <td>0.013394</td>\n",
       "      <td>0.009415</td>\n",
       "      <td>0.024983</td>\n",
       "      <td>0.019524</td>\n",
       "      <td>0.018342</td>\n",
       "      <td>0.008442</td>\n",
       "      <td>0.012525</td>\n",
       "      <td>-2.415575</td>\n",
       "      <td>0.880580</td>\n",
       "    </tr>\n",
       "  </tbody>\n",
       "</table>\n",
       "<p>5 rows × 127 columns</p>\n",
       "</div>"
      ],
      "text/plain": [
       "    ID  pid  day  abs_ret0  abs_ret1  abs_ret2  abs_ret3  abs_ret4  abs_ret5  \\\n",
       "0  148  360    0  0.000000  0.000000       0.0  0.000000  0.029317  0.000000   \n",
       "1  149  360    1  0.000000  0.000000       0.0  0.022056  0.000000  0.036711   \n",
       "2  150  360    2  0.000000  0.000000       0.0  0.000000  0.022267  0.000000   \n",
       "3  151  360    3  0.000000  0.007384       0.0  0.000000  0.000000  0.007417   \n",
       "4  152  360    4  0.088086  0.109737       0.0  0.014648  0.003662  0.036627   \n",
       "\n",
       "   abs_ret6  ...  rel_vol53  rel_vol54  rel_vol55  rel_vol56  rel_vol57  \\\n",
       "0  0.000000  ...   0.004521   0.015771   0.009462   0.012697   0.019507   \n",
       "1  0.000000  ...   0.008817   0.006589   0.005276   0.011648   0.011829   \n",
       "2  0.029678  ...   0.018640   0.020972   0.012728   0.007921   0.000643   \n",
       "3  0.000000  ...   0.013628   0.020397   0.016834   0.031869   0.012468   \n",
       "4  0.007319  ...   0.008228   0.013394   0.009415   0.024983   0.019524   \n",
       "\n",
       "   rel_vol58  rel_vol59  rel_vol60        LS       NLV  \n",
       "0   0.005101   0.010654   0.006971 -2.307230  0.646580  \n",
       "1   0.015558   0.001788   0.005251 -2.263960  0.487708  \n",
       "2   0.029692   0.016440   0.011970 -2.343106  0.544476  \n",
       "3   0.065173   0.048286   0.021237 -2.331621  0.633181  \n",
       "4   0.018342   0.008442   0.012525 -2.415575  0.880580  \n",
       "\n",
       "[5 rows x 127 columns]"
      ]
     },
     "execution_count": 5,
     "metadata": {},
     "output_type": "execute_result"
    }
   ],
   "source": [
    "df_train.head(5)"
   ]
  },
  {
   "cell_type": "markdown",
   "metadata": {},
   "source": [
    "Take a look on the **training targets** first 5 rows using method .head()."
   ]
  },
  {
   "cell_type": "code",
   "execution_count": 6,
   "metadata": {},
   "outputs": [
    {
     "data": {
      "text/html": [
       "<div>\n",
       "<style scoped>\n",
       "    .dataframe tbody tr th:only-of-type {\n",
       "        vertical-align: middle;\n",
       "    }\n",
       "\n",
       "    .dataframe tbody tr th {\n",
       "        vertical-align: top;\n",
       "    }\n",
       "\n",
       "    .dataframe thead th {\n",
       "        text-align: right;\n",
       "    }\n",
       "</style>\n",
       "<table border=\"1\" class=\"dataframe\">\n",
       "  <thead>\n",
       "    <tr style=\"text-align: right;\">\n",
       "      <th></th>\n",
       "      <th>ID</th>\n",
       "      <th>target</th>\n",
       "    </tr>\n",
       "  </thead>\n",
       "  <tbody>\n",
       "    <tr>\n",
       "      <th>0</th>\n",
       "      <td>148</td>\n",
       "      <td>-3.403606</td>\n",
       "    </tr>\n",
       "    <tr>\n",
       "      <th>1</th>\n",
       "      <td>149</td>\n",
       "      <td>-2.904798</td>\n",
       "    </tr>\n",
       "    <tr>\n",
       "      <th>2</th>\n",
       "      <td>150</td>\n",
       "      <td>-2.337807</td>\n",
       "    </tr>\n",
       "    <tr>\n",
       "      <th>3</th>\n",
       "      <td>151</td>\n",
       "      <td>-2.285676</td>\n",
       "    </tr>\n",
       "    <tr>\n",
       "      <th>4</th>\n",
       "      <td>152</td>\n",
       "      <td>-2.606321</td>\n",
       "    </tr>\n",
       "  </tbody>\n",
       "</table>\n",
       "</div>"
      ],
      "text/plain": [
       "    ID    target\n",
       "0  148 -3.403606\n",
       "1  149 -2.904798\n",
       "2  150 -2.337807\n",
       "3  151 -2.285676\n",
       "4  152 -2.606321"
      ]
     },
     "execution_count": 6,
     "metadata": {},
     "output_type": "execute_result"
    }
   ],
   "source": [
    "df_y_train.head(5)"
   ]
  },
  {
   "cell_type": "markdown",
   "metadata": {},
   "source": [
    "## Set ID as index\n",
    "\n",
    "the column **ID** is the identifier of the osbervations. It is used to retrieve a given prediction with its label. Let's set the column **ID** as the index of the dataframe with the method **set_index()**.\n",
    "\n",
    "- Set the column **ID** as the index of **df_train**.\n",
    "- Set the column **ID** as the index of **df_target_train**. Select only the column \"target\" and assign the result to **y_train**.\n",
    "- Set the column **ID** as the index of **df_test**."
   ]
  },
  {
   "cell_type": "code",
   "execution_count": 7,
   "metadata": {},
   "outputs": [],
   "source": [
    "df_train = df_train.set_index(\"ID\")\n",
    "y_train = df_y_train.set_index(\"ID\")[\"target\"]\n",
    "df_test = df_test.set_index(\"ID\")"
   ]
  },
  {
   "cell_type": "code",
   "execution_count": 8,
   "metadata": {},
   "outputs": [
    {
     "name": "stdout",
     "output_type": "stream",
     "text": [
      "1 test passed.\n",
      "1 test passed.\n"
     ]
    }
   ],
   "source": [
    "check_test(df_train.shape[1], 126, \"wrong number of columns\")\n",
    "check_test(y_train.shape, (684482,), \"wrong number of columns\")"
   ]
  },
  {
   "cell_type": "markdown",
   "metadata": {},
   "source": [
    "## Look at the distribution of the target\n",
    "\n",
    "Let's take a look on the column label (Target) in the train dataset. Take a look on the disribution of the label by plotting an histogram with matplotlib.\n",
    "\n",
    "- Plot the histogram of the serie **y_train**. You can use the parameter **bins** to change the number of slots.\n",
    "- Describe the serie **y_train** using the method **.describe()**."
   ]
  },
  {
   "cell_type": "code",
   "execution_count": 9,
   "metadata": {},
   "outputs": [
    {
     "data": {
      "image/png": "[encoded data removed]",
      "text/plain": [
       "<Figure size 432x288 with 1 Axes>"
      ]
     },
     "metadata": {
      "needs_background": "light"
     },
     "output_type": "display_data"
    },
    {
     "name": "stdout",
     "output_type": "stream",
     "text": [
      "count    684482.000000\n",
      "mean         -1.958691\n",
      "std           0.909245\n",
      "min          -7.137686\n",
      "25%          -2.513789\n",
      "50%          -1.948804\n",
      "75%          -1.395366\n",
      "max           3.580919\n",
      "Name: target, dtype: float64\n"
     ]
    }
   ],
   "source": [
    "# Plot the histogram\n",
    "plt.hist(y_train, bins=50)\n",
    "plt.show()\n",
    "\n",
    "# Describe the serie of label with the method .describe()\n",
    "print(y_train.describe())"
   ]
  },
  {
   "cell_type": "markdown",
   "metadata": {},
   "source": [
    "## Correlation between the mean absolute return and the volume traded the close auction\n",
    "\n",
    "_(Here is an example of data exploration + interpretation you can perform to understand your features)._\n",
    "\n",
    "Very naively, one might think that there is a correlation between the volume traded at the auction and the average absolute return observed during the last observed period. To verify this hypothesis, we can perform the below analysis :\n",
    "\n",
    "- Compute the series of mean abslute return by averaging columns **abs_ret_0** to **abs_ret_60**. Assign the result to the columns **mean_abs_ret**.\n",
    "- Using the module matplotlib, make a scatter plot where the x-axis is the **mean_abs_ret** and the y-axis is the auction volume (**target**).\n",
    "- Using the method .corr(), compute the correlation between the mean_abs_ret and the auction volume. Assign the result to the variable **corr_return_volume**."
   ]
  },
  {
   "cell_type": "code",
   "execution_count": 11,
   "metadata": {},
   "outputs": [
    {
     "data": {
      "image/png": "[encoded data removed]",
      "text/plain": [
       "<Figure size 432x288 with 1 Axes>"
      ]
     },
     "metadata": {
      "needs_background": "light"
     },
     "output_type": "display_data"
    }
   ],
   "source": [
    "# Plot the Mean absolute return on the x axis and the auction volume on the y-axis.\n",
    "df_train[\"mean_abs_ret\"] = df_train[[col for col in df_train.columns if \"abs_\" in col]].mean(axis=1)\n",
    "df_test[\"mean_abs_ret\"] = df_test[[col for col in df_test.columns if \"abs_\" in col]].mean(axis=1)\n",
    "plt.scatter(df_train[\"mean_abs_ret\"], y_train)\n",
    "plt.show()"
   ]
  },
  {
   "cell_type": "code",
   "execution_count": 20,
   "metadata": {},
   "outputs": [
    {
     "name": "stdout",
     "output_type": "stream",
     "text": [
      "-0.23629842832326833\n"
     ]
    }
   ],
   "source": [
    "# Compute the correlation between the two variables.\n",
    "corr_return_volume = df_train[\"mean_abs_ret\"].corr(y_train)\n",
    "print(corr_return_volume)"
   ]
  },
  {
   "cell_type": "code",
   "execution_count": 21,
   "metadata": {},
   "outputs": [
    {
     "name": "stdout",
     "output_type": "stream",
     "text": [
      "1 test passed.\n"
     ]
    }
   ],
   "source": [
    "check_test(round(abs(corr_return_volume), 3), 0.236, \"wrong correlation between mean_abs_ret and target.\")"
   ]
  },
  {
   "cell_type": "markdown",
   "metadata": {},
   "source": [
    "## Description of missing values\n",
    "\n",
    "Let's take a look on missing values. For each feature in the train and test datasets, compute and display the number of missing values per column (you can use the pandas method **.isnull()**).\n",
    "\n",
    "- Count the total number of missing values for the training set and the test set (for all the features). Assign the total number of missing values respectively to **train_nan_count** and **test_nan_count**."
   ]
  },
  {
   "cell_type": "code",
   "execution_count": 16,
   "metadata": {},
   "outputs": [],
   "source": [
    "train_nan_count = df_train.isnull().sum().sum()\n",
    "test_nan_count = df_test.isnull().sum().sum()"
   ]
  },
  {
   "cell_type": "code",
   "execution_count": 23,
   "metadata": {},
   "outputs": [
    {
     "name": "stdout",
     "output_type": "stream",
     "text": [
      "1 test passed.\n",
      "1 test passed.\n"
     ]
    }
   ],
   "source": [
    "check_test(train_nan_count, 3815482, \"wrong number of total missing values in the training set.\")\n",
    "check_test(test_nan_count, 1404366, \"wrong number of total missing values in the test set.\")"
   ]
  },
  {
   "cell_type": "markdown",
   "metadata": {},
   "source": [
    "## Other things you can try\n",
    "\n",
    "There are a lot ot experiments you can try to explore data. If you lack in ideas, here are some you can try :\n",
    "\n",
    "- Understand features using statistical measures (mean, variance, std...) and visual charts.\n",
    "- Try to understand the underlying relationship between the input features and the label. Make interpretations ! \n",
    "- Search for correlations between features and label.\n",
    "- Investigate any missing values and outliers.\n",
    "- ...\n",
    "\n",
    "However, feel completly free to provide your own analysis, exploration, interpretations and conclusions! Be creative!"
   ]
  },
  {
   "cell_type": "markdown",
   "metadata": {},
   "source": [
    "# Step 2 - Features engineering and selection\n",
    "\n",
    "According to the conclusions you get from step 1 exploration, process your data (features engineering, features selection, dimensionality reduction...). Feel free to create several different datasets if you want to explore different kind of dataframes."
   ]
  },
  {
   "cell_type": "markdown",
   "metadata": {},
   "source": [
    "## Deal with missing values\n",
    "\n",
    "During step 1, we have observed we have observed multiple missing values. We have to clean it before using a machine learning algorithm. As an example, we will simply impute the missing values with the mean of the features. However, you are free to choose the validation procedure. but you have to justify your process."
   ]
  },
  {
   "cell_type": "code",
   "execution_count": 24,
   "metadata": {},
   "outputs": [],
   "source": [
    "# For each column, fill with mean value.\n",
    "for col in df_train.columns.tolist():\n",
    "    df_train[col] = df_train[col].fillna(df_train[col].mean())\n",
    "    df_test[col] = df_test[col].fillna(df_test[col].mean())"
   ]
  },
  {
   "cell_type": "code",
   "execution_count": 25,
   "metadata": {},
   "outputs": [
    {
     "name": "stdout",
     "output_type": "stream",
     "text": [
      "1 test passed.\n",
      "1 test passed.\n"
     ]
    }
   ],
   "source": [
    "# check we don't have any missing values anymore.\n",
    "check_test(df_train.isnull().sum().sum(), 0, \"incorrect number of missing values.\")\n",
    "check_test(df_test.isnull().sum().sum(), 0, \"incorrect number of missing values.\")"
   ]
  },
  {
   "cell_type": "markdown",
   "metadata": {},
   "source": [
    "## Create a new feature by looking at the last 7 observed absolute returns\n",
    "\n",
    "As seen above, the correlation between the last observed returns and the target is very small.\n",
    "Maybe, not looking at the value but its variations in the past 7 periods could be a better predictor of the volume traded.\n",
    "\n",
    "- Create the feature **std_last_7d_ret** by computing the standard deviation of the last 7 observed returns.\n",
    "- apply the process for both train and test set."
   ]
  },
  {
   "cell_type": "code",
   "execution_count": 26,
   "metadata": {},
   "outputs": [],
   "source": [
    "# Tip\n",
    "# the last n observed return columns can be retrieved like this :\n",
    "cols = [\"abs_ret{:d}\".format(i) for i in range(7)]\n",
    "\n",
    "# Train set\n",
    "df_train[\"std_last_7d_ret\"] = df_train[cols].std(axis=1)\n",
    "\n",
    "# Test set\n",
    "df_test[\"std_last_7d_ret\"] = df_test[cols].std(axis=1)"
   ]
  },
  {
   "cell_type": "markdown",
   "metadata": {},
   "source": [
    "## Features selection\n",
    "\n",
    "Before running a machine learning algorithm, we have to select the features relevant with our modelization.\n",
    "- In this section, select the features you want to use in your machine learning algorithm. Assign this list in the variable **features**. For example, you can start with features [\"std_last_7d_ret\", \"mean_abs_ret\", \"LS\", \"NLV\"].\n",
    "- Make sure that you have removed the feature **ID** from this list as it is not relevant for the model.\n",
    "\n",
    "Note : You can access a dataframe columns using the dataframe's attribute **.columns**"
   ]
  },
  {
   "cell_type": "code",
   "execution_count": 27,
   "metadata": {},
   "outputs": [],
   "source": [
    "features = [\"std_last_7d_ret\", \"mean_abs_ret\", \"LS\", \"NLV\"]"
   ]
  },
  {
   "cell_type": "code",
   "execution_count": 28,
   "metadata": {},
   "outputs": [
    {
     "name": "stdout",
     "output_type": "stream",
     "text": [
      "1 test passed.\n"
     ]
    }
   ],
   "source": [
    "check_test(\"ID\" not in features, True, \"error : column ID still in the features.\")"
   ]
  },
  {
   "cell_type": "markdown",
   "metadata": {},
   "source": [
    "## Other things you can try\n",
    "\n",
    "There are a lot ot experiments you can try to process your data. If you lack in ideas, here are some you can try :\n",
    "\n",
    "- Create new insights from the raw data. \n",
    "- Perform features selection / dimensionality reduction to enhance the features.\n",
    "- ...\n",
    "\n",
    "Once again, feel completly free to provide your own process, interpretations and conclusions..."
   ]
  },
  {
   "cell_type": "markdown",
   "metadata": {},
   "source": [
    "# Step 3 - Machine learning algorithms experiments\n",
    "\n",
    "In this part, you will test different machine learning algorithms and configurations. It is your sandbox before running the final machine learning model. You will also have to evaluate your results and interpret it."
   ]
  },
  {
   "cell_type": "markdown",
   "metadata": {},
   "source": [
    "## Validation procedure\n",
    "\n",
    "In this section, we will split our dataset into a train set and a validation set. Asn an example, we will use the simple **train_test_split** approach. However, you are free to choose the validation procedure. but you have to justify your process.\n",
    "\n",
    "- Using the train-test split approach, split your train dataframe. Assign the resulting dataframes to variables **x_train**, **x_val**, **y_train** and **y_val**."
   ]
  },
  {
   "cell_type": "code",
   "execution_count": 29,
   "metadata": {},
   "outputs": [],
   "source": [
    "from sklearn.model_selection import train_test_split\n",
    "\n",
    "x_train, x_val, y_train, y_val = train_test_split(df_train[features], y_train, test_size=0.2, random_state=203)"
   ]
  },
  {
   "cell_type": "markdown",
   "metadata": {},
   "source": [
    "## Vanilla linear regression\n",
    "\n",
    "Let us test a first linear regression model with default parameters and all the features.\n",
    "\n",
    "- Train a simple linear regression and assign the resulting model to the variable **model**.\n",
    "- Use the model to make predictions on the train set samples. Assign the resulting serie to **pred_train**.\n",
    "- Use the model to make predictions on the validation set samples. Assign the resulting serie to **pred_val**."
   ]
  },
  {
   "cell_type": "code",
   "execution_count": 30,
   "metadata": {},
   "outputs": [],
   "source": [
    "from sklearn.linear_model import LinearRegression\n",
    "\n",
    "reg = LinearRegression()\n",
    "model = reg.fit(x_train, y_train)\n",
    "pred_train = model.predict(x_train)\n",
    "pred_val = model.predict(x_val)"
   ]
  },
  {
   "cell_type": "markdown",
   "metadata": {},
   "source": [
    "## Evaluate the results of the vanilla linear regression\n",
    "\n",
    "Classification metrics for this lab is the MSE (Mean Squared Error). Sklearn provides an implementation of this metrics [here](https://scikit-learn.org/stable/modules/generated/sklearn.metrics.mean_squared_error.html). According to you, are you in an underfitting or an overfitting situation?"
   ]
  },
  {
   "cell_type": "code",
   "execution_count": 31,
   "metadata": {},
   "outputs": [
    {
     "name": "stdout",
     "output_type": "stream",
     "text": [
      "MSE score on train dataset : 0.7197894054107828\n",
      "MSE score on validation dataset : 0.7186253218488302\n"
     ]
    }
   ],
   "source": [
    "from sklearn.metrics import mean_squared_error\n",
    "\n",
    "mse_train = mean_squared_error(pred_train, y_train)\n",
    "mse_val = mean_squared_error(pred_val, y_val)\n",
    "\n",
    "print(\"MSE score on train dataset : %s\" % mse_train)\n",
    "print(\"MSE score on validation dataset : %s\" % mse_val)"
   ]
  },
  {
   "cell_type": "markdown",
   "metadata": {},
   "source": [
    "## Why is this modeling approach flawed ?"
   ]
  },
  {
   "cell_type": "markdown",
   "metadata": {},
   "source": [
    "Remember that we are dealing with **time series** here. Our train_test_split has not taken into account this particularity of our data at all. Therefore we might be very well predicting traded volumes using <i>future</i> data that we do not yet know.\n",
    "\n",
    "Fortunately, sklearn has got us covered ! Take a look here <a href=\"https://scikit-learn.org/stable/modules/generated/sklearn.model_selection.TimeSeriesSplit.html#sklearn.model_selection.TimeSeriesSplit\">here</a>.\n",
    "\n",
    "You should be extra careful if you want to create features <i>across</i> rows, for example, taking the mean of the past observed return 1 day before the auction for each stock. Indeed, you might be observing future (and therefore unseen) data.\n",
    "To ensure no **data leakage**, sklearn also has us covered with Pipelines. It is a very powerful tool to correctly pre-process your data and you can read more <a href=\"https://scikit-learn.org/stable/modules/compose.html\">here</a>."
   ]
  },
  {
   "cell_type": "markdown",
   "metadata": {},
   "source": [
    "## Other things you can try\n",
    "\n",
    "Once again, there are a lot ot experiments you can try. If you lack in ideas, here are some you can try :\n",
    "\n",
    "- Test multiple machine learning algorithms we have seen during the lectures.\n",
    "- Test different combinations of hyperparameters.\n",
    "- Test different sets of features. Use your own features.\n",
    "- Interpret your results with regards to the underfitting-overfitting tradeoff.\n",
    "- Look at residuals. Plot learning curves.\n",
    "- Search for the optimal set of hyperparameters. \n",
    "- Provide interpretations.\n",
    "- ...\n",
    "\n",
    "It is good to test different machine learning algorithms and configurations. Some algorithms are more suited than others depending of use-case. Moreover, learning is really sensitive to hyperparameters you provide. Exploring your results by learning curves will help you diagnose your models. Time to apply what you have learned during lectures! "
   ]
  },
  {
   "cell_type": "markdown",
   "metadata": {},
   "source": [
    "# Step 4 - Final run\n",
    "\n",
    "According to previous steps results and your own interpretation, run your best machine learning algorithm and make  predictions on the test set. Then export your results in and make submission on the ENS data challenge platform."
   ]
  },
  {
   "cell_type": "markdown",
   "metadata": {},
   "source": [
    "## Run your best model and make prediction on test set\n",
    "\n",
    "For this first experiment, use the vanilla linear regresson we have experimented in step 3. Make predictions on the test set and assign the results to variable **pred_test**."
   ]
  },
  {
   "cell_type": "code",
   "execution_count": 32,
   "metadata": {},
   "outputs": [],
   "source": [
    "from sklearn.linear_model import LinearRegression\n",
    "\n",
    "reg = LinearRegression()\n",
    "model = reg.fit(x_train, y_train)\n",
    "pred_train = model.predict(x_train)\n",
    "pred_val = model.predict(x_val)\n",
    "pred_test = model.predict(df_test[features])"
   ]
  },
  {
   "cell_type": "code",
   "execution_count": 33,
   "metadata": {},
   "outputs": [
    {
     "name": "stdout",
     "output_type": "stream",
     "text": [
      "1 test passed.\n"
     ]
    }
   ],
   "source": [
    "check_test(pred_test.shape, (311744,), \"wrong shape for pred test\")"
   ]
  },
  {
   "cell_type": "markdown",
   "metadata": {},
   "source": [
    "## Evaluate best model\n",
    "\n",
    "Our best machine learning algorithm yields the following results : "
   ]
  },
  {
   "cell_type": "code",
   "execution_count": 34,
   "metadata": {},
   "outputs": [
    {
     "name": "stdout",
     "output_type": "stream",
     "text": [
      "mse score on train dataset : 0.7197894054107828\n",
      "mse score on validation dataset : 0.7186253218488302\n"
     ]
    }
   ],
   "source": [
    "from sklearn.metrics import mean_squared_error\n",
    "\n",
    "mse_train = mean_squared_error(pred_train, y_train)\n",
    "mse_val = mean_squared_error(pred_val, y_val)\n",
    "print(\"mse score on train dataset : %s\" % mse_train)\n",
    "print(\"mse score on validation dataset : %s\" % mse_val)"
   ]
  },
  {
   "cell_type": "markdown",
   "metadata": {},
   "source": [
    "## Interpretation"
   ]
  },
  {
   "cell_type": "markdown",
   "metadata": {},
   "source": [
    "-> Your interpretation may go here."
   ]
  },
  {
   "cell_type": "markdown",
   "metadata": {},
   "source": [
    "## Export submission to ENS data challenge\n",
    "\n",
    "You can export your predictions as a submission file using function export_ens() defined earlier in the notebook. Then go on ENS data challenge competition page and submit your predictions. Your can observe your performance on the leaderboard page."
   ]
  },
  {
   "cell_type": "code",
   "execution_count": 35,
   "metadata": {},
   "outputs": [],
   "source": [
    "df_submit = export_ens(df_test, pred_test, True, \"../results/my_first_submission.csv\")"
   ]
  },
  {
   "cell_type": "markdown",
   "metadata": {},
   "source": [
    "## Conclusion"
   ]
  },
  {
   "cell_type": "markdown",
   "metadata": {},
   "source": [
    "You can write your work conclusion in this cell.."
   ]
  },
  {
   "cell_type": "markdown",
   "metadata": {},
   "source": [
    "## Other things you can try\n",
    "\n",
    "If you lack in ideas, here are some you can try :\n",
    "\n",
    "- Evaluate final model on train, validation and test set. Diagnose your model results.\n",
    "- Take a look on features importances.\n",
    "- Give conclusion;\n",
    "- ...\n",
    "\n",
    "Feel free to provide your own interpretations and justifications. Here is your notebook and work !"
   ]
  },
  {
   "cell_type": "code",
   "execution_count": null,
   "metadata": {},
   "outputs": [],
   "source": []
  }
 ],
 "metadata": {
  "anaconda-cloud": {},
  "kernelspec": {
   "display_name": "Python 3",
   "language": "python",
   "name": "python3"
  },
  "language_info": {
   "codemirror_mode": {
    "name": "ipython",
    "version": 3
   },
   "file_extension": ".py",
   "mimetype": "text/x-python",
   "name": "python",
   "nbconvert_exporter": "python",
   "pygments_lexer": "ipython3",
   "version": "3.7.6"
  }
 },
 "nbformat": 4,
 "nbformat_minor": 1
}
