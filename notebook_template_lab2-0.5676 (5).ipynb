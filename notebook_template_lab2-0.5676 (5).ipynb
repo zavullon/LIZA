{
 "cells": [
  {
   "attachments": {
    "master_203_pic.jpg": {
     "image/jpeg": "[encoded data removed]"
    }
   },
   "cell_type": "markdown",
   "metadata": {},
   "source": [
    "![master_203_pic.jpg](attachment:master_203_pic.jpg)"
   ]
  },
  {
   "cell_type": "markdown",
   "metadata": {},
   "source": [
    "## LAB 2 rules"
   ]
  },
  {
   "cell_type": "markdown",
   "metadata": {},
   "source": [
    "Assignment has to be done individually. Grades are between 0-20. The assignment counts for 50% of the final grade. You will be asked to build a whole machine learning pipeline and submit your predictions through the ENS data challenge competition interface. You will also have to submit your final notebook and relevant documents with regards to the following planning.\n",
    "\n",
    "- **Competition start date** : **07 March 2022 15:30**\n",
    "- **Submissions dead line** : **01 April 2022, 00:59**\n",
    "- **Work and notebook submission** : **08 April 2022, 23:59**\n",
    "\n",
    "Final work submissions are made by email at vienne.thibaud@gmail.com. Zip your whole project with underlying folders, notebook and possible report. Email subject should start with [203_lab2]."
   ]
  },
  {
   "cell_type": "markdown",
   "metadata": {},
   "source": [
    "## Grades"
   ]
  },
  {
   "cell_type": "markdown",
   "metadata": {},
   "source": [
    "Your work will be marked out of 20 according to 2 criteria :\n",
    "\n",
    "- **Criteria 1 : Predictive model performance and ranking on ENS data challenge leaderboard ( / 7.5 points).**<br/>\n",
    "- **Criteria 2 : Relevance of the reported notebook ( / 12.5 points).**<br/>\n",
    "\n",
    "First criteria grade will be a mixture between your predictive model performance on the competition interface and your competition ranking. Criteria 2 refers to the submitted work relevance. At least you should provide a commented notebook but feel free to provide a small report. More precisely, second criteria grades will be assigned with regards to the following points : \n",
    "\n",
    "**Data exploration and features engineering ( / 4 pts)** : \n",
    "\n",
    "> - Richness of exploration, analysis and charts provided.<br/>\n",
    "> - Relevance of interpretations and justifications provided.<br/>\n",
    "> - Relevance of implemented features, justifications and interpretations in data cleaning and features engineering.\n",
    "> - Personal initiatives.<br/>\n",
    "> - Your conclusions for following steps.<br/>\n",
    "\n",
    "**Machine learning pipeline ( / 6 pts)** : \n",
    "> - Relevance of implemented features, justifications and interpretations in machine learning algorithms.\n",
    "> - Relevance of justifications and interpretations in models evaluation procedure, results and models diagnostic.\n",
    "> - Personal initiatives.\n",
    "> - Your conclusions.\n",
    "\n",
    "**Notebook quality and participation ( / 2.5 pts)** : \n",
    "\n",
    "> - Code clearness (structure of the code, comments, written functions…)\n",
    "> - Notebook clearness (structure of notebook, markdown...).\n",
    "> - Participation on the forum.\n",
    "> - ..."
   ]
  },
  {
   "cell_type": "markdown",
   "metadata": {},
   "source": [
    "## Notebook description"
   ]
  },
  {
   "cell_type": "markdown",
   "metadata": {},
   "source": [
    "This notebook will be used during the first 3 inclass hours of the competition. Using it, we will try to create a first supervised machine learning model to **recover missing values in financial time series**. Moreover,it can be used as a template to structure your work and so success this lab. It is composed of common machine learning steps :\n",
    "\n",
    "**Step 0 - Prerequisites** : this is where you will code all your prerequisites including python modules to import and your own functions. It also covers the competition purpose and the description of data.<br/><br/>\n",
    "**Step 1 - Exploration** : It is a common part in a machine learning pipeline. In this section, you will import datasets, discover the available features, provide some data mining observations, investigate missing values and possible outliers. You can also try to explore the dynamics behing the modelization. An exhaustive exploration is more likely to yield powerful predictive models.<br/><br/>\n",
    "**Step 2 - Features Engineering** : According to conclusions you get from exploration, you will process the provided data (cleaning, create new features, features selection...).<br/><br/>\n",
    "**Step 3 - Machine learning experiments** : In this part, you will test different machine learning algorithms and configurations. It is your sandbox before running the final machine learning model. You will also have to evaluate your results and interpret it.<br/><br/>\n",
    "**Step 4 - Final run** : According to the previous steps results and your own interpretation, run your best machine learning algorithm and make predictions for the test set. Then export your results and make a submission on the ENS data challenge platform. Conclude.<br/><br/>"
   ]
  },
  {
   "cell_type": "markdown",
   "metadata": {},
   "source": [
    "## How to success this lab?"
   ]
  },
  {
   "cell_type": "markdown",
   "metadata": {},
   "source": [
    "- Be organized. Work on a regular basis. The lab 2 requires time to yield good results.\n",
    "- Take time to explore data. It will help you to understand features and reach better scores.\n",
    "- Ask yourself questions. Be critical with results you get.\n",
    "- Diversify efforts on all parts of machine learning pipeline (exploration, cleaning, features engineering/selection, machine learning...).\n",
    "- Take initiatives. Try and test! \n",
    "- Keep trusting in yourself! you have all the needed knowledge to success this assignement! :)"
   ]
  },
  {
   "cell_type": "markdown",
   "metadata": {},
   "source": [
    "# Step 0 - Prerequisites "
   ]
  },
  {
   "cell_type": "markdown",
   "metadata": {},
   "source": [
    "## Aim of the competition"
   ]
  },
  {
   "cell_type": "markdown",
   "metadata": {},
   "source": [
    "When computers are responsible for all trading decisions through algorithms, it is very important that their input data be of the best quality possible. However, sometimes values may be missing or contain outliers.\n",
    "\n",
    "Futures contracts are a promise to deliver some underlying asset (let’s say cotton) at a given expiry date and at a predetermined price; they are for instance useful to a company for locking a price for a future time when they will need the underlying asset (it could be a garment manufacturer, for instance, for cotton).\n",
    "\n",
    "The goal of this challenge is to recover missing values in financial time series covering 300 futures contracts."
   ]
  },
  {
   "cell_type": "markdown",
   "metadata": {},
   "source": [
    "## About data"
   ]
  },
  {
   "cell_type": "markdown",
   "metadata": {},
   "source": [
    "Dimension : Less than 1,000,000 rows, including 200,000 bid-ask spreads to predict.\n",
    "\n",
    "\n",
    "> - **product_id** and **liquidity_rank** define a unique futures contract. The dataset contains around 100 product_id (corresponding for instance to a specific type of crude oil). For each product_id several liquidity ranks can exist: liquidity_rank 0 refers to the contract with the closest expiry date (which is often the most traded one), 1 to the next contract to expire, etc. Thus, a contract of rank 1 becomes a contract of rank 0 when the previous contract of rank 0 expires.\n",
    "> - **dt_close** represents the day number (they are therefore chronological) for each data sample. For a given dt_close there is 1 entry per (product_id, liquidity_rank) pair.\n",
    "> - **dt_expiry** similarly represents the date of the futures contract expiry.\n",
    "> - **normal_trading_day** is set to 0 when the market is closed or the market activity is reduced.\n",
    "> - **open**, **close** represent contract prices, resp. at market opening and close.\n",
    "> - **high**, **low** represent the highest and lowest price of the contract during the day.\n",
    "> - **volume** is the number of contracts exchanged during the day, up to a factor that depends only on product_id.\n",
    "> - **open_interest** is the number of active contracts at the end of the day, with the same factor applied as for the volume.\n",
    "> **spread** is the “daily bid-ask spread”, which is the value we want to predict.\n",
    "> **tick_size** is a proxy for 1 unit of spread (this is not directly price difference).\n",
    "> - **fixed** is set to 1 when one or more features have been fixed for various reason (outliers, missing values…).\n",
    "\n",
    "Prices are all normalized in some way (the values are thus not in currency units), but they are consistent within each product_id."
   ]
  },
  {
   "cell_type": "markdown",
   "metadata": {},
   "source": [
    "### Metric\n",
    "\n",
    "**Root mean square error (RMSE)** between the predicted daily bid-ask spread and the real one, measured over every missing spread.\n",
    "\n",
    "### Benchmark\n",
    "\n",
    "Whereas classical time series problems only allow the use of past data for predictions, participants can exploit the complete time series “to fill the gap”.\n",
    "\n",
    "A very simple benchmark would be:\n",
    "\n",
    "> **df['spread'].interpolate(method='linear')**"
   ]
  },
  {
   "cell_type": "markdown",
   "metadata": {},
   "source": [
    "## Load modules\n",
    "\n",
    "In this cell, you can put all modules you use. You can use it to provide a clear code."
   ]
  },
  {
   "cell_type": "code",
   "execution_count": 1,
   "metadata": {},
   "outputs": [],
   "source": [
    "import pandas as pd\n",
    "import numpy as np\n",
    "import matplotlib.pyplot as plt\n",
    "import seaborn as sns"
   ]
  },
  {
   "cell_type": "markdown",
   "metadata": {},
   "source": [
    "## Your functions\n",
    "\n",
    "In order to have a clear code, you can put all your own functions in this cell."
   ]
  },
  {
   "cell_type": "code",
   "execution_count": 2,
   "metadata": {},
   "outputs": [],
   "source": [
    "def export_ens(df_test, pred_test, save=True, path_save=\"y_test_prediction.csv\"):\n",
    "    \"\"\"\n",
    "    Export submissions with the good ENS data challenge format.\n",
    "    df_test : (pandas dataframe) test set\n",
    "    proba_test : (numpy ndarray) prediction as a numpy ndarray you get using method .predict()\n",
    "    save : (bool) if set to True, it will save csv submission in path_save path.\n",
    "    path_save : (str) path where to save submission.\n",
    "    return : dataframe for submission\n",
    "    \"\"\"\n",
    "    df_submit = pd.Series(pred_test[:,0], index=df_test.index, name=\"spread\")\n",
    "    df_submit.to_csv(path_save, index=True)\n",
    "    return df_submit\n",
    "\n",
    "def check_test(result, expected, display_error):\n",
    "    \"\"\"\n",
    "    Testing your results.\n",
    "    \"\"\"\n",
    "    if result == expected:\n",
    "        print(\"1 test passed.\")\n",
    "    else:\n",
    "        print(display_error)"
   ]
  },
  {
   "cell_type": "markdown",
   "metadata": {},
   "source": [
    "# Step 1 - Data Exploration\n",
    "\n",
    "Data exploration is a common part in a machine learning pipeline. In this section, you will import datasets, discover  features, provide data mining observations, investigate missing values and possible outliers. An exhaustive exploration is more likely to yield prowerful predictive models.\n",
    "\n",
    "- Read the train dataset inputs and assign to the variable **df_train**.\n",
    "- Read the train dataset labels and assign to the variable **y_train**.\n",
    "- Read the test dataset inputs and assign to the variable **df_test**.\n",
    "- Concat **df_train** and **y_train** to create **df_full**.\n",
    "- Assign number of rows in train dataset and assign it to variable **n_rows_train**.\n",
    "- Assign number of rows in test dataset and assign it to variable **n_rows_test**."
   ]
  },
  {
   "cell_type": "markdown",
   "metadata": {},
   "source": [
    "## Load datasets"
   ]
  },
  {
   "cell_type": "code",
   "execution_count": 37,
   "metadata": {},
   "outputs": [],
   "source": [
    "df_train = pd.read_csv(r'/root/LIZA/data/input_training_imet9ZU.csv')\n",
    "y_train = pd.read_csv(r'/root/LIZA/data/output_training_yCN1f2d.csv')\n",
    "df_test = pd.read_csv(r'/root/LIZA/data/input_test_4AhEauI.csv')\n",
    "df_full = pd.merge(df_train, y_train)\n",
    "n_rows_train = df_train.shape[0]\n",
    "n_rows_test = df_test.shape[0]"
   ]
  },
  {
   "cell_type": "code",
   "execution_count": 38,
   "metadata": {},
   "outputs": [
    {
     "name": "stdout",
     "output_type": "stream",
     "text": [
      "1 test passed.\n",
      "1 test passed.\n"
     ]
    }
   ],
   "source": [
    "check_test(n_rows_train, 629611, \"wrong number of rows\")\n",
    "check_test(n_rows_test, 230304, \"wrong number of rows\")"
   ]
  },
  {
   "cell_type": "markdown",
   "metadata": {},
   "source": [
    "## Take a look on first rows\n",
    "\n",
    "Take a look on the **df_train** first 5 rows using method .head()."
   ]
  },
  {
   "cell_type": "code",
   "execution_count": 39,
   "metadata": {},
   "outputs": [
    {
     "data": {
      "text/html": [
       "<div>\n",
       "<style scoped>\n",
       "    .dataframe tbody tr th:only-of-type {\n",
       "        vertical-align: middle;\n",
       "    }\n",
       "\n",
       "    .dataframe tbody tr th {\n",
       "        vertical-align: top;\n",
       "    }\n",
       "\n",
       "    .dataframe thead th {\n",
       "        text-align: right;\n",
       "    }\n",
       "</style>\n",
       "<table border=\"1\" class=\"dataframe\">\n",
       "  <thead>\n",
       "    <tr style=\"text-align: right;\">\n",
       "      <th></th>\n",
       "      <th>ID</th>\n",
       "      <th>dt_close</th>\n",
       "      <th>product_id</th>\n",
       "      <th>liquidity_rank</th>\n",
       "      <th>normal_trading_day</th>\n",
       "      <th>dt_expiry</th>\n",
       "      <th>open</th>\n",
       "      <th>high</th>\n",
       "      <th>low</th>\n",
       "      <th>close</th>\n",
       "      <th>open_interest</th>\n",
       "      <th>volume</th>\n",
       "      <th>tick_size</th>\n",
       "      <th>fixed</th>\n",
       "    </tr>\n",
       "  </thead>\n",
       "  <tbody>\n",
       "    <tr>\n",
       "      <th>0</th>\n",
       "      <td>0</td>\n",
       "      <td>8862</td>\n",
       "      <td>401920</td>\n",
       "      <td>0</td>\n",
       "      <td>1</td>\n",
       "      <td>8952</td>\n",
       "      <td>2710.0</td>\n",
       "      <td>2721.0</td>\n",
       "      <td>2624.0</td>\n",
       "      <td>2635.0</td>\n",
       "      <td>2814</td>\n",
       "      <td>402</td>\n",
       "      <td>11</td>\n",
       "      <td>0</td>\n",
       "    </tr>\n",
       "    <tr>\n",
       "      <th>1</th>\n",
       "      <td>1</td>\n",
       "      <td>8862</td>\n",
       "      <td>401920</td>\n",
       "      <td>1</td>\n",
       "      <td>1</td>\n",
       "      <td>8995</td>\n",
       "      <td>2610.0</td>\n",
       "      <td>2638.0</td>\n",
       "      <td>2547.0</td>\n",
       "      <td>2560.0</td>\n",
       "      <td>905</td>\n",
       "      <td>107</td>\n",
       "      <td>11</td>\n",
       "      <td>0</td>\n",
       "    </tr>\n",
       "    <tr>\n",
       "      <th>2</th>\n",
       "      <td>2</td>\n",
       "      <td>8862</td>\n",
       "      <td>401920</td>\n",
       "      <td>2</td>\n",
       "      <td>1</td>\n",
       "      <td>9039</td>\n",
       "      <td>2530.0</td>\n",
       "      <td>2550.0</td>\n",
       "      <td>2468.0</td>\n",
       "      <td>2478.0</td>\n",
       "      <td>719</td>\n",
       "      <td>41</td>\n",
       "      <td>11</td>\n",
       "      <td>0</td>\n",
       "    </tr>\n",
       "    <tr>\n",
       "      <th>3</th>\n",
       "      <td>3</td>\n",
       "      <td>8862</td>\n",
       "      <td>401920</td>\n",
       "      <td>3</td>\n",
       "      <td>1</td>\n",
       "      <td>9104</td>\n",
       "      <td>2497.0</td>\n",
       "      <td>2508.0</td>\n",
       "      <td>2437.0</td>\n",
       "      <td>2443.0</td>\n",
       "      <td>466</td>\n",
       "      <td>25</td>\n",
       "      <td>11</td>\n",
       "      <td>0</td>\n",
       "    </tr>\n",
       "    <tr>\n",
       "      <th>4</th>\n",
       "      <td>4</td>\n",
       "      <td>8862</td>\n",
       "      <td>401920</td>\n",
       "      <td>4</td>\n",
       "      <td>1</td>\n",
       "      <td>9213</td>\n",
       "      <td>2474.0</td>\n",
       "      <td>2505.0</td>\n",
       "      <td>2443.0</td>\n",
       "      <td>2452.0</td>\n",
       "      <td>286</td>\n",
       "      <td>11</td>\n",
       "      <td>11</td>\n",
       "      <td>0</td>\n",
       "    </tr>\n",
       "  </tbody>\n",
       "</table>\n",
       "</div>"
      ],
      "text/plain": [
       "   ID  dt_close  product_id  liquidity_rank  normal_trading_day  dt_expiry  \\\n",
       "0   0      8862      401920               0                   1       8952   \n",
       "1   1      8862      401920               1                   1       8995   \n",
       "2   2      8862      401920               2                   1       9039   \n",
       "3   3      8862      401920               3                   1       9104   \n",
       "4   4      8862      401920               4                   1       9213   \n",
       "\n",
       "     open    high     low   close  open_interest  volume  tick_size  fixed  \n",
       "0  2710.0  2721.0  2624.0  2635.0           2814     402         11      0  \n",
       "1  2610.0  2638.0  2547.0  2560.0            905     107         11      0  \n",
       "2  2530.0  2550.0  2468.0  2478.0            719      41         11      0  \n",
       "3  2497.0  2508.0  2437.0  2443.0            466      25         11      0  \n",
       "4  2474.0  2505.0  2443.0  2452.0            286      11         11      0  "
      ]
     },
     "execution_count": 39,
     "metadata": {},
     "output_type": "execute_result"
    }
   ],
   "source": [
    "df_train.head(5)"
   ]
  },
  {
   "cell_type": "markdown",
   "metadata": {},
   "source": [
    "## Set ID as index\n",
    "\n",
    "the column **ID** is the identifier of the osbervations. It is used to retrieve a given prediction with its label. Let's set the column **ID** as the index of the dataframe with the method **set_index()**.\n",
    "\n",
    "- Set the column **ID** as the index of **df_train**.\n",
    "- Set the column **ID** as the index of **df_target_train**.\n",
    "- Set the column **ID** as the index of **df_test**."
   ]
  },
  {
   "cell_type": "code",
   "execution_count": 40,
   "metadata": {},
   "outputs": [],
   "source": [
    "df_train = df_train.set_index(['ID'])\n",
    "y_train = y_train.set_index('ID')\n",
    "df_test = df_test.set_index('ID')"
   ]
  },
  {
   "cell_type": "code",
   "execution_count": 41,
   "metadata": {},
   "outputs": [
    {
     "name": "stdout",
     "output_type": "stream",
     "text": [
      "1 test passed.\n",
      "1 test passed.\n"
     ]
    }
   ],
   "source": [
    "check_test(df_train.shape[1], 13, \"wrong number of columns\")\n",
    "check_test(y_train.shape, (629611, 1), \"wrong number of columns\")"
   ]
  },
  {
   "cell_type": "markdown",
   "metadata": {},
   "source": [
    "## Look at the distribution of the target\n",
    "\n",
    "Let's take a look on the column label (spread) in the train dataset. Take a look on the disribution of the label by plotting an histogram with matplotlib.\n",
    "\n",
    "- Plot the histogram of the serie **y_train**. You can use the parameter **bins** to change the number of slots.\n",
    "- Describe the serie **y_train** using the method **.describe()**."
   ]
  },
  {
   "cell_type": "code",
   "execution_count": 42,
   "metadata": {},
   "outputs": [
    {
     "data": {
      "image/png": "[encoded data removed]",
      "text/plain": [
       "<Figure size 432x288 with 1 Axes>"
      ]
     },
     "metadata": {
      "needs_background": "light"
     },
     "output_type": "display_data"
    },
    {
     "data": {
      "text/html": [
       "<div>\n",
       "<style scoped>\n",
       "    .dataframe tbody tr th:only-of-type {\n",
       "        vertical-align: middle;\n",
       "    }\n",
       "\n",
       "    .dataframe tbody tr th {\n",
       "        vertical-align: top;\n",
       "    }\n",
       "\n",
       "    .dataframe thead th {\n",
       "        text-align: right;\n",
       "    }\n",
       "</style>\n",
       "<table border=\"1\" class=\"dataframe\">\n",
       "  <thead>\n",
       "    <tr style=\"text-align: right;\">\n",
       "      <th></th>\n",
       "      <th>spread</th>\n",
       "    </tr>\n",
       "  </thead>\n",
       "  <tbody>\n",
       "    <tr>\n",
       "      <th>count</th>\n",
       "      <td>629611.000000</td>\n",
       "    </tr>\n",
       "    <tr>\n",
       "      <th>mean</th>\n",
       "      <td>2.844209</td>\n",
       "    </tr>\n",
       "    <tr>\n",
       "      <th>std</th>\n",
       "      <td>2.535074</td>\n",
       "    </tr>\n",
       "    <tr>\n",
       "      <th>min</th>\n",
       "      <td>1.000000</td>\n",
       "    </tr>\n",
       "    <tr>\n",
       "      <th>25%</th>\n",
       "      <td>1.138524</td>\n",
       "    </tr>\n",
       "    <tr>\n",
       "      <th>50%</th>\n",
       "      <td>1.810767</td>\n",
       "    </tr>\n",
       "    <tr>\n",
       "      <th>75%</th>\n",
       "      <td>3.241183</td>\n",
       "    </tr>\n",
       "    <tr>\n",
       "      <th>max</th>\n",
       "      <td>10.000000</td>\n",
       "    </tr>\n",
       "  </tbody>\n",
       "</table>\n",
       "</div>"
      ],
      "text/plain": [
       "              spread\n",
       "count  629611.000000\n",
       "mean        2.844209\n",
       "std         2.535074\n",
       "min         1.000000\n",
       "25%         1.138524\n",
       "50%         1.810767\n",
       "75%         3.241183\n",
       "max        10.000000"
      ]
     },
     "execution_count": 42,
     "metadata": {},
     "output_type": "execute_result"
    }
   ],
   "source": [
    "# Plot the histogram\n",
    "hist = y_train.plot.hist(bins=20)\n",
    "plt.show()\n",
    "\n",
    "# Describe the serie of label with the method .describe()\n",
    "y_train.describe()"
   ]
  },
  {
   "cell_type": "markdown",
   "metadata": {},
   "source": [
    "## Bid-ask spread with respect to the liquidity rank\n"
   ]
  },
  {
   "cell_type": "code",
   "execution_count": 43,
   "metadata": {},
   "outputs": [
    {
     "data": {
      "image/png": "[encoded data removed]",
      "text/plain": [
       "<Figure size 1080x576 with 1 Axes>"
      ]
     },
     "metadata": {
      "needs_background": "light"
     },
     "output_type": "display_data"
    }
   ],
   "source": [
    "plt.figure(figsize=[15, 8])\n",
    "ax = sns.boxplot(x='liquidity_rank', y='spread', data=df_full)\n",
    "plt.title(\"Distribution of the target per liquidity rank\")\n",
    "plt.show()"
   ]
  },
  {
   "cell_type": "markdown",
   "metadata": {},
   "source": [
    "## Tick size with respect to the liquidity rank"
   ]
  },
  {
   "cell_type": "code",
   "execution_count": 44,
   "metadata": {},
   "outputs": [
    {
     "data": {
      "image/png": "[encoded data removed]",
      "text/plain": [
       "<Figure size 1080x576 with 1 Axes>"
      ]
     },
     "metadata": {
      "needs_background": "light"
     },
     "output_type": "display_data"
    }
   ],
   "source": [
    "plt.figure(figsize=[15, 8])\n",
    "ax = sns.boxplot(x='liquidity_rank', y='tick_size', data=df_full)\n",
    "plt.title(\"Distribution of the ticket per liquidity rank\")\n",
    "plt.show()"
   ]
  },
  {
   "cell_type": "markdown",
   "metadata": {},
   "source": [
    "# Step 2 - Features engineering and selection\n",
    "\n",
    "According to the conclusions you get from step 1 exploration, process your data (features engineering, features selection, dimensionality reduction...). Feel free to create several different datasets if you want to explore different kind of dataframes."
   ]
  },
  {
   "cell_type": "markdown",
   "metadata": {},
   "source": [
    "## Compute the mean spread and volatility spread per product\n",
    "\n",
    "_(Here is an example of fetures engineering + interpretation you can perform to understand your features)._\n",
    "\n",
    "As seen above, there is a relationship between the bid-ask spread, the product and the liquidity rank. We will use past and future observations to retrieve the bid-ask spreads.\n",
    "\n",
    "- Create the mean target per product by grouping observations on product and liquidity rank on **df_full**.\n",
    "- Add a new column **mean_target_per_product** to train and test datasets using the merge function."
   ]
  },
  {
   "cell_type": "code",
   "execution_count": 45,
   "metadata": {},
   "outputs": [],
   "source": [
    "# compute mean_target_per_product\n",
    "mean_target_per_product = df_full.groupby(by = [\"product_id\", \"liquidity_rank\"])['spread'].mean()\n",
    "mean_target_per_product.name = \"mean_target_per_product\"\n",
    "\n",
    "# merge on df_train and df_test\n",
    "df_train = df_train.merge(mean_target_per_product, how=\"left\", right_index=True, left_on=[\"product_id\", \"liquidity_rank\"])\n",
    "df_test = df_test.merge(mean_target_per_product, how=\"left\", right_index=True, left_on=[\"product_id\", \"liquidity_rank\"])"
   ]
  },
  {
   "cell_type": "code",
   "execution_count": 46,
   "metadata": {},
   "outputs": [],
   "source": [
    "# compute std_target_per_product\n",
    "std_target_per_liquidity = df_full.groupby(by = [ \"liquidity_rank\"])['spread'].std()\n",
    "std_target_per_liquidity.name = \"std_target_per_liquidity\"\n",
    "\n",
    "# merge on df_train and df_test\n",
    "df_train = df_train.merge(std_target_per_liquidity, how=\"left\", right_index=True, left_on=[\"liquidity_rank\"])\n",
    "df_test = df_test.merge(std_target_per_liquidity, how=\"left\", right_index=True, left_on=[\"liquidity_rank\"])"
   ]
  },
  {
   "cell_type": "markdown",
   "metadata": {},
   "source": [
    "#### Compute maturity"
   ]
  },
  {
   "cell_type": "code",
   "execution_count": 47,
   "metadata": {},
   "outputs": [],
   "source": [
    "df_full['maturity'] = (df_full['dt_expiry']- df_full['dt_close'])/365\n",
    "df_train['maturity'] = (df_train['dt_expiry']- df_train['dt_close'])/365\n",
    "df_test['maturity'] = (df_test['dt_expiry']- df_test['dt_close'])/365"
   ]
  },
  {
   "cell_type": "markdown",
   "metadata": {},
   "source": [
    "## Maturity with respect to the liquidity rank"
   ]
  },
  {
   "cell_type": "code",
   "execution_count": 48,
   "metadata": {
    "scrolled": true
   },
   "outputs": [
    {
     "data": {
      "image/png": "[encoded data removed]",
      "text/plain": [
       "<Figure size 1080x576 with 1 Axes>"
      ]
     },
     "metadata": {
      "needs_background": "light"
     },
     "output_type": "display_data"
    }
   ],
   "source": [
    "plt.figure(figsize=[15, 8])\n",
    "ax = sns.boxplot(x='liquidity_rank', y='maturity', data=df_full)\n",
    "plt.title(\"Distribution of the maturity per liquidity rank\")\n",
    "plt.show()"
   ]
  },
  {
   "cell_type": "markdown",
   "metadata": {},
   "source": [
    "#### Compute Price variance usinf open, close, high and low prices"
   ]
  },
  {
   "cell_type": "code",
   "execution_count": 49,
   "metadata": {},
   "outputs": [],
   "source": [
    "df_full['hml'] = (np.log(df_full['high'])- np.log(df_full['open']))*(np.log(df_full['high'])- np.log(df_full['close'])) - (np.log(df_full['low'])- np.log(df_full['open']))*(np.log(df_full['low'])- np.log(df_full['close']))*100"
   ]
  },
  {
   "cell_type": "code",
   "execution_count": 50,
   "metadata": {},
   "outputs": [],
   "source": [
    "df_train['hml'] = (np.log(df_train['high'])- np.log(df_train['open']))*(np.log(df_train['high'])- np.log(df_train['close'])) - (np.log(df_train['low'])- np.log(df_train['open']))*(np.log(df_train['low'])- np.log(df_train['close']))*100\n",
    "df_test['hml'] = (np.log(df_test['high'])- np.log(df_test['open']))*(np.log(df_test['high'])- np.log(df_test['close'])) - (np.log(df_test['low'])- np.log(df_test['open']))*(np.log(df_test['low'])- np.log(df_test['close']))*100"
   ]
  },
  {
   "cell_type": "code",
   "execution_count": 51,
   "metadata": {},
   "outputs": [
    {
     "data": {
      "text/plain": [
       "count    629611.000000\n",
       "mean         -0.008997\n",
       "std           0.372184\n",
       "min        -255.932670\n",
       "25%          -0.005781\n",
       "50%          -0.001249\n",
       "75%          -0.000005\n",
       "max           0.314726\n",
       "Name: hml, dtype: float64"
      ]
     },
     "execution_count": 51,
     "metadata": {},
     "output_type": "execute_result"
    }
   ],
   "source": [
    "df_train['hml'].describe()"
   ]
  },
  {
   "cell_type": "code",
   "execution_count": 52,
   "metadata": {},
   "outputs": [],
   "source": [
    "df_train.drop(df_train.loc[df_train['hml']==df_train['hml'].min()].index, inplace=True)"
   ]
  },
  {
   "cell_type": "code",
   "execution_count": 53,
   "metadata": {},
   "outputs": [
    {
     "data": {
      "text/plain": [
       "count    629610.000000\n",
       "mean         -0.008591\n",
       "std           0.185724\n",
       "min         -69.546794\n",
       "25%          -0.005781\n",
       "50%          -0.001249\n",
       "75%          -0.000005\n",
       "max           0.314726\n",
       "Name: hml, dtype: float64"
      ]
     },
     "execution_count": 53,
     "metadata": {},
     "output_type": "execute_result"
    }
   ],
   "source": [
    "df_train['hml'].describe()"
   ]
  },
  {
   "cell_type": "code",
   "execution_count": 54,
   "metadata": {},
   "outputs": [],
   "source": [
    "df_full.drop(df_full.loc[df_full['hml']==df_full['hml'].min()].index, inplace=True)"
   ]
  },
  {
   "cell_type": "code",
   "execution_count": 55,
   "metadata": {},
   "outputs": [],
   "source": [
    "mean_hml = df_full.groupby('product_id')['hml'].mean()\n",
    "mean_hml.name = 'mean_hml'\n",
    "\n",
    "df_train = df_train.merge(mean_hml, how=\"left\", right_index=True, left_on=[\"product_id\"])\n",
    "df_test = df_test.merge(mean_hml, how=\"left\", right_index=True, left_on=[\"product_id\"])"
   ]
  },
  {
   "cell_type": "code",
   "execution_count": 56,
   "metadata": {},
   "outputs": [],
   "source": [
    "import numpy as np\n",
    "import matplotlib.pyplot as plt\n",
    "from sklearn.metrics import mean_squared_log_error\n",
    "from sklearn.preprocessing import LabelEncoder, OneHotEncoder\n",
    "from sklearn.model_selection import train_test_split\n",
    "from sklearn.preprocessing import MinMaxScaler\n",
    "from math import sqrt\n",
    "from math import log\n",
    "\n",
    "\n",
    "def one_hot_encoder(df, col_to_encode, col_is_int=True):\n",
    "    \"\"\"\n",
    "    Performs One Hot Encoding with sklearn.\n",
    "    df : pandas dataframe containing column to encode\n",
    "    col_to_encode : (str) column name\n",
    "    col_is_int : (bool) whether or not column is integer.\n",
    "    \"\"\"\n",
    "    # Create the mapping\n",
    "    if col_is_int: \n",
    "        integer_encoded = df[col_to_encode].reshape(-1, 1)\n",
    "    else:\n",
    "        values = df[col_to_encode].tolist()\n",
    "        label_encoder = LabelEncoder()\n",
    "        integer_encoded = label_encoder.fit_transform(values)\n",
    "    \n",
    "    # One hot encoder\n",
    "    ohe = OneHotEncoder(sparse=False)\n",
    "    integer_encoded = integer_encoded.reshape(len(integer_encoded), 1)\n",
    "    df_temp = pd.DataFrame(ohe.fit_transform(integer_encoded), index=df.index)\n",
    "    df_temp.columns = [\"%s_%s\" % (col_to_encode, col) for col in df_temp.columns]\n",
    "    df_results = pd.concat([df, df_temp], axis=1)\n",
    "    return df_results"
   ]
  },
  {
   "cell_type": "code",
   "execution_count": 57,
   "metadata": {},
   "outputs": [],
   "source": [
    "df_train = one_hot_encoder(df_train, \"liquidity_rank\", False)"
   ]
  },
  {
   "cell_type": "code",
   "execution_count": 58,
   "metadata": {},
   "outputs": [],
   "source": [
    "df_test = one_hot_encoder(df_test, \"liquidity_rank\", False)"
   ]
  },
  {
   "cell_type": "code",
   "execution_count": 59,
   "metadata": {},
   "outputs": [],
   "source": [
    "diff = df_full.sort_values(['product_id', 'liquidity_rank', 'dt_close'])\n",
    "diff = diff[['product_id', 'liquidity_rank', 'dt_close','spread']]\n",
    "diff['differ'] = diff['spread'].diff()\n",
    "diff['differ']  = diff['differ'].fillna(0)"
   ]
  },
  {
   "cell_type": "code",
   "execution_count": 60,
   "metadata": {},
   "outputs": [],
   "source": [
    "diff = diff[['product_id', 'liquidity_rank', 'dt_close','differ']]"
   ]
  },
  {
   "cell_type": "code",
   "execution_count": 61,
   "metadata": {},
   "outputs": [],
   "source": [
    "#df_train = df_train.merge(diff, how=\"left\", on=[\"product_id\", \"liquidity_rank\", 'dt_close'])"
   ]
  },
  {
   "cell_type": "code",
   "execution_count": 62,
   "metadata": {},
   "outputs": [],
   "source": [
    "mean_diff_per_product = diff.groupby(by = [\"product_id\", \"liquidity_rank\"])['differ'].mean()\n",
    "mean_diff_per_product.name = \"mean_diff_per_product\""
   ]
  },
  {
   "cell_type": "code",
   "execution_count": 63,
   "metadata": {},
   "outputs": [],
   "source": [
    "#df_train = df_train.merge(diff, how=\"left\", on=[\"product_id\", \"liquidity_rank\", 'dt_close'])\n",
    "df_train = df_train.merge(mean_diff_per_product, how=\"left\", right_index=True, left_on=[\"product_id\", \"liquidity_rank\"])\n",
    "df_test = df_test.merge(mean_diff_per_product, how=\"left\", right_index=True, left_on=[\"product_id\", \"liquidity_rank\"])"
   ]
  },
  {
   "cell_type": "code",
   "execution_count": 64,
   "metadata": {},
   "outputs": [],
   "source": [
    "mean_diff_per_date = diff.groupby(by = [\"dt_close\"])['differ'].mean()\n",
    "mean_diff_per_date.name = \"mean_diff_per_date\"\n",
    "df_train = df_train.merge(mean_diff_per_date, how=\"left\", right_index=True, left_on=[\"dt_close\"])\n",
    "df_test = df_test.merge(mean_diff_per_date, how=\"left\", right_index=True, left_on=[\"dt_close\"])"
   ]
  },
  {
   "cell_type": "code",
   "execution_count": 65,
   "metadata": {},
   "outputs": [],
   "source": [
    "std_diff_per_product = diff.groupby(by = [\"product_id\", \"liquidity_rank\"])['differ'].std()\n",
    "std_diff_per_product.name = \"std_diff_per_product\"\n",
    "df_train = df_train.merge(std_diff_per_product, how=\"left\", right_index=True, left_on=[\"product_id\", \"liquidity_rank\"])\n",
    "df_test = df_test.merge(std_diff_per_product, how=\"left\", right_index=True, left_on=[\"product_id\", \"liquidity_rank\"])"
   ]
  },
  {
   "cell_type": "code",
   "execution_count": 66,
   "metadata": {},
   "outputs": [],
   "source": [
    "std_diff_per_date = diff.groupby(by = [\"dt_close\"])['differ'].std()\n",
    "std_diff_per_date.name = \"std_diff_per_date\"\n",
    "df_train = df_train.merge(std_diff_per_date, how=\"left\", right_index=True, left_on=[\"dt_close\"])\n",
    "df_test = df_test.merge(std_diff_per_date, how=\"left\", right_index=True, left_on=[\"dt_close\"])"
   ]
  },
  {
   "cell_type": "code",
   "execution_count": 33,
   "metadata": {},
   "outputs": [],
   "source": [
    "#df_test[\"id2\"] = df_test.index"
   ]
  },
  {
   "cell_type": "code",
   "execution_count": 34,
   "metadata": {},
   "outputs": [
    {
     "data": {
      "text/html": [
       "<div>\n",
       "<style scoped>\n",
       "    .dataframe tbody tr th:only-of-type {\n",
       "        vertical-align: middle;\n",
       "    }\n",
       "\n",
       "    .dataframe tbody tr th {\n",
       "        vertical-align: top;\n",
       "    }\n",
       "\n",
       "    .dataframe thead th {\n",
       "        text-align: right;\n",
       "    }\n",
       "</style>\n",
       "<table border=\"1\" class=\"dataframe\">\n",
       "  <thead>\n",
       "    <tr style=\"text-align: right;\">\n",
       "      <th></th>\n",
       "      <th>dt_close</th>\n",
       "      <th>product_id</th>\n",
       "      <th>liquidity_rank</th>\n",
       "      <th>normal_trading_day</th>\n",
       "      <th>dt_expiry</th>\n",
       "      <th>open</th>\n",
       "      <th>high</th>\n",
       "      <th>low</th>\n",
       "      <th>close</th>\n",
       "      <th>open_interest</th>\n",
       "      <th>...</th>\n",
       "      <th>liquidity_rank_6</th>\n",
       "      <th>liquidity_rank_7</th>\n",
       "      <th>liquidity_rank_8</th>\n",
       "      <th>liquidity_rank_9</th>\n",
       "      <th>liquidity_rank_10</th>\n",
       "      <th>liquidity_rank_11</th>\n",
       "      <th>mean_diff_per_product</th>\n",
       "      <th>mean_diff_per_date</th>\n",
       "      <th>std_diff_per_product</th>\n",
       "      <th>std_diff_per_date</th>\n",
       "    </tr>\n",
       "    <tr>\n",
       "      <th>ID</th>\n",
       "      <th></th>\n",
       "      <th></th>\n",
       "      <th></th>\n",
       "      <th></th>\n",
       "      <th></th>\n",
       "      <th></th>\n",
       "      <th></th>\n",
       "      <th></th>\n",
       "      <th></th>\n",
       "      <th></th>\n",
       "      <th></th>\n",
       "      <th></th>\n",
       "      <th></th>\n",
       "      <th></th>\n",
       "      <th></th>\n",
       "      <th></th>\n",
       "      <th></th>\n",
       "      <th></th>\n",
       "      <th></th>\n",
       "      <th></th>\n",
       "      <th></th>\n",
       "    </tr>\n",
       "  </thead>\n",
       "  <tbody>\n",
       "    <tr>\n",
       "      <th>10429</th>\n",
       "      <td>8895</td>\n",
       "      <td>401920</td>\n",
       "      <td>0</td>\n",
       "      <td>1</td>\n",
       "      <td>8952</td>\n",
       "      <td>2346.0</td>\n",
       "      <td>2389.0</td>\n",
       "      <td>2317.0</td>\n",
       "      <td>2329.0</td>\n",
       "      <td>2020</td>\n",
       "      <td>...</td>\n",
       "      <td>0.0</td>\n",
       "      <td>0.0</td>\n",
       "      <td>0.0</td>\n",
       "      <td>0.0</td>\n",
       "      <td>0.0</td>\n",
       "      <td>0.0</td>\n",
       "      <td>-0.000594</td>\n",
       "      <td>0.020294</td>\n",
       "      <td>0.326679</td>\n",
       "      <td>1.238316</td>\n",
       "    </tr>\n",
       "    <tr>\n",
       "      <th>10755</th>\n",
       "      <td>8896</td>\n",
       "      <td>401920</td>\n",
       "      <td>0</td>\n",
       "      <td>1</td>\n",
       "      <td>8952</td>\n",
       "      <td>2325.0</td>\n",
       "      <td>2360.0</td>\n",
       "      <td>2320.0</td>\n",
       "      <td>2344.0</td>\n",
       "      <td>1965</td>\n",
       "      <td>...</td>\n",
       "      <td>0.0</td>\n",
       "      <td>0.0</td>\n",
       "      <td>0.0</td>\n",
       "      <td>0.0</td>\n",
       "      <td>0.0</td>\n",
       "      <td>0.0</td>\n",
       "      <td>-0.000594</td>\n",
       "      <td>0.056229</td>\n",
       "      <td>0.326679</td>\n",
       "      <td>1.394376</td>\n",
       "    </tr>\n",
       "    <tr>\n",
       "      <th>11081</th>\n",
       "      <td>8897</td>\n",
       "      <td>401920</td>\n",
       "      <td>0</td>\n",
       "      <td>1</td>\n",
       "      <td>8952</td>\n",
       "      <td>2341.0</td>\n",
       "      <td>2353.0</td>\n",
       "      <td>2268.0</td>\n",
       "      <td>2280.0</td>\n",
       "      <td>1988</td>\n",
       "      <td>...</td>\n",
       "      <td>0.0</td>\n",
       "      <td>0.0</td>\n",
       "      <td>0.0</td>\n",
       "      <td>0.0</td>\n",
       "      <td>0.0</td>\n",
       "      <td>0.0</td>\n",
       "      <td>-0.000594</td>\n",
       "      <td>-0.085144</td>\n",
       "      <td>0.326679</td>\n",
       "      <td>1.468887</td>\n",
       "    </tr>\n",
       "    <tr>\n",
       "      <th>11397</th>\n",
       "      <td>8898</td>\n",
       "      <td>401920</td>\n",
       "      <td>0</td>\n",
       "      <td>1</td>\n",
       "      <td>8952</td>\n",
       "      <td>2298.0</td>\n",
       "      <td>2324.0</td>\n",
       "      <td>2262.0</td>\n",
       "      <td>2275.0</td>\n",
       "      <td>1825</td>\n",
       "      <td>...</td>\n",
       "      <td>0.0</td>\n",
       "      <td>0.0</td>\n",
       "      <td>0.0</td>\n",
       "      <td>0.0</td>\n",
       "      <td>0.0</td>\n",
       "      <td>0.0</td>\n",
       "      <td>-0.000594</td>\n",
       "      <td>0.077903</td>\n",
       "      <td>0.326679</td>\n",
       "      <td>1.453304</td>\n",
       "    </tr>\n",
       "    <tr>\n",
       "      <th>11705</th>\n",
       "      <td>8899</td>\n",
       "      <td>401920</td>\n",
       "      <td>0</td>\n",
       "      <td>1</td>\n",
       "      <td>8952</td>\n",
       "      <td>2310.0</td>\n",
       "      <td>2314.0</td>\n",
       "      <td>2276.0</td>\n",
       "      <td>2308.0</td>\n",
       "      <td>2070</td>\n",
       "      <td>...</td>\n",
       "      <td>0.0</td>\n",
       "      <td>0.0</td>\n",
       "      <td>0.0</td>\n",
       "      <td>0.0</td>\n",
       "      <td>0.0</td>\n",
       "      <td>0.0</td>\n",
       "      <td>-0.000594</td>\n",
       "      <td>0.082457</td>\n",
       "      <td>0.326679</td>\n",
       "      <td>1.572931</td>\n",
       "    </tr>\n",
       "    <tr>\n",
       "      <th>...</th>\n",
       "      <td>...</td>\n",
       "      <td>...</td>\n",
       "      <td>...</td>\n",
       "      <td>...</td>\n",
       "      <td>...</td>\n",
       "      <td>...</td>\n",
       "      <td>...</td>\n",
       "      <td>...</td>\n",
       "      <td>...</td>\n",
       "      <td>...</td>\n",
       "      <td>...</td>\n",
       "      <td>...</td>\n",
       "      <td>...</td>\n",
       "      <td>...</td>\n",
       "      <td>...</td>\n",
       "      <td>...</td>\n",
       "      <td>...</td>\n",
       "      <td>...</td>\n",
       "      <td>...</td>\n",
       "      <td>...</td>\n",
       "      <td>...</td>\n",
       "    </tr>\n",
       "    <tr>\n",
       "      <th>856590</th>\n",
       "      <td>11442</td>\n",
       "      <td>199478784</td>\n",
       "      <td>0</td>\n",
       "      <td>1</td>\n",
       "      <td>11452</td>\n",
       "      <td>6952.0</td>\n",
       "      <td>6974.0</td>\n",
       "      <td>6891.0</td>\n",
       "      <td>6936.0</td>\n",
       "      <td>1859</td>\n",
       "      <td>...</td>\n",
       "      <td>0.0</td>\n",
       "      <td>0.0</td>\n",
       "      <td>0.0</td>\n",
       "      <td>0.0</td>\n",
       "      <td>0.0</td>\n",
       "      <td>0.0</td>\n",
       "      <td>0.012076</td>\n",
       "      <td>0.019644</td>\n",
       "      <td>1.892032</td>\n",
       "      <td>0.702481</td>\n",
       "    </tr>\n",
       "    <tr>\n",
       "      <th>856910</th>\n",
       "      <td>11443</td>\n",
       "      <td>199478784</td>\n",
       "      <td>0</td>\n",
       "      <td>1</td>\n",
       "      <td>11452</td>\n",
       "      <td>6923.0</td>\n",
       "      <td>6937.0</td>\n",
       "      <td>6865.0</td>\n",
       "      <td>6884.0</td>\n",
       "      <td>1857</td>\n",
       "      <td>...</td>\n",
       "      <td>0.0</td>\n",
       "      <td>0.0</td>\n",
       "      <td>0.0</td>\n",
       "      <td>0.0</td>\n",
       "      <td>0.0</td>\n",
       "      <td>0.0</td>\n",
       "      <td>0.012076</td>\n",
       "      <td>-0.031561</td>\n",
       "      <td>1.892032</td>\n",
       "      <td>0.682153</td>\n",
       "    </tr>\n",
       "    <tr>\n",
       "      <th>857250</th>\n",
       "      <td>11444</td>\n",
       "      <td>199478784</td>\n",
       "      <td>0</td>\n",
       "      <td>1</td>\n",
       "      <td>11452</td>\n",
       "      <td>6887.0</td>\n",
       "      <td>6943.0</td>\n",
       "      <td>6855.0</td>\n",
       "      <td>6888.0</td>\n",
       "      <td>1599</td>\n",
       "      <td>...</td>\n",
       "      <td>0.0</td>\n",
       "      <td>0.0</td>\n",
       "      <td>0.0</td>\n",
       "      <td>0.0</td>\n",
       "      <td>0.0</td>\n",
       "      <td>0.0</td>\n",
       "      <td>0.012076</td>\n",
       "      <td>0.339534</td>\n",
       "      <td>1.892032</td>\n",
       "      <td>1.324968</td>\n",
       "    </tr>\n",
       "    <tr>\n",
       "      <th>857575</th>\n",
       "      <td>11445</td>\n",
       "      <td>199478784</td>\n",
       "      <td>0</td>\n",
       "      <td>1</td>\n",
       "      <td>11452</td>\n",
       "      <td>6803.0</td>\n",
       "      <td>6841.0</td>\n",
       "      <td>6689.0</td>\n",
       "      <td>6708.0</td>\n",
       "      <td>1772</td>\n",
       "      <td>...</td>\n",
       "      <td>0.0</td>\n",
       "      <td>0.0</td>\n",
       "      <td>0.0</td>\n",
       "      <td>0.0</td>\n",
       "      <td>0.0</td>\n",
       "      <td>0.0</td>\n",
       "      <td>0.012076</td>\n",
       "      <td>0.068608</td>\n",
       "      <td>1.892032</td>\n",
       "      <td>0.746563</td>\n",
       "    </tr>\n",
       "    <tr>\n",
       "      <th>857920</th>\n",
       "      <td>11446</td>\n",
       "      <td>199478784</td>\n",
       "      <td>0</td>\n",
       "      <td>1</td>\n",
       "      <td>11452</td>\n",
       "      <td>6700.0</td>\n",
       "      <td>6747.0</td>\n",
       "      <td>6664.0</td>\n",
       "      <td>6734.0</td>\n",
       "      <td>1816</td>\n",
       "      <td>...</td>\n",
       "      <td>0.0</td>\n",
       "      <td>0.0</td>\n",
       "      <td>0.0</td>\n",
       "      <td>0.0</td>\n",
       "      <td>0.0</td>\n",
       "      <td>0.0</td>\n",
       "      <td>0.012076</td>\n",
       "      <td>-0.154661</td>\n",
       "      <td>1.892032</td>\n",
       "      <td>0.860217</td>\n",
       "    </tr>\n",
       "  </tbody>\n",
       "</table>\n",
       "<p>230304 rows × 34 columns</p>\n",
       "</div>"
      ],
      "text/plain": [
       "        dt_close  product_id  liquidity_rank  normal_trading_day  dt_expiry  \\\n",
       "ID                                                                            \n",
       "10429       8895      401920               0                   1       8952   \n",
       "10755       8896      401920               0                   1       8952   \n",
       "11081       8897      401920               0                   1       8952   \n",
       "11397       8898      401920               0                   1       8952   \n",
       "11705       8899      401920               0                   1       8952   \n",
       "...          ...         ...             ...                 ...        ...   \n",
       "856590     11442   199478784               0                   1      11452   \n",
       "856910     11443   199478784               0                   1      11452   \n",
       "857250     11444   199478784               0                   1      11452   \n",
       "857575     11445   199478784               0                   1      11452   \n",
       "857920     11446   199478784               0                   1      11452   \n",
       "\n",
       "          open    high     low   close  open_interest  ...  liquidity_rank_6  \\\n",
       "ID                                                     ...                     \n",
       "10429   2346.0  2389.0  2317.0  2329.0           2020  ...               0.0   \n",
       "10755   2325.0  2360.0  2320.0  2344.0           1965  ...               0.0   \n",
       "11081   2341.0  2353.0  2268.0  2280.0           1988  ...               0.0   \n",
       "11397   2298.0  2324.0  2262.0  2275.0           1825  ...               0.0   \n",
       "11705   2310.0  2314.0  2276.0  2308.0           2070  ...               0.0   \n",
       "...        ...     ...     ...     ...            ...  ...               ...   \n",
       "856590  6952.0  6974.0  6891.0  6936.0           1859  ...               0.0   \n",
       "856910  6923.0  6937.0  6865.0  6884.0           1857  ...               0.0   \n",
       "857250  6887.0  6943.0  6855.0  6888.0           1599  ...               0.0   \n",
       "857575  6803.0  6841.0  6689.0  6708.0           1772  ...               0.0   \n",
       "857920  6700.0  6747.0  6664.0  6734.0           1816  ...               0.0   \n",
       "\n",
       "        liquidity_rank_7  liquidity_rank_8  liquidity_rank_9  \\\n",
       "ID                                                             \n",
       "10429                0.0               0.0               0.0   \n",
       "10755                0.0               0.0               0.0   \n",
       "11081                0.0               0.0               0.0   \n",
       "11397                0.0               0.0               0.0   \n",
       "11705                0.0               0.0               0.0   \n",
       "...                  ...               ...               ...   \n",
       "856590               0.0               0.0               0.0   \n",
       "856910               0.0               0.0               0.0   \n",
       "857250               0.0               0.0               0.0   \n",
       "857575               0.0               0.0               0.0   \n",
       "857920               0.0               0.0               0.0   \n",
       "\n",
       "        liquidity_rank_10  liquidity_rank_11  mean_diff_per_product  \\\n",
       "ID                                                                    \n",
       "10429                 0.0                0.0              -0.000594   \n",
       "10755                 0.0                0.0              -0.000594   \n",
       "11081                 0.0                0.0              -0.000594   \n",
       "11397                 0.0                0.0              -0.000594   \n",
       "11705                 0.0                0.0              -0.000594   \n",
       "...                   ...                ...                    ...   \n",
       "856590                0.0                0.0               0.012076   \n",
       "856910                0.0                0.0               0.012076   \n",
       "857250                0.0                0.0               0.012076   \n",
       "857575                0.0                0.0               0.012076   \n",
       "857920                0.0                0.0               0.012076   \n",
       "\n",
       "        mean_diff_per_date  std_diff_per_product  std_diff_per_date  \n",
       "ID                                                                   \n",
       "10429             0.020294              0.326679           1.238316  \n",
       "10755             0.056229              0.326679           1.394376  \n",
       "11081            -0.085144              0.326679           1.468887  \n",
       "11397             0.077903              0.326679           1.453304  \n",
       "11705             0.082457              0.326679           1.572931  \n",
       "...                    ...                   ...                ...  \n",
       "856590            0.019644              1.892032           0.702481  \n",
       "856910           -0.031561              1.892032           0.682153  \n",
       "857250            0.339534              1.892032           1.324968  \n",
       "857575            0.068608              1.892032           0.746563  \n",
       "857920           -0.154661              1.892032           0.860217  \n",
       "\n",
       "[230304 rows x 34 columns]"
      ]
     },
     "execution_count": 34,
     "metadata": {},
     "output_type": "execute_result"
    }
   ],
   "source": [
    "#df_test.sort_values(['product_id', 'liquidity_rank', 'dt_close'])"
   ]
  },
  {
   "cell_type": "code",
   "execution_count": 35,
   "metadata": {},
   "outputs": [],
   "source": [
    "#df_test = pd.merge_asof( df_test, diff.sort_values('dt_close'),  on='dt_close', by = [\"product_id\", \"liquidity_rank\"])"
   ]
  },
  {
   "cell_type": "code",
   "execution_count": 36,
   "metadata": {},
   "outputs": [],
   "source": [
    "#df_test = df_test.set_index('id2')"
   ]
  },
  {
   "cell_type": "markdown",
   "metadata": {},
   "source": [
    "## Features selection\n",
    "\n",
    "Before running a machine learning algorithm, we have to select the features relevant with our modelization.\n",
    "- In this section, select a set of features you want to use in your machine learning pipeline. Assign this list in the variable **features**. For example, you can start with features [\"liquidity_rank\", \"normal_trading_day\", \"open_interest\", \"mean_target_per_product\"].\n",
    "- Make sure that you have removed the feature **ID** from this list as it is not relevant for the model.\n",
    "\n",
    "Note : You can access a dataframe columns using the dataframe's attribute **.columns**"
   ]
  },
  {
   "cell_type": "code",
   "execution_count": 67,
   "metadata": {},
   "outputs": [
    {
     "data": {
      "image/png": "[encoded data removed]",
      "text/plain": [
       "<Figure size 432x288 with 2 Axes>"
      ]
     },
     "metadata": {
      "needs_background": "light"
     },
     "output_type": "display_data"
    }
   ],
   "source": [
    "import seaborn as sn\n",
    "import matplotlib.pyplot as plt\n",
    "\n",
    "corrMatrix = df_train.corr()\n",
    "sn.heatmap(corrMatrix, annot=False)\n",
    "plt.show()"
   ]
  },
  {
   "cell_type": "code",
   "execution_count": 113,
   "metadata": {},
   "outputs": [],
   "source": [
    "features_test = pd.DataFrame(df_test)\n",
    "#features_test = pd.DataFrame(df_test, columns= ['mean_diff_per_product','std_diff_per_product','mean_diff_per_date','std_diff_per_date','hml','liquidity_rank_1', 'liquidity_rank_2','liquidity_rank_3','liquidity_rank_4','liquidity_rank_5','liquidity_rank_6','liquidity_rank_7','liquidity_rank_8','liquidity_rank_9','liquidity_rank_10','liquidity_rank_11',\"volume\", \"fixed\", \"product_id\", \"normal_trading_day\", \"open_interest\", \"mean_target_per_product\", \"std_target_per_liquidity\",  'maturity', 'tick_size', 'mean_hml', 'high', 'low', 'dt_close'])\n",
    "#features_test = pd.DataFrame(df_test, columns= ['mean_diff_per_product','std_diff_per_product','mean_diff_per_date','std_diff_per_date','hml','volume',  'fixed', \"product_id\",  \"open_interest\", \"mean_target_per_product\",  'maturity', 'tick_size', 'mean_hml', 'high', 'low', 'dt_close'])\n",
    "#features_test = pd.DataFrame(df_test, columns= ['volume',   \"open_interest\", \"mean_target_per_product\",  'maturity'])\n",
    "#features_test = pd.DataFrame(df_test, columns= [\"volume\",  \"hml\", \"fixed\", \"product_id\", \"normal_trading_day\", \"open_interest\", \"mean_target_per_product\", \"std_target_per_liquidity\",  'maturity', 'tick_size', 'mean_hml'])"
   ]
  },
  {
   "cell_type": "code",
   "execution_count": 114,
   "metadata": {},
   "outputs": [],
   "source": [
    "features_train = pd.DataFrame(df_train)\n",
    "#features_train = pd.DataFrame(df_train, columns= ['mean_diff_per_product','std_diff_per_product','mean_diff_per_date','std_diff_per_date','hml','liquidity_rank_1', 'liquidity_rank_2','liquidity_rank_3','liquidity_rank_4','liquidity_rank_5','liquidity_rank_6','liquidity_rank_7','liquidity_rank_8','liquidity_rank_9','liquidity_rank_10','liquidity_rank_11', \"volume\",  \"fixed\", \"product_id\", \"normal_trading_day\", \"open_interest\", \"mean_target_per_product\", \"std_target_per_liquidity\",  'maturity', 'tick_size', 'mean_hml', 'high', 'low', 'dt_close'])\n",
    "#features_train = pd.DataFrame(df_train, columns= ['mean_diff_per_date','std_diff_per_product','std_diff_per_date','mean_diff_per_product','hml','volume',  \"fixed\", \"product_id\",\"open_interest\", \"mean_target_per_product\",  'maturity', 'tick_size', 'mean_hml', 'high', 'low', 'dt_close'])\n",
    "#features_train = pd.DataFrame(df_train, columns= ['volume',  \"open_interest\", \"mean_target_per_product\",  'maturity'])\n",
    "#features_train = pd.DataFrame(df_train, columns= [\"volume\",  \"hml\", \"fixed\", \"product_id\", \"normal_trading_day\", \"open_interest\", \"mean_target_per_product\", \"std_target_per_liquidity\",  'maturity', 'tick_size', 'mean_hml'])"
   ]
  },
  {
   "cell_type": "code",
   "execution_count": 70,
   "metadata": {},
   "outputs": [
    {
     "name": "stdout",
     "output_type": "stream",
     "text": [
      "1 test passed.\n"
     ]
    }
   ],
   "source": [
    "check_test(\"ID\" not in features_test, True, \"error : column ID still in the features.\")"
   ]
  },
  {
   "cell_type": "markdown",
   "metadata": {},
   "source": [
    "## Other things you can try\n",
    "\n",
    "There are a lot ot experiments you can try to process your data. If you lack in ideas, here are some you can try :\n",
    "\n",
    "- Create new insights from the raw data. \n",
    "- Perform features selection / dimensionality reduction to enhance the features.\n",
    "- ...\n",
    "\n",
    "Once again, feel completly free to provide your own process, interpretations and conclusions..."
   ]
  },
  {
   "cell_type": "markdown",
   "metadata": {},
   "source": [
    "# Step 3 - Machine learning algorithms experiments\n",
    "\n",
    "In this part, you will test different machine learning algorithms and configurations. It is your sandbox before running the final machine learning model. You will also have to evaluate your results and interpret it."
   ]
  },
  {
   "cell_type": "markdown",
   "metadata": {},
   "source": [
    "## Validation procedure\n",
    "\n",
    "In this section, we will split our dataset into a train set and a validation set. Asn an example, we will use the simple **train_test_split** approach. However, you are free to choose the validation procedure. Justify your choices.\n",
    "\n",
    "- Using the train-test split approach, split your train dataframe. Assign the resulting dataframes to variables **x_train**, **x_val**, **y_train** and **y_val**."
   ]
  },
  {
   "cell_type": "code",
   "execution_count": 115,
   "metadata": {},
   "outputs": [],
   "source": [
    "from sklearn.model_selection import train_test_split\n",
    "\n",
    "x_train, x_val, y_train, y_val = train_test_split(features_train, df_full['spread'])\n",
    "x_test = features_test"
   ]
  },
  {
   "cell_type": "markdown",
   "metadata": {},
   "source": [
    "## Vanilla linear regression\n",
    "\n",
    "Let us test a first linear regression model with default parameters and all the features.\n",
    "\n",
    "- Train a simple linear regression and assign the resulting model to the variable **model**.\n",
    "- Use the model to make predictions on the train set samples. Assign the resulting serie to **pred_train**.\n",
    "- Use the model to make predictions on the validation set samples. Assign the resulting serie to **pred_val**."
   ]
  },
  {
   "cell_type": "code",
   "execution_count": 72,
   "metadata": {},
   "outputs": [],
   "source": [
    "from sklearn.linear_model import LinearRegression\n",
    "from sklearn.model_selection import cross_val_predict\n",
    "\n",
    "reg = LinearRegression()\n",
    "model = reg.fit(x_train, y_train)\n",
    "pred_train = model.predict(x_train)\n",
    "pred_val = model.predict(x_val)"
   ]
  },
  {
   "cell_type": "markdown",
   "metadata": {},
   "source": [
    "## Evaluate the results of the vanilla linear regression\n",
    "\n",
    "Classification metrics for this lab is the MSE (Mean Squared Error). Sklearn provides an implementation of this metrics [here](https://scikit-learn.org/stable/modules/generated/sklearn.metrics.mean_squared_error.html). According to you, are you in an underfitting or an overfitting situation?"
   ]
  },
  {
   "cell_type": "code",
   "execution_count": 73,
   "metadata": {},
   "outputs": [
    {
     "name": "stdout",
     "output_type": "stream",
     "text": [
      "RMSE score on train dataset : 1.2949980103807208\n",
      "RMSE score on validation dataset : 1.294632415336909\n"
     ]
    }
   ],
   "source": [
    "from sklearn.metrics import mean_squared_error\n",
    "from math import sqrt\n",
    "\n",
    "def compute_rmse(y_true, y_pred):\n",
    "    return sqrt(mean_squared_error(y_true, y_pred))\n",
    "\n",
    "rmse_train = compute_rmse(y_train, pred_train)\n",
    "rmse_val = compute_rmse(y_val, pred_val)\n",
    "\n",
    "print(\"RMSE score on train dataset : %s\" % rmse_train)\n",
    "print(\"RMSE score on validation dataset : %s\" % rmse_val)"
   ]
  },
  {
   "cell_type": "markdown",
   "metadata": {},
   "source": [
    "## Random Forest model"
   ]
  },
  {
   "cell_type": "code",
   "execution_count": 110,
   "metadata": {},
   "outputs": [
    {
     "name": "stdout",
     "output_type": "stream",
     "text": [
      "depth = 22 | RMSE train = 0.30955280524783074 | RMSE val = 0.6954842000532563\n",
      "depth = 23 | RMSE train = 0.29419381457059285 | RMSE val = 0.6943361306626881\n",
      "depth = 24 | RMSE train = 0.2836879827946212 | RMSE val = 0.69504272416622\n",
      "depth = 25 | RMSE train = 0.2762030149063788 | RMSE val = 0.694081490112042\n"
     ]
    }
   ],
   "source": [
    "from sklearn.tree import DecisionTreeRegressor\n",
    "from sklearn.ensemble import RandomForestRegressor\n",
    "import math\n",
    "\n",
    "# Prerequisites :\n",
    "depths = range(22, 26)\n",
    "all_rmse_train = []\n",
    "all_rmse_val = []\n",
    "experiments  = []\n",
    "all_rmse_train_tree = []\n",
    "all_rmse_train_forest = []\n",
    "all_rmse_val_tree = []\n",
    "all_rmse_val_forest = []\n",
    "\n",
    "\n",
    "for depth in depths: \n",
    "        # Random Forest\n",
    "        clf_forest = RandomForestRegressor(n_estimators=100, max_depth=depth, n_jobs=-1)\n",
    "        model_forest = clf_forest.fit(x_train, y_train)\n",
    "\n",
    "        pred_train = pd.Series(model_forest.predict(x_train), index=y_train.index)\n",
    "        pred_val = pd.Series(model_forest.predict(x_val), index=y_val.index)\n",
    "\n",
    "\n",
    "        # Compute MSLE evaluation metrics\n",
    "        rmse_train = compute_rmse(y_train, pred_train)\n",
    "        rmse_val = compute_rmse(y_val, pred_val)\n",
    "        all_rmse_train.append(rmse_train)\n",
    "        all_rmse_val.append(rmse_val)\n",
    "\n",
    "        print(\"depth = %s | RMSE train = %s | RMSE val = %s\" % (depth, rmse_train, rmse_val))"
   ]
  },
  {
   "cell_type": "code",
   "execution_count": 111,
   "metadata": {},
   "outputs": [
    {
     "data": {
      "image/png": "[encoded data removed]",
      "text/plain": [
       "<Figure size 864x360 with 1 Axes>"
      ]
     },
     "metadata": {
      "needs_background": "light"
     },
     "output_type": "display_data"
    }
   ],
   "source": [
    "fig = plt.figure(figsize=[12, 5])\n",
    "plt.plot(depths, all_rmse_train, color=\"y\", label=\"Random Forest - train\")                                                \n",
    "plt.xlabel(\"tree depth\")\n",
    "plt.ylabel(\"RMSLE\")\n",
    "plt.title(\"Learning curves - playing on tree depth\")\n",
    "plt.legend(loc=\"lower left\", prop={'size': 8})\n",
    "plt.show()"
   ]
  },
  {
   "cell_type": "code",
   "execution_count": 112,
   "metadata": {},
   "outputs": [
    {
     "data": {
      "image/png": "[encoded data removed]",
      "text/plain": [
       "<Figure size 864x360 with 1 Axes>"
      ]
     },
     "metadata": {
      "needs_background": "light"
     },
     "output_type": "display_data"
    }
   ],
   "source": [
    "fig = plt.figure(figsize=[12, 5])\n",
    "plt.plot(depths, all_rmse_val, color=\"r\", label=\"Random Forest - validation\")                                                  \n",
    "plt.xlabel(\"tree depth\")\n",
    "plt.ylabel(\"RMSLE\")\n",
    "plt.title(\"Learning curves - playing on tree depth\")\n",
    "plt.legend(loc=\"lower left\", prop={'size': 8})\n",
    "plt.show()"
   ]
  },
  {
   "cell_type": "code",
   "execution_count": 50,
   "metadata": {},
   "outputs": [
    {
     "name": "stdout",
     "output_type": "stream",
     "text": [
      "estimator = 100 | RMSE train = 0.2829432528715012 | RMSE val = 0.6959073843463459\n",
      "estimator = 200 | RMSE train = 0.2809174538588833 | RMSE val = 0.693789495808403\n",
      "estimator = 300 | RMSE train = 0.27986429523948286 | RMSE val = 0.6936173888880286\n",
      "estimator = 400 | RMSE train = 0.279524427055704 | RMSE val = 0.6934513777398031\n"
     ]
    }
   ],
   "source": [
    "estimators = range(100, 450, 100)\n",
    "all_rmse_train = []\n",
    "all_rmse_val = []\n",
    "experiments  = []\n",
    "all_rmse_train_tree = []\n",
    "all_rmse_train_forest = []\n",
    "all_rmse_val_tree = []\n",
    "all_rmse_val_forest = []\n",
    "\n",
    "\n",
    "for estimator in estimators: \n",
    "\n",
    "    # Random Forest\n",
    "    clf_forest = RandomForestRegressor(n_estimators=estimator, max_depth=24, n_jobs=-1)\n",
    "    model_forest = clf_forest.fit(x_train, y_train)\n",
    "    \n",
    "    pred_train = pd.Series(model_forest.predict(x_train), index=y_train.index)\n",
    "    pred_val = pd.Series(model_forest.predict(x_val), index=y_val.index)\n",
    "\n",
    "\n",
    "        # Compute MSLE evaluation metrics\n",
    "    rmse_train = compute_rmse(y_train, pred_train)\n",
    "    rmse_val = compute_rmse(y_val, pred_val)\n",
    "    all_rmse_train.append(rmse_train)\n",
    "    all_rmse_val.append(rmse_val)\n",
    "    print(\"estimator = %s | RMSE train = %s | RMSE val = %s\" % (estimator, rmse_train, rmse_val))"
   ]
  },
  {
   "cell_type": "code",
   "execution_count": 61,
   "metadata": {},
   "outputs": [
    {
     "data": {
      "image/png": "[encoded data removed]",
      "text/plain": [
       "<Figure size 864x360 with 1 Axes>"
      ]
     },
     "metadata": {
      "needs_background": "light"
     },
     "output_type": "display_data"
    }
   ],
   "source": [
    "fig = plt.figure(figsize=[12, 5])\n",
    "\n",
    "plt.plot(estimators, all_rmse_train, color=\"y\", label=\"Random Forest - train\")\n",
    "                                              \n",
    "plt.xlabel(\"tree estimators\")\n",
    "plt.ylabel(\"RMSLE\")\n",
    "plt.title(\"Learning curves - playing on tree estimators\")\n",
    "plt.legend(loc=\"lower left\", prop={'size': 8})\n",
    "plt.show()"
   ]
  },
  {
   "cell_type": "code",
   "execution_count": 62,
   "metadata": {
    "scrolled": true
   },
   "outputs": [
    {
     "data": {
      "image/png": "[encoded data removed]",
      "text/plain": [
       "<Figure size 864x360 with 1 Axes>"
      ]
     },
     "metadata": {
      "needs_background": "light"
     },
     "output_type": "display_data"
    }
   ],
   "source": [
    "fig = plt.figure(figsize=[12, 5])\n",
    "plt.plot(estimators, all_rmse_val, color=\"r\", label=\"Random Forest - validation\")\n",
    "plt.xlabel(\"tree estimators\")\n",
    "plt.ylabel(\"RMSLE\")\n",
    "plt.title(\"Learning curves - playing on tree estimators\")\n",
    "plt.legend(loc=\"lower left\", prop={'size': 8})\n",
    "plt.show()"
   ]
  },
  {
   "cell_type": "markdown",
   "metadata": {},
   "source": [
    "### Select Features by comparing feature importance"
   ]
  },
  {
   "cell_type": "code",
   "execution_count": 80,
   "metadata": {
    "scrolled": false
   },
   "outputs": [
    {
     "name": "stdout",
     "output_type": "stream",
     "text": [
      "RMSE train : 0.2792939567334985\n",
      "RMSE validation : 0.6888262369597117\n",
      "mean_diff_per_product 0.007830841252857584\n",
      "std_diff_per_product 0.012556055995105847\n",
      "mean_diff_per_date 0.010312854033338238\n",
      "std_diff_per_date 0.011533934545986878\n",
      "hml 0.011412453245468395\n",
      "liquidity_rank_1 0.002301282862864728\n",
      "liquidity_rank_2 0.0003624241562743198\n",
      "liquidity_rank_3 0.0002637927028441977\n",
      "liquidity_rank_4 0.00019341591811685048\n",
      "liquidity_rank_5 0.00047913801775583076\n",
      "liquidity_rank_6 0.0001298385854587855\n",
      "liquidity_rank_7 0.00012491754324413915\n",
      "liquidity_rank_8 2.1993463645766936e-08\n",
      "liquidity_rank_9 3.6048307075206475e-08\n",
      "liquidity_rank_10 2.6996270077602815e-08\n",
      "liquidity_rank_11 3.2962230518917192e-09\n",
      "volume 0.03020445693853531\n",
      "fixed 0.003624624300074221\n",
      "product_id 0.004401598215070848\n",
      "normal_trading_day 0.0007131747779666049\n",
      "open_interest 0.02596026628672818\n",
      "mean_target_per_product 0.7235122674975124\n",
      "std_target_per_liquidity 0.0017416117468912063\n",
      "maturity 0.025387334988483758\n",
      "tick_size 0.0068634851237664935\n",
      "mean_hml 0.006734497785596775\n",
      "high 0.022465382963141104\n",
      "low 0.01616748655174062\n",
      "dt_close 0.07472277563091306\n"
     ]
    },
    {
     "data": {
      "image/png": "[encoded data removed]",
      "text/plain": [
       "<Figure size 432x288 with 1 Axes>"
      ]
     },
     "metadata": {
      "needs_background": "light"
     },
     "output_type": "display_data"
    }
   ],
   "source": [
    "clf_forest = RandomForestRegressor(n_estimators=400, max_depth=24, n_jobs=-1)\n",
    "model_forest = clf_forest.fit(x_train, y_train)\n",
    "\n",
    "pred_train = pd.Series(model_forest.predict(x_train), index=y_train.index)\n",
    "pred_val = pd.Series(model_forest.predict(x_val), index=y_val.index)\n",
    "\n",
    "rmse_train = compute_rmse(y_train, pred_train)\n",
    "rmse_val = compute_rmse(y_val, pred_val)\n",
    "\n",
    "print(\"RMSE train : %s\" % rmse_train)\n",
    "print(\"RMSE validation : %s\" % rmse_val)\n",
    "\n",
    "importances = model_forest.feature_importances_\n",
    "\n",
    "for name, importance in zip(x_train.columns, clf_forest.feature_importances_):\n",
    "    print(name, importance)\n",
    "\n",
    "x_values = list(range(len(importances)))\n",
    "plt.bar(x_values, importances, orientation = 'vertical', color = 'r', edgecolor = 'k', linewidth = 1.2)\n",
    "plt.xticks(x_values, features_train, rotation='vertical')\n",
    "plt.ylabel('Importance'); plt.xlabel('Variable'); plt.title('Variable Importances');\n",
    "plt.show()"
   ]
  },
  {
   "cell_type": "code",
   "execution_count": null,
   "metadata": {},
   "outputs": [],
   "source": [
    "features_train = pd.DataFrame(df_train, columns= ['mean_diff_per_product','std_diff_per_product','mean_diff_per_date','std_diff_per_date','hml','liquidity_rank_1', 'liquidity_rank_2','liquidity_rank_3','liquidity_rank_4','liquidity_rank_5','liquidity_rank_6','liquidity_rank_7','liquidity_rank_8','liquidity_rank_9','liquidity_rank_10','liquidity_rank_11', \"volume\",  \"fixed\", \"product_id\", \"normal_trading_day\", \"open_interest\", \"mean_target_per_product\", \"std_target_per_liquidity\",  'maturity', 'tick_size', 'mean_hml', 'high', 'low', 'dt_close'])\n",
    "features_test = pd.DataFrame(df_test, columns= ['mean_diff_per_product','std_diff_per_product','mean_diff_per_date','std_diff_per_date','hml','liquidity_rank_1', 'liquidity_rank_2','liquidity_rank_3','liquidity_rank_4','liquidity_rank_5','liquidity_rank_6','liquidity_rank_7','liquidity_rank_8','liquidity_rank_9','liquidity_rank_10','liquidity_rank_11', \"volume\",  \"fixed\", \"product_id\", \"normal_trading_day\", \"open_interest\", \"mean_target_per_product\", \"std_target_per_liquidity\",  'maturity', 'tick_size', 'mean_hml', 'high', 'low', 'dt_close'])\n",
    "\n",
    "x_train, x_val, y_train, y_val = train_test_split(features_train, df_full['spread'])\n",
    "x_test = features_test"
   ]
  },
  {
   "cell_type": "markdown",
   "metadata": {},
   "source": [
    "## XGBoost Model"
   ]
  },
  {
   "cell_type": "code",
   "execution_count": 81,
   "metadata": {},
   "outputs": [],
   "source": [
    "from xgboost import XGBClassifier, XGBRegressor\n",
    "from sklearn.model_selection import GridSearchCV"
   ]
  },
  {
   "cell_type": "code",
   "execution_count": null,
   "metadata": {},
   "outputs": [],
   "source": [
    "depths = range(10, 15)\n",
    "estimators = range(100,350,100)\n",
    "all_rmse_train = []\n",
    "all_rmse_val = []\n",
    "experiments  = []\n",
    "all_rmse_train_tree = []\n",
    "all_rmse_train_forest = []\n",
    "all_rmse_val_tree = []\n",
    "all_rmse_val_forest = []\n",
    "\n",
    "\n",
    "for depth in depths: \n",
    "    for estimator in estimators:\n",
    "        # Random Forest\n",
    "        clf_xgb = XGBRegressor(objective='reg:squarederror', n_estimators=estimator, max_depth=depth)\n",
    "        model_xgb = clf_xgb.fit(x_train, y_train)\n",
    "\n",
    "        pred_train = pd.Series(model_xgb.predict(x_train), index=y_train.index)\n",
    "        pred_val = pd.Series(model_xgb.predict(x_val), index=y_val.index)\n",
    "\n",
    "\n",
    "        # Compute MSLE evaluation metrics\n",
    "        rmse_train = compute_rmse(y_train, pred_train)\n",
    "        rmse_val = compute_rmse(y_val, pred_val)\n",
    "\n",
    "        print(\"depth = %s |estimator = %s | RMSE train = %s | RMSE val = %s\" % (depth, estimator, rmse_train, rmse_val))"
   ]
  },
  {
   "cell_type": "code",
   "execution_count": 131,
   "metadata": {
    "scrolled": true
   },
   "outputs": [
    {
     "name": "stdout",
     "output_type": "stream",
     "text": [
      "RMSE score on train dataset : 0.4082135890980154\n",
      "RMSE score on validation dataset : 0.7228224667617682\n"
     ]
    }
   ],
   "source": [
    "model = XGBRegressor(objective='reg:squarederror', max_depth = 10, n_estimators=200)\n",
    "model_xgb = model.fit(x_train, y_train)\n",
    "\n",
    "pred_train = model_xgb.predict(x_train)\n",
    "pred_val = model_xgb.predict(x_val)\n",
    "pred_test = model_xgb.predict(x_test)\n",
    "\n",
    "rmse_train = compute_rmse(y_train, pred_train)\n",
    "rmse_val = compute_rmse(y_val, pred_val)\n",
    "\n",
    "print(\"RMSE score on train dataset : %s\" % rmse_train)\n",
    "print(\"RMSE score on validation dataset : %s\" % rmse_val)"
   ]
  },
  {
   "cell_type": "markdown",
   "metadata": {},
   "source": [
    "## Neural Network"
   ]
  },
  {
   "cell_type": "code",
   "execution_count": null,
   "metadata": {},
   "outputs": [
    {
     "name": "stdout",
     "output_type": "stream",
     "text": [
      "Epoch 1/3\n",
      "  241/14757 [..............................] - ETA: 7:52 - loss: 64588791808.0000 - mean_squared_logarithmic_error: 2.3927"
     ]
    }
   ],
   "source": [
    "import keras\n",
    "import tensorflow as tf\n",
    "from keras.layers import Dense\n",
    "from keras.models import Sequential\n",
    "\n",
    "model = Sequential()\n",
    "model.add(Dense(2500, input_dim=len(x_train.columns), activation='relu', name='layer_input'))\n",
    "model.add(Dense(1000, activation='relu', name='layer_1'))\n",
    "model.add(Dense(500, activation='relu', name='layer_2'))\n",
    "model.add(Dense(100, activation='relu', name='layer_3'))\n",
    "model.add(Dense(30, activation='relu', name='layer_4'))\n",
    "model.add(Dense(1, activation='relu', name='layer_output')) \n",
    "\n",
    "optimizer=\"adam\"\n",
    "loss=\"mean_squared_error\"\n",
    "metrics = ['mean_squared_logarithmic_error']\n",
    "model.compile(loss=loss, optimizer=optimizer, metrics=metrics)\n",
    "\n",
    "\n",
    "epochs = 3\n",
    "batch_size = None\n",
    "model_trained = model.fit(x_train, y_train, epochs=epochs, batch_size=batch_size, validation_data=(x_val, y_val))"
   ]
  },
  {
   "cell_type": "code",
   "execution_count": 88,
   "metadata": {},
   "outputs": [
    {
     "name": "stdout",
     "output_type": "stream",
     "text": [
      "RMSE score on train dataset : 3.8094118776841372\n",
      "RMSE score on validation dataset : 3.811780254381318\n"
     ]
    }
   ],
   "source": [
    "pred_train = model.predict(x_train)\n",
    "pred_val = model.predict(x_val)\n",
    "\n",
    "\n",
    "rmse_train = compute_rmse(y_train, pred_train)\n",
    "rmse_val = compute_rmse(y_val, pred_val)\n",
    "\n",
    "print(\"RMSE score on train dataset : %s\" % rmse_train)\n",
    "print(\"RMSE score on validation dataset : %s\" % rmse_val)"
   ]
  },
  {
   "cell_type": "code",
   "execution_count": 84,
   "metadata": {},
   "outputs": [],
   "source": [
    "from sklearn.cluster import KMeans"
   ]
  },
  {
   "cell_type": "code",
   "execution_count": 91,
   "metadata": {},
   "outputs": [
    {
     "data": {
      "text/plain": [
       "KMeans(max_iter=2000, n_clusters=5)"
      ]
     },
     "execution_count": 91,
     "metadata": {},
     "output_type": "execute_result"
    }
   ],
   "source": [
    "kmeans = KMeans(n_clusters = 5, max_iter = 2000, algorithm = 'auto')\n",
    "kmeans.fit(x_train)"
   ]
  },
  {
   "cell_type": "code",
   "execution_count": null,
   "metadata": {},
   "outputs": [],
   "source": []
  },
  {
   "cell_type": "markdown",
   "metadata": {},
   "source": [
    "# Step 4 - Final run\n",
    "\n",
    "According to previous steps results and your own interpretation, run your best machine learning algorithm and make  predictions on the test set. Then export your results in and make submission on Kaggle platform."
   ]
  },
  {
   "cell_type": "markdown",
   "metadata": {},
   "source": [
    "## Run your best model and make prediction on test set\n",
    "\n",
    "For this first experiment, use the vanilla linear regresson we have experimented in step 3. Make predictions on the test set and assign the results to variable **pred_test**."
   ]
  },
  {
   "cell_type": "code",
   "execution_count": 92,
   "metadata": {},
   "outputs": [],
   "source": [
    "features_train = pd.DataFrame(df_train, columns= ['mean_diff_per_product','std_diff_per_product','mean_diff_per_date','std_diff_per_date','hml','liquidity_rank_1', 'liquidity_rank_2','liquidity_rank_3','liquidity_rank_4','liquidity_rank_5','liquidity_rank_6','liquidity_rank_7','liquidity_rank_8','liquidity_rank_9','liquidity_rank_10','liquidity_rank_11', \"volume\",  \"fixed\", \"product_id\", \"normal_trading_day\", \"open_interest\", \"mean_target_per_product\", \"std_target_per_liquidity\",  'maturity', 'tick_size', 'mean_hml', 'high', 'low', 'dt_close'])\n",
    "features_test = pd.DataFrame(df_test, columns= ['mean_diff_per_product','std_diff_per_product','mean_diff_per_date','std_diff_per_date','hml','liquidity_rank_1', 'liquidity_rank_2','liquidity_rank_3','liquidity_rank_4','liquidity_rank_5','liquidity_rank_6','liquidity_rank_7','liquidity_rank_8','liquidity_rank_9','liquidity_rank_10','liquidity_rank_11', \"volume\",  \"fixed\", \"product_id\", \"normal_trading_day\", \"open_interest\", \"mean_target_per_product\", \"std_target_per_liquidity\",  'maturity', 'tick_size', 'mean_hml', 'high', 'low', 'dt_close'])"
   ]
  },
  {
   "cell_type": "code",
   "execution_count": 101,
   "metadata": {},
   "outputs": [],
   "source": [
    "x_train, x_val, y_train, y_val = train_test_split(features_train, df_full['spread'])\n",
    "x_test = features_test"
   ]
  },
  {
   "cell_type": "code",
   "execution_count": 94,
   "metadata": {
    "scrolled": true
   },
   "outputs": [
    {
     "name": "stdout",
     "output_type": "stream",
     "text": [
      "RMSE train : 0.27765106979354\n",
      "RMSE validation : 0.6919846782470672\n"
     ]
    }
   ],
   "source": [
    "clf_forest = RandomForestRegressor(n_estimators=400, max_depth=24, n_jobs=-1)\n",
    "model_forest = clf_forest.fit(x_train, y_train)\n",
    "\n",
    "pred_train = pd.Series(model_forest.predict(x_train), index=y_train.index)\n",
    "pred_val = pd.Series(model_forest.predict(x_val), index=y_val.index)\n",
    "\n",
    "rmse_train = compute_rmse(y_train, pred_train)\n",
    "rmse_val = compute_rmse(y_val, pred_val)\n",
    "\n",
    "print(\"RMSE train : %s\" % rmse_train)\n",
    "print(\"RMSE validation : %s\" % rmse_val)\n"
   ]
  },
  {
   "cell_type": "code",
   "execution_count": 104,
   "metadata": {},
   "outputs": [],
   "source": [
    "x_test = x_test.apply(lambda x: x.fillna(x.mean()),axis=0)"
   ]
  },
  {
   "cell_type": "code",
   "execution_count": 105,
   "metadata": {
    "pycharm": {
     "name": "#%%\n"
    }
   },
   "outputs": [],
   "source": [
    "pred_test = model_forest.predict(x_test)\n",
    "pred_test = pred_test.reshape(-1,1)\n",
    "pred_test.shape\n",
    "df_submit = export_ens(df_test, pred_test, True, r\"/root/LIZA/results/OrlovaE.csv\")"
   ]
  }
 ],
 "metadata": {
  "anaconda-cloud": {},
  "kernelspec": {
   "display_name": "Python 3",
   "language": "python",
   "name": "python3"
  },
  "language_info": {
   "codemirror_mode": {
    "name": "ipython",
    "version": 3
   },
   "file_extension": ".py",
   "mimetype": "text/x-python",
   "name": "python",
   "nbconvert_exporter": "python",
   "pygments_lexer": "ipython3",
   "version": "3.7.6"
  }
 },
 "nbformat": 4,
 "nbformat_minor": 1
}